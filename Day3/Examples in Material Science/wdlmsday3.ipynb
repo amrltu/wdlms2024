{
 "cells": [
  {
   "cell_type": "markdown",
   "id": "1c800f16",
   "metadata": {},
   "source": [
    "# Machine Learning Example"
   ]
  },
  {
   "cell_type": "markdown",
   "id": "37984d4d",
   "metadata": {},
   "source": [
    "###### ML is process of finding a mapping function by analysing the provided data with the help of ML algorithm and making final prediction baesd on that found mapping function."
   ]
  },
  {
   "cell_type": "markdown",
   "id": "2e702873",
   "metadata": {},
   "source": [
    "## ML Steps\n",
    "1. Data construction\n",
    "2. Data Pre-processing (\n",
    "    i. analysis\n",
    "    ii. feature correlation\n",
    "    iii. feature selection\n",
    "    iv. feature scaling)\n",
    "3. Hyper-parameter Optimization\n",
    "4. Model tuning\n",
    "5. Model evaluation"
   ]
  },
  {
   "cell_type": "markdown",
   "id": "8586a762",
   "metadata": {},
   "source": [
    "### Lets begin\n",
    "## Importing libraries"
   ]
  },
  {
   "cell_type": "code",
   "execution_count": 396,
   "id": "bd77181b",
   "metadata": {},
   "outputs": [],
   "source": [
    "#Load necessary libraries \n",
    "import pandas as pd \n",
    "import numpy as np \n",
    "import matplotlib.pyplot as plt\n",
    "from sklearn.preprocessing import MinMaxScaler, StandardScaler\n",
    "from sklearn.model_selection import train_test_split\n",
    "from sklearn.linear_model import LinearRegression\n",
    "from sklearn import metrics\n",
    "from sklearn.metrics import mean_absolute_error, mean_squared_error, r2_score, make_scorer"
   ]
  },
  {
   "cell_type": "markdown",
   "id": "98f13494",
   "metadata": {},
   "source": [
    "## Loading data"
   ]
  },
  {
   "cell_type": "code",
   "execution_count": 282,
   "id": "89ddde01",
   "metadata": {},
   "outputs": [
    {
     "name": "stdout",
     "output_type": "stream",
     "text": [
      "Excel file is sucessfully converted, Saved as half_heusler_data.csv\n"
     ]
    }
   ],
   "source": [
    "xl_file = 'half_heusler_data.xlsx'\n",
    "csv_file = 'half_heusler_data.csv'\n",
    "data = pd.read_excel(xl)\n",
    "data.to_csv(csv_file,index=False)\n",
    "print(f\"Excel file is sucessfully converted, Saved as {csv_file}\")"
   ]
  },
  {
   "cell_type": "code",
   "execution_count": 283,
   "id": "73393dfe",
   "metadata": {},
   "outputs": [
    {
     "data": {
      "text/html": [
       "<div>\n",
       "<style scoped>\n",
       "    .dataframe tbody tr th:only-of-type {\n",
       "        vertical-align: middle;\n",
       "    }\n",
       "\n",
       "    .dataframe tbody tr th {\n",
       "        vertical-align: top;\n",
       "    }\n",
       "\n",
       "    .dataframe thead th {\n",
       "        text-align: right;\n",
       "    }\n",
       "</style>\n",
       "<table border=\"1\" class=\"dataframe\">\n",
       "  <thead>\n",
       "    <tr style=\"text-align: right;\">\n",
       "      <th></th>\n",
       "      <th>Compound(xyz)</th>\n",
       "      <th>r x(Å)</th>\n",
       "      <th>ry(Å)</th>\n",
       "      <th>rz(Å)</th>\n",
       "      <th>a(Å)</th>\n",
       "      <th>ez</th>\n",
       "    </tr>\n",
       "  </thead>\n",
       "  <tbody>\n",
       "    <tr>\n",
       "      <th>0</th>\n",
       "      <td>CoMnP</td>\n",
       "      <td>0.90</td>\n",
       "      <td>0.96</td>\n",
       "      <td>0.80</td>\n",
       "      <td>5.34</td>\n",
       "      <td>2.19</td>\n",
       "    </tr>\n",
       "    <tr>\n",
       "      <th>1</th>\n",
       "      <td>CoFeP</td>\n",
       "      <td>0.90</td>\n",
       "      <td>0.78</td>\n",
       "      <td>0.80</td>\n",
       "      <td>5.35</td>\n",
       "      <td>2.19</td>\n",
       "    </tr>\n",
       "    <tr>\n",
       "      <th>2</th>\n",
       "      <td>CoMnSi</td>\n",
       "      <td>0.90</td>\n",
       "      <td>0.96</td>\n",
       "      <td>0.85</td>\n",
       "      <td>5.36</td>\n",
       "      <td>1.90</td>\n",
       "    </tr>\n",
       "    <tr>\n",
       "      <th>3</th>\n",
       "      <td>CoVP</td>\n",
       "      <td>0.90</td>\n",
       "      <td>0.72</td>\n",
       "      <td>0.80</td>\n",
       "      <td>5.36</td>\n",
       "      <td>2.19</td>\n",
       "    </tr>\n",
       "    <tr>\n",
       "      <th>4</th>\n",
       "      <td>CoCrSi</td>\n",
       "      <td>0.90</td>\n",
       "      <td>0.57</td>\n",
       "      <td>0.85</td>\n",
       "      <td>5.36</td>\n",
       "      <td>1.90</td>\n",
       "    </tr>\n",
       "    <tr>\n",
       "      <th>...</th>\n",
       "      <td>...</td>\n",
       "      <td>...</td>\n",
       "      <td>...</td>\n",
       "      <td>...</td>\n",
       "      <td>...</td>\n",
       "      <td>...</td>\n",
       "    </tr>\n",
       "    <tr>\n",
       "      <th>132</th>\n",
       "      <td>FeMnSi</td>\n",
       "      <td>0.78</td>\n",
       "      <td>0.96</td>\n",
       "      <td>0.85</td>\n",
       "      <td>5.32</td>\n",
       "      <td>1.90</td>\n",
       "    </tr>\n",
       "    <tr>\n",
       "      <th>133</th>\n",
       "      <td>FeVP</td>\n",
       "      <td>0.78</td>\n",
       "      <td>0.72</td>\n",
       "      <td>0.80</td>\n",
       "      <td>5.31</td>\n",
       "      <td>2.19</td>\n",
       "    </tr>\n",
       "    <tr>\n",
       "      <th>134</th>\n",
       "      <td>FeFeP</td>\n",
       "      <td>0.78</td>\n",
       "      <td>0.78</td>\n",
       "      <td>0.80</td>\n",
       "      <td>5.31</td>\n",
       "      <td>2.19</td>\n",
       "    </tr>\n",
       "    <tr>\n",
       "      <th>135</th>\n",
       "      <td>MnCrP</td>\n",
       "      <td>0.96</td>\n",
       "      <td>0.57</td>\n",
       "      <td>0.80</td>\n",
       "      <td>5.30</td>\n",
       "      <td>2.19</td>\n",
       "    </tr>\n",
       "    <tr>\n",
       "      <th>136</th>\n",
       "      <td>FeCrP</td>\n",
       "      <td>0.78</td>\n",
       "      <td>0.57</td>\n",
       "      <td>0.80</td>\n",
       "      <td>5.29</td>\n",
       "      <td>2.19</td>\n",
       "    </tr>\n",
       "  </tbody>\n",
       "</table>\n",
       "<p>137 rows × 6 columns</p>\n",
       "</div>"
      ],
      "text/plain": [
       "    Compound(xyz)  r x(Å)  ry(Å)  rz(Å)  a(Å)    ez\n",
       "0           CoMnP    0.90   0.96   0.80  5.34  2.19\n",
       "1           CoFeP    0.90   0.78   0.80  5.35  2.19\n",
       "2          CoMnSi    0.90   0.96   0.85  5.36  1.90\n",
       "3            CoVP    0.90   0.72   0.80  5.36  2.19\n",
       "4          CoCrSi    0.90   0.57   0.85  5.36  1.90\n",
       "..            ...     ...    ...    ...   ...   ...\n",
       "132        FeMnSi    0.78   0.96   0.85  5.32  1.90\n",
       "133          FeVP    0.78   0.72   0.80  5.31  2.19\n",
       "134         FeFeP    0.78   0.78   0.80  5.31  2.19\n",
       "135         MnCrP    0.96   0.57   0.80  5.30  2.19\n",
       "136         FeCrP    0.78   0.57   0.80  5.29  2.19\n",
       "\n",
       "[137 rows x 6 columns]"
      ]
     },
     "execution_count": 283,
     "metadata": {},
     "output_type": "execute_result"
    }
   ],
   "source": [
    "#uploading converted csv_file\n",
    "data = pd.read_csv(csv_file)\n",
    "data"
   ]
  },
  {
   "cell_type": "markdown",
   "id": "5bb5d94d",
   "metadata": {},
   "source": [
    "## Data Preprocessing\n",
    "  \n",
    "      Analysing and handling missing data\n",
    "      Data visualization, removing outliers\n",
    "      Encoding catagorical values\n",
    "      Feature scaling\n",
    "      Feature engineering\n",
    " "
   ]
  },
  {
   "cell_type": "code",
   "execution_count": 284,
   "id": "a32deebb",
   "metadata": {},
   "outputs": [
    {
     "data": {
      "text/plain": [
       "RangeIndex(start=0, stop=137, step=1)"
      ]
     },
     "execution_count": 284,
     "metadata": {},
     "output_type": "execute_result"
    }
   ],
   "source": [
    "#data range\n",
    "data.index"
   ]
  },
  {
   "cell_type": "code",
   "execution_count": 285,
   "id": "d02febda",
   "metadata": {},
   "outputs": [
    {
     "name": "stdout",
     "output_type": "stream",
     "text": [
      "<class 'pandas.core.frame.DataFrame'>\n",
      "RangeIndex: 137 entries, 0 to 136\n",
      "Data columns (total 6 columns):\n",
      " #   Column         Non-Null Count  Dtype  \n",
      "---  ------         --------------  -----  \n",
      " 0   Compound(xyz)  137 non-null    object \n",
      " 1   r x(Å)         137 non-null    float64\n",
      " 2   ry(Å)          137 non-null    float64\n",
      " 3   rz(Å)          137 non-null    float64\n",
      " 4   a(Å)           137 non-null    float64\n",
      " 5   ez             137 non-null    float64\n",
      "dtypes: float64(5), object(1)\n",
      "memory usage: 6.6+ KB\n"
     ]
    }
   ],
   "source": [
    "#to know about data types\n",
    "data.info()\n",
    "#data.dtypes"
   ]
  },
  {
   "cell_type": "code",
   "execution_count": 286,
   "id": "d252aed8",
   "metadata": {},
   "outputs": [
    {
     "data": {
      "text/plain": [
       "Compound(xyz)    0\n",
       "r x(Å)           0\n",
       "ry(Å)            0\n",
       "rz(Å)            0\n",
       "a(Å)             0\n",
       "ez               0\n",
       "dtype: int64"
      ]
     },
     "execution_count": 286,
     "metadata": {},
     "output_type": "execute_result"
    }
   ],
   "source": [
    "data.isnull().sum(axis=0)"
   ]
  },
  {
   "cell_type": "code",
   "execution_count": 287,
   "id": "4a67eec8",
   "metadata": {},
   "outputs": [
    {
     "data": {
      "text/plain": [
       "Compound(xyz)    0\n",
       "r x(Å)           0\n",
       "ry(Å)            0\n",
       "rz(Å)            0\n",
       "a(Å)             0\n",
       "ez               0\n",
       "dtype: int64"
      ]
     },
     "execution_count": 287,
     "metadata": {},
     "output_type": "execute_result"
    }
   ],
   "source": [
    "#knowing the vaccant row or column in data\n",
    "#data.isnull().sum()\n",
    "data.isnull().sum(axis=0) #along rows for each column\n",
    "#data.isnull().sum(axis=1)#along columns for each row"
   ]
  },
  {
   "cell_type": "code",
   "execution_count": 288,
   "id": "fe80299c",
   "metadata": {},
   "outputs": [
    {
     "name": "stdout",
     "output_type": "stream",
     "text": [
      "Index([], dtype='object')\n"
     ]
    }
   ],
   "source": [
    "#Finding along columns\n",
    "null_columns = data.columns[data.isnull().any()]\n",
    "print(null_columns)"
   ]
  },
  {
   "cell_type": "code",
   "execution_count": 289,
   "id": "84eac12c",
   "metadata": {},
   "outputs": [
    {
     "name": "stdout",
     "output_type": "stream",
     "text": [
      "Int64Index([], dtype='int64')\n"
     ]
    }
   ],
   "source": [
    "#Printing rows of that particular column\n",
    "null_values = data[data['a(Å)'].isnull()]\n",
    "null_index = null_values.index\n",
    "#print(null_values)\n",
    "print(null_index)"
   ]
  },
  {
   "cell_type": "code",
   "execution_count": 290,
   "id": "2ca57630",
   "metadata": {},
   "outputs": [
    {
     "name": "stdout",
     "output_type": "stream",
     "text": [
      "Empty DataFrame\n",
      "Columns: [Compound(xyz), r x(Å), ry(Å), rz(Å), a(Å), ez]\n",
      "Index: []\n"
     ]
    }
   ],
   "source": [
    "#finding along rows\n",
    "null_rows = data[data.isnull().any(axis=1)]\n",
    "print(null_rows)"
   ]
  },
  {
   "cell_type": "code",
   "execution_count": 291,
   "id": "94a92f7a",
   "metadata": {},
   "outputs": [
    {
     "data": {
      "text/plain": [
       "True"
      ]
     },
     "execution_count": 291,
     "metadata": {},
     "output_type": "execute_result"
    }
   ],
   "source": [
    "data.duplicated().any()"
   ]
  },
  {
   "cell_type": "code",
   "execution_count": 292,
   "id": "70273673",
   "metadata": {},
   "outputs": [
    {
     "name": "stdout",
     "output_type": "stream",
     "text": [
      "   Compound(xyz)  r x(Å)  ry(Å)  rz(Å)  a(Å)    ez\n",
      "12         CrMnP    0.57   0.96    0.8  5.42  2.19\n"
     ]
    }
   ],
   "source": [
    "duplicate = data[data.duplicated()]\n",
    "print(duplicate)"
   ]
  },
  {
   "cell_type": "code",
   "execution_count": 421,
   "id": "f8bce5c4",
   "metadata": {},
   "outputs": [
    {
     "data": {
      "text/plain": [
       "Compound(xyz)    136\n",
       "r x(Å)             7\n",
       "ry(Å)              6\n",
       "rz(Å)              6\n",
       "a(Å)              71\n",
       "ez                 9\n",
       "dtype: int64"
      ]
     },
     "execution_count": 421,
     "metadata": {},
     "output_type": "execute_result"
    }
   ],
   "source": [
    "#finding non duplicate data\n",
    "data.nunique()"
   ]
  },
  {
   "cell_type": "code",
   "execution_count": 422,
   "id": "1c77f084",
   "metadata": {},
   "outputs": [
    {
     "data": {
      "text/plain": [
       "Index(['Compound(xyz)', 'r x(Å)', 'ry(Å)', 'rz(Å)', 'a(Å)', 'ez'], dtype='object')"
      ]
     },
     "execution_count": 422,
     "metadata": {},
     "output_type": "execute_result"
    }
   ],
   "source": [
    "data.columns"
   ]
  },
  {
   "cell_type": "code",
   "execution_count": 423,
   "id": "ee50377e",
   "metadata": {},
   "outputs": [
    {
     "data": {
      "text/html": [
       "<div>\n",
       "<style scoped>\n",
       "    .dataframe tbody tr th:only-of-type {\n",
       "        vertical-align: middle;\n",
       "    }\n",
       "\n",
       "    .dataframe tbody tr th {\n",
       "        vertical-align: top;\n",
       "    }\n",
       "\n",
       "    .dataframe thead th {\n",
       "        text-align: right;\n",
       "    }\n",
       "</style>\n",
       "<table border=\"1\" class=\"dataframe\">\n",
       "  <thead>\n",
       "    <tr style=\"text-align: right;\">\n",
       "      <th></th>\n",
       "      <th>Compound(xyz)</th>\n",
       "      <th>a(Å)</th>\n",
       "    </tr>\n",
       "  </thead>\n",
       "  <tbody>\n",
       "    <tr>\n",
       "      <th>0</th>\n",
       "      <td>CoMnP</td>\n",
       "      <td>5.34</td>\n",
       "    </tr>\n",
       "    <tr>\n",
       "      <th>1</th>\n",
       "      <td>CoFeP</td>\n",
       "      <td>5.35</td>\n",
       "    </tr>\n",
       "    <tr>\n",
       "      <th>2</th>\n",
       "      <td>CoMnSi</td>\n",
       "      <td>5.36</td>\n",
       "    </tr>\n",
       "    <tr>\n",
       "      <th>3</th>\n",
       "      <td>CoVP</td>\n",
       "      <td>5.36</td>\n",
       "    </tr>\n",
       "    <tr>\n",
       "      <th>4</th>\n",
       "      <td>CoCrSi</td>\n",
       "      <td>5.36</td>\n",
       "    </tr>\n",
       "    <tr>\n",
       "      <th>...</th>\n",
       "      <td>...</td>\n",
       "      <td>...</td>\n",
       "    </tr>\n",
       "    <tr>\n",
       "      <th>132</th>\n",
       "      <td>FeMnSi</td>\n",
       "      <td>5.32</td>\n",
       "    </tr>\n",
       "    <tr>\n",
       "      <th>133</th>\n",
       "      <td>FeVP</td>\n",
       "      <td>5.31</td>\n",
       "    </tr>\n",
       "    <tr>\n",
       "      <th>134</th>\n",
       "      <td>FeFeP</td>\n",
       "      <td>5.31</td>\n",
       "    </tr>\n",
       "    <tr>\n",
       "      <th>135</th>\n",
       "      <td>MnCrP</td>\n",
       "      <td>5.30</td>\n",
       "    </tr>\n",
       "    <tr>\n",
       "      <th>136</th>\n",
       "      <td>FeCrP</td>\n",
       "      <td>5.29</td>\n",
       "    </tr>\n",
       "  </tbody>\n",
       "</table>\n",
       "<p>137 rows × 2 columns</p>\n",
       "</div>"
      ],
      "text/plain": [
       "    Compound(xyz)  a(Å)\n",
       "0           CoMnP  5.34\n",
       "1           CoFeP  5.35\n",
       "2          CoMnSi  5.36\n",
       "3            CoVP  5.36\n",
       "4          CoCrSi  5.36\n",
       "..            ...   ...\n",
       "132        FeMnSi  5.32\n",
       "133          FeVP  5.31\n",
       "134         FeFeP  5.31\n",
       "135         MnCrP  5.30\n",
       "136         FeCrP  5.29\n",
       "\n",
       "[137 rows x 2 columns]"
      ]
     },
     "execution_count": 423,
     "metadata": {},
     "output_type": "execute_result"
    }
   ],
   "source": [
    "data[['Compound(xyz)','a(Å)']]"
   ]
  },
  {
   "cell_type": "code",
   "execution_count": 425,
   "id": "28bb86ba",
   "metadata": {},
   "outputs": [
    {
     "data": {
      "text/plain": [
       "5.29"
      ]
     },
     "execution_count": 425,
     "metadata": {},
     "output_type": "execute_result"
    }
   ],
   "source": [
    "#knowing tha value at apticular position\n",
    "data['a(Å)'].loc[136]"
   ]
  },
  {
   "cell_type": "code",
   "execution_count": 426,
   "id": "b212c9a5",
   "metadata": {},
   "outputs": [
    {
     "data": {
      "text/plain": [
       "Compound(xyz)    FeCrP\n",
       "r x(Å)            0.78\n",
       "ry(Å)             0.57\n",
       "rz(Å)              0.8\n",
       "a(Å)              5.29\n",
       "ez                2.19\n",
       "Name: 136, dtype: object"
      ]
     },
     "execution_count": 426,
     "metadata": {},
     "output_type": "execute_result"
    }
   ],
   "source": [
    "#printing rows\n",
    "data.loc[136]"
   ]
  },
  {
   "cell_type": "code",
   "execution_count": 427,
   "id": "c11b706c",
   "metadata": {},
   "outputs": [
    {
     "data": {
      "text/html": [
       "<div>\n",
       "<style scoped>\n",
       "    .dataframe tbody tr th:only-of-type {\n",
       "        vertical-align: middle;\n",
       "    }\n",
       "\n",
       "    .dataframe tbody tr th {\n",
       "        vertical-align: top;\n",
       "    }\n",
       "\n",
       "    .dataframe thead th {\n",
       "        text-align: right;\n",
       "    }\n",
       "</style>\n",
       "<table border=\"1\" class=\"dataframe\">\n",
       "  <thead>\n",
       "    <tr style=\"text-align: right;\">\n",
       "      <th></th>\n",
       "      <th>Compound(xyz)</th>\n",
       "      <th>r x(Å)</th>\n",
       "      <th>ry(Å)</th>\n",
       "      <th>rz(Å)</th>\n",
       "      <th>a(Å)</th>\n",
       "      <th>ez</th>\n",
       "    </tr>\n",
       "  </thead>\n",
       "  <tbody>\n",
       "    <tr>\n",
       "      <th>0</th>\n",
       "      <td>CoMnP</td>\n",
       "      <td>0.90</td>\n",
       "      <td>0.96</td>\n",
       "      <td>0.8</td>\n",
       "      <td>5.34</td>\n",
       "      <td>2.19</td>\n",
       "    </tr>\n",
       "    <tr>\n",
       "      <th>1</th>\n",
       "      <td>CoFeP</td>\n",
       "      <td>0.90</td>\n",
       "      <td>0.78</td>\n",
       "      <td>0.8</td>\n",
       "      <td>5.35</td>\n",
       "      <td>2.19</td>\n",
       "    </tr>\n",
       "    <tr>\n",
       "      <th>3</th>\n",
       "      <td>CoVP</td>\n",
       "      <td>0.90</td>\n",
       "      <td>0.72</td>\n",
       "      <td>0.8</td>\n",
       "      <td>5.36</td>\n",
       "      <td>2.19</td>\n",
       "    </tr>\n",
       "    <tr>\n",
       "      <th>7</th>\n",
       "      <td>MnVP</td>\n",
       "      <td>0.96</td>\n",
       "      <td>0.72</td>\n",
       "      <td>0.8</td>\n",
       "      <td>5.40</td>\n",
       "      <td>2.19</td>\n",
       "    </tr>\n",
       "    <tr>\n",
       "      <th>10</th>\n",
       "      <td>CrMnP</td>\n",
       "      <td>0.57</td>\n",
       "      <td>0.96</td>\n",
       "      <td>0.8</td>\n",
       "      <td>5.42</td>\n",
       "      <td>2.19</td>\n",
       "    </tr>\n",
       "    <tr>\n",
       "      <th>11</th>\n",
       "      <td>NiCrP</td>\n",
       "      <td>0.70</td>\n",
       "      <td>0.57</td>\n",
       "      <td>0.8</td>\n",
       "      <td>5.42</td>\n",
       "      <td>2.19</td>\n",
       "    </tr>\n",
       "    <tr>\n",
       "      <th>12</th>\n",
       "      <td>CrMnP</td>\n",
       "      <td>0.57</td>\n",
       "      <td>0.96</td>\n",
       "      <td>0.8</td>\n",
       "      <td>5.42</td>\n",
       "      <td>2.19</td>\n",
       "    </tr>\n",
       "    <tr>\n",
       "      <th>13</th>\n",
       "      <td>CoTiP</td>\n",
       "      <td>0.90</td>\n",
       "      <td>0.74</td>\n",
       "      <td>0.8</td>\n",
       "      <td>5.43</td>\n",
       "      <td>2.19</td>\n",
       "    </tr>\n",
       "    <tr>\n",
       "      <th>20</th>\n",
       "      <td>FeTiP</td>\n",
       "      <td>0.78</td>\n",
       "      <td>0.74</td>\n",
       "      <td>0.8</td>\n",
       "      <td>5.45</td>\n",
       "      <td>2.19</td>\n",
       "    </tr>\n",
       "    <tr>\n",
       "      <th>21</th>\n",
       "      <td>NiVP</td>\n",
       "      <td>0.70</td>\n",
       "      <td>0.72</td>\n",
       "      <td>0.8</td>\n",
       "      <td>5.45</td>\n",
       "      <td>2.19</td>\n",
       "    </tr>\n",
       "    <tr>\n",
       "      <th>22</th>\n",
       "      <td>NiMnP</td>\n",
       "      <td>0.70</td>\n",
       "      <td>0.96</td>\n",
       "      <td>0.8</td>\n",
       "      <td>5.46</td>\n",
       "      <td>2.19</td>\n",
       "    </tr>\n",
       "    <tr>\n",
       "      <th>52</th>\n",
       "      <td>RuMnP</td>\n",
       "      <td>0.95</td>\n",
       "      <td>0.96</td>\n",
       "      <td>0.8</td>\n",
       "      <td>5.59</td>\n",
       "      <td>2.19</td>\n",
       "    </tr>\n",
       "    <tr>\n",
       "      <th>54</th>\n",
       "      <td>RuVP</td>\n",
       "      <td>0.95</td>\n",
       "      <td>0.72</td>\n",
       "      <td>0.8</td>\n",
       "      <td>5.62</td>\n",
       "      <td>2.19</td>\n",
       "    </tr>\n",
       "    <tr>\n",
       "      <th>57</th>\n",
       "      <td>CrScP</td>\n",
       "      <td>0.57</td>\n",
       "      <td>0.69</td>\n",
       "      <td>0.8</td>\n",
       "      <td>5.64</td>\n",
       "      <td>2.19</td>\n",
       "    </tr>\n",
       "    <tr>\n",
       "      <th>62</th>\n",
       "      <td>RhCrP</td>\n",
       "      <td>0.79</td>\n",
       "      <td>0.57</td>\n",
       "      <td>0.8</td>\n",
       "      <td>5.65</td>\n",
       "      <td>2.19</td>\n",
       "    </tr>\n",
       "    <tr>\n",
       "      <th>64</th>\n",
       "      <td>RhVP</td>\n",
       "      <td>0.79</td>\n",
       "      <td>0.72</td>\n",
       "      <td>0.8</td>\n",
       "      <td>5.66</td>\n",
       "      <td>2.19</td>\n",
       "    </tr>\n",
       "    <tr>\n",
       "      <th>65</th>\n",
       "      <td>NiScP</td>\n",
       "      <td>0.70</td>\n",
       "      <td>0.69</td>\n",
       "      <td>0.8</td>\n",
       "      <td>5.67</td>\n",
       "      <td>2.19</td>\n",
       "    </tr>\n",
       "    <tr>\n",
       "      <th>67</th>\n",
       "      <td>RhMnP</td>\n",
       "      <td>0.79</td>\n",
       "      <td>0.96</td>\n",
       "      <td>0.8</td>\n",
       "      <td>5.67</td>\n",
       "      <td>2.19</td>\n",
       "    </tr>\n",
       "    <tr>\n",
       "      <th>122</th>\n",
       "      <td>RhTiP</td>\n",
       "      <td>0.79</td>\n",
       "      <td>0.74</td>\n",
       "      <td>0.8</td>\n",
       "      <td>5.74</td>\n",
       "      <td>2.19</td>\n",
       "    </tr>\n",
       "    <tr>\n",
       "      <th>126</th>\n",
       "      <td>RuCrP</td>\n",
       "      <td>0.95</td>\n",
       "      <td>0.57</td>\n",
       "      <td>0.8</td>\n",
       "      <td>5.58</td>\n",
       "      <td>2.19</td>\n",
       "    </tr>\n",
       "    <tr>\n",
       "      <th>129</th>\n",
       "      <td>MnMnP</td>\n",
       "      <td>0.96</td>\n",
       "      <td>0.96</td>\n",
       "      <td>0.8</td>\n",
       "      <td>5.33</td>\n",
       "      <td>2.19</td>\n",
       "    </tr>\n",
       "    <tr>\n",
       "      <th>130</th>\n",
       "      <td>FeMnP</td>\n",
       "      <td>0.78</td>\n",
       "      <td>0.96</td>\n",
       "      <td>0.8</td>\n",
       "      <td>5.32</td>\n",
       "      <td>2.19</td>\n",
       "    </tr>\n",
       "    <tr>\n",
       "      <th>131</th>\n",
       "      <td>CoCrP</td>\n",
       "      <td>0.90</td>\n",
       "      <td>0.57</td>\n",
       "      <td>0.8</td>\n",
       "      <td>5.32</td>\n",
       "      <td>2.19</td>\n",
       "    </tr>\n",
       "    <tr>\n",
       "      <th>133</th>\n",
       "      <td>FeVP</td>\n",
       "      <td>0.78</td>\n",
       "      <td>0.72</td>\n",
       "      <td>0.8</td>\n",
       "      <td>5.31</td>\n",
       "      <td>2.19</td>\n",
       "    </tr>\n",
       "    <tr>\n",
       "      <th>134</th>\n",
       "      <td>FeFeP</td>\n",
       "      <td>0.78</td>\n",
       "      <td>0.78</td>\n",
       "      <td>0.8</td>\n",
       "      <td>5.31</td>\n",
       "      <td>2.19</td>\n",
       "    </tr>\n",
       "    <tr>\n",
       "      <th>135</th>\n",
       "      <td>MnCrP</td>\n",
       "      <td>0.96</td>\n",
       "      <td>0.57</td>\n",
       "      <td>0.8</td>\n",
       "      <td>5.30</td>\n",
       "      <td>2.19</td>\n",
       "    </tr>\n",
       "    <tr>\n",
       "      <th>136</th>\n",
       "      <td>FeCrP</td>\n",
       "      <td>0.78</td>\n",
       "      <td>0.57</td>\n",
       "      <td>0.8</td>\n",
       "      <td>5.29</td>\n",
       "      <td>2.19</td>\n",
       "    </tr>\n",
       "  </tbody>\n",
       "</table>\n",
       "</div>"
      ],
      "text/plain": [
       "    Compound(xyz)  r x(Å)  ry(Å)  rz(Å)  a(Å)    ez\n",
       "0           CoMnP    0.90   0.96    0.8  5.34  2.19\n",
       "1           CoFeP    0.90   0.78    0.8  5.35  2.19\n",
       "3            CoVP    0.90   0.72    0.8  5.36  2.19\n",
       "7            MnVP    0.96   0.72    0.8  5.40  2.19\n",
       "10          CrMnP    0.57   0.96    0.8  5.42  2.19\n",
       "11          NiCrP    0.70   0.57    0.8  5.42  2.19\n",
       "12          CrMnP    0.57   0.96    0.8  5.42  2.19\n",
       "13          CoTiP    0.90   0.74    0.8  5.43  2.19\n",
       "20          FeTiP    0.78   0.74    0.8  5.45  2.19\n",
       "21           NiVP    0.70   0.72    0.8  5.45  2.19\n",
       "22          NiMnP    0.70   0.96    0.8  5.46  2.19\n",
       "52          RuMnP    0.95   0.96    0.8  5.59  2.19\n",
       "54           RuVP    0.95   0.72    0.8  5.62  2.19\n",
       "57          CrScP    0.57   0.69    0.8  5.64  2.19\n",
       "62          RhCrP    0.79   0.57    0.8  5.65  2.19\n",
       "64           RhVP    0.79   0.72    0.8  5.66  2.19\n",
       "65          NiScP    0.70   0.69    0.8  5.67  2.19\n",
       "67          RhMnP    0.79   0.96    0.8  5.67  2.19\n",
       "122         RhTiP    0.79   0.74    0.8  5.74  2.19\n",
       "126         RuCrP    0.95   0.57    0.8  5.58  2.19\n",
       "129         MnMnP    0.96   0.96    0.8  5.33  2.19\n",
       "130         FeMnP    0.78   0.96    0.8  5.32  2.19\n",
       "131         CoCrP    0.90   0.57    0.8  5.32  2.19\n",
       "133          FeVP    0.78   0.72    0.8  5.31  2.19\n",
       "134         FeFeP    0.78   0.78    0.8  5.31  2.19\n",
       "135         MnCrP    0.96   0.57    0.8  5.30  2.19\n",
       "136         FeCrP    0.78   0.57    0.8  5.29  2.19"
      ]
     },
     "execution_count": 427,
     "metadata": {},
     "output_type": "execute_result"
    }
   ],
   "source": [
    "#matching the values\n",
    "data[data['ez']==2.19]"
   ]
  },
  {
   "cell_type": "code",
   "execution_count": 428,
   "id": "a5b164eb",
   "metadata": {},
   "outputs": [
    {
     "data": {
      "text/html": [
       "<div>\n",
       "<style scoped>\n",
       "    .dataframe tbody tr th:only-of-type {\n",
       "        vertical-align: middle;\n",
       "    }\n",
       "\n",
       "    .dataframe tbody tr th {\n",
       "        vertical-align: top;\n",
       "    }\n",
       "\n",
       "    .dataframe thead th {\n",
       "        text-align: right;\n",
       "    }\n",
       "</style>\n",
       "<table border=\"1\" class=\"dataframe\">\n",
       "  <thead>\n",
       "    <tr style=\"text-align: right;\">\n",
       "      <th></th>\n",
       "      <th>Compound(xyz)</th>\n",
       "      <th>r x(Å)</th>\n",
       "      <th>ry(Å)</th>\n",
       "      <th>rz(Å)</th>\n",
       "      <th>a(Å)</th>\n",
       "      <th>ez</th>\n",
       "    </tr>\n",
       "  </thead>\n",
       "  <tbody>\n",
       "    <tr>\n",
       "      <th>2</th>\n",
       "      <td>CoMnSi</td>\n",
       "      <td>0.90</td>\n",
       "      <td>0.96</td>\n",
       "      <td>0.85</td>\n",
       "      <td>5.36</td>\n",
       "      <td>1.90</td>\n",
       "    </tr>\n",
       "    <tr>\n",
       "      <th>4</th>\n",
       "      <td>CoCrSi</td>\n",
       "      <td>0.90</td>\n",
       "      <td>0.57</td>\n",
       "      <td>0.85</td>\n",
       "      <td>5.36</td>\n",
       "      <td>1.90</td>\n",
       "    </tr>\n",
       "    <tr>\n",
       "      <th>5</th>\n",
       "      <td>CoFeSi</td>\n",
       "      <td>0.90</td>\n",
       "      <td>0.78</td>\n",
       "      <td>0.85</td>\n",
       "      <td>5.36</td>\n",
       "      <td>1.90</td>\n",
       "    </tr>\n",
       "    <tr>\n",
       "      <th>6</th>\n",
       "      <td>MnMnSi</td>\n",
       "      <td>0.96</td>\n",
       "      <td>0.96</td>\n",
       "      <td>0.85</td>\n",
       "      <td>5.37</td>\n",
       "      <td>1.90</td>\n",
       "    </tr>\n",
       "    <tr>\n",
       "      <th>8</th>\n",
       "      <td>CoVSi</td>\n",
       "      <td>0.90</td>\n",
       "      <td>0.72</td>\n",
       "      <td>0.85</td>\n",
       "      <td>5.41</td>\n",
       "      <td>1.90</td>\n",
       "    </tr>\n",
       "    <tr>\n",
       "      <th>...</th>\n",
       "      <td>...</td>\n",
       "      <td>...</td>\n",
       "      <td>...</td>\n",
       "      <td>...</td>\n",
       "      <td>...</td>\n",
       "      <td>...</td>\n",
       "    </tr>\n",
       "    <tr>\n",
       "      <th>124</th>\n",
       "      <td>NiVAs</td>\n",
       "      <td>0.70</td>\n",
       "      <td>0.72</td>\n",
       "      <td>0.79</td>\n",
       "      <td>5.62</td>\n",
       "      <td>2.18</td>\n",
       "    </tr>\n",
       "    <tr>\n",
       "      <th>125</th>\n",
       "      <td>CoTiAs</td>\n",
       "      <td>0.90</td>\n",
       "      <td>0.74</td>\n",
       "      <td>0.79</td>\n",
       "      <td>5.61</td>\n",
       "      <td>2.18</td>\n",
       "    </tr>\n",
       "    <tr>\n",
       "      <th>127</th>\n",
       "      <td>NiTiSi</td>\n",
       "      <td>0.70</td>\n",
       "      <td>0.74</td>\n",
       "      <td>0.85</td>\n",
       "      <td>5.56</td>\n",
       "      <td>1.90</td>\n",
       "    </tr>\n",
       "    <tr>\n",
       "      <th>128</th>\n",
       "      <td>FeCrSi</td>\n",
       "      <td>0.78</td>\n",
       "      <td>0.57</td>\n",
       "      <td>0.85</td>\n",
       "      <td>5.33</td>\n",
       "      <td>1.90</td>\n",
       "    </tr>\n",
       "    <tr>\n",
       "      <th>132</th>\n",
       "      <td>FeMnSi</td>\n",
       "      <td>0.78</td>\n",
       "      <td>0.96</td>\n",
       "      <td>0.85</td>\n",
       "      <td>5.32</td>\n",
       "      <td>1.90</td>\n",
       "    </tr>\n",
       "  </tbody>\n",
       "</table>\n",
       "<p>110 rows × 6 columns</p>\n",
       "</div>"
      ],
      "text/plain": [
       "    Compound(xyz)  r x(Å)  ry(Å)  rz(Å)  a(Å)    ez\n",
       "2          CoMnSi    0.90   0.96   0.85  5.36  1.90\n",
       "4          CoCrSi    0.90   0.57   0.85  5.36  1.90\n",
       "5          CoFeSi    0.90   0.78   0.85  5.36  1.90\n",
       "6          MnMnSi    0.96   0.96   0.85  5.37  1.90\n",
       "8           CoVSi    0.90   0.72   0.85  5.41  1.90\n",
       "..            ...     ...    ...    ...   ...   ...\n",
       "124         NiVAs    0.70   0.72   0.79  5.62  2.18\n",
       "125        CoTiAs    0.90   0.74   0.79  5.61  2.18\n",
       "127        NiTiSi    0.70   0.74   0.85  5.56  1.90\n",
       "128        FeCrSi    0.78   0.57   0.85  5.33  1.90\n",
       "132        FeMnSi    0.78   0.96   0.85  5.32  1.90\n",
       "\n",
       "[110 rows x 6 columns]"
      ]
     },
     "execution_count": 428,
     "metadata": {},
     "output_type": "execute_result"
    }
   ],
   "source": [
    "data[data['ez']<2.19]"
   ]
  },
  {
   "cell_type": "code",
   "execution_count": 429,
   "id": "9c56062c",
   "metadata": {},
   "outputs": [
    {
     "data": {
      "text/html": [
       "<div>\n",
       "<style scoped>\n",
       "    .dataframe tbody tr th:only-of-type {\n",
       "        vertical-align: middle;\n",
       "    }\n",
       "\n",
       "    .dataframe tbody tr th {\n",
       "        vertical-align: top;\n",
       "    }\n",
       "\n",
       "    .dataframe thead th {\n",
       "        text-align: right;\n",
       "    }\n",
       "</style>\n",
       "<table border=\"1\" class=\"dataframe\">\n",
       "  <thead>\n",
       "    <tr style=\"text-align: right;\">\n",
       "      <th></th>\n",
       "      <th>a(Å)</th>\n",
       "      <th>ez</th>\n",
       "    </tr>\n",
       "  </thead>\n",
       "  <tbody>\n",
       "    <tr>\n",
       "      <th>0</th>\n",
       "      <td>5.34</td>\n",
       "      <td>2.19</td>\n",
       "    </tr>\n",
       "    <tr>\n",
       "      <th>1</th>\n",
       "      <td>5.35</td>\n",
       "      <td>2.19</td>\n",
       "    </tr>\n",
       "    <tr>\n",
       "      <th>3</th>\n",
       "      <td>5.36</td>\n",
       "      <td>2.19</td>\n",
       "    </tr>\n",
       "    <tr>\n",
       "      <th>7</th>\n",
       "      <td>5.40</td>\n",
       "      <td>2.19</td>\n",
       "    </tr>\n",
       "    <tr>\n",
       "      <th>10</th>\n",
       "      <td>5.42</td>\n",
       "      <td>2.19</td>\n",
       "    </tr>\n",
       "    <tr>\n",
       "      <th>11</th>\n",
       "      <td>5.42</td>\n",
       "      <td>2.19</td>\n",
       "    </tr>\n",
       "    <tr>\n",
       "      <th>12</th>\n",
       "      <td>5.42</td>\n",
       "      <td>2.19</td>\n",
       "    </tr>\n",
       "    <tr>\n",
       "      <th>13</th>\n",
       "      <td>5.43</td>\n",
       "      <td>2.19</td>\n",
       "    </tr>\n",
       "    <tr>\n",
       "      <th>20</th>\n",
       "      <td>5.45</td>\n",
       "      <td>2.19</td>\n",
       "    </tr>\n",
       "    <tr>\n",
       "      <th>21</th>\n",
       "      <td>5.45</td>\n",
       "      <td>2.19</td>\n",
       "    </tr>\n",
       "    <tr>\n",
       "      <th>22</th>\n",
       "      <td>5.46</td>\n",
       "      <td>2.19</td>\n",
       "    </tr>\n",
       "    <tr>\n",
       "      <th>52</th>\n",
       "      <td>5.59</td>\n",
       "      <td>2.19</td>\n",
       "    </tr>\n",
       "    <tr>\n",
       "      <th>54</th>\n",
       "      <td>5.62</td>\n",
       "      <td>2.19</td>\n",
       "    </tr>\n",
       "    <tr>\n",
       "      <th>57</th>\n",
       "      <td>5.64</td>\n",
       "      <td>2.19</td>\n",
       "    </tr>\n",
       "    <tr>\n",
       "      <th>62</th>\n",
       "      <td>5.65</td>\n",
       "      <td>2.19</td>\n",
       "    </tr>\n",
       "    <tr>\n",
       "      <th>64</th>\n",
       "      <td>5.66</td>\n",
       "      <td>2.19</td>\n",
       "    </tr>\n",
       "    <tr>\n",
       "      <th>65</th>\n",
       "      <td>5.67</td>\n",
       "      <td>2.19</td>\n",
       "    </tr>\n",
       "    <tr>\n",
       "      <th>67</th>\n",
       "      <td>5.67</td>\n",
       "      <td>2.19</td>\n",
       "    </tr>\n",
       "    <tr>\n",
       "      <th>122</th>\n",
       "      <td>5.74</td>\n",
       "      <td>2.19</td>\n",
       "    </tr>\n",
       "    <tr>\n",
       "      <th>126</th>\n",
       "      <td>5.58</td>\n",
       "      <td>2.19</td>\n",
       "    </tr>\n",
       "    <tr>\n",
       "      <th>129</th>\n",
       "      <td>5.33</td>\n",
       "      <td>2.19</td>\n",
       "    </tr>\n",
       "    <tr>\n",
       "      <th>130</th>\n",
       "      <td>5.32</td>\n",
       "      <td>2.19</td>\n",
       "    </tr>\n",
       "    <tr>\n",
       "      <th>131</th>\n",
       "      <td>5.32</td>\n",
       "      <td>2.19</td>\n",
       "    </tr>\n",
       "    <tr>\n",
       "      <th>133</th>\n",
       "      <td>5.31</td>\n",
       "      <td>2.19</td>\n",
       "    </tr>\n",
       "    <tr>\n",
       "      <th>134</th>\n",
       "      <td>5.31</td>\n",
       "      <td>2.19</td>\n",
       "    </tr>\n",
       "    <tr>\n",
       "      <th>135</th>\n",
       "      <td>5.30</td>\n",
       "      <td>2.19</td>\n",
       "    </tr>\n",
       "    <tr>\n",
       "      <th>136</th>\n",
       "      <td>5.29</td>\n",
       "      <td>2.19</td>\n",
       "    </tr>\n",
       "  </tbody>\n",
       "</table>\n",
       "</div>"
      ],
      "text/plain": [
       "     a(Å)    ez\n",
       "0    5.34  2.19\n",
       "1    5.35  2.19\n",
       "3    5.36  2.19\n",
       "7    5.40  2.19\n",
       "10   5.42  2.19\n",
       "11   5.42  2.19\n",
       "12   5.42  2.19\n",
       "13   5.43  2.19\n",
       "20   5.45  2.19\n",
       "21   5.45  2.19\n",
       "22   5.46  2.19\n",
       "52   5.59  2.19\n",
       "54   5.62  2.19\n",
       "57   5.64  2.19\n",
       "62   5.65  2.19\n",
       "64   5.66  2.19\n",
       "65   5.67  2.19\n",
       "67   5.67  2.19\n",
       "122  5.74  2.19\n",
       "126  5.58  2.19\n",
       "129  5.33  2.19\n",
       "130  5.32  2.19\n",
       "131  5.32  2.19\n",
       "133  5.31  2.19\n",
       "134  5.31  2.19\n",
       "135  5.30  2.19\n",
       "136  5.29  2.19"
      ]
     },
     "execution_count": 429,
     "metadata": {},
     "output_type": "execute_result"
    }
   ],
   "source": [
    "#printing columns that corresponds to maximum value of another column\n",
    "data[['a(Å)','ez']][data.ez==data['ez'].max()]"
   ]
  },
  {
   "cell_type": "code",
   "execution_count": 430,
   "id": "e01b5dd6",
   "metadata": {},
   "outputs": [
    {
     "data": {
      "text/plain": [
       "2.0264233576642336"
      ]
     },
     "execution_count": 430,
     "metadata": {},
     "output_type": "execute_result"
    }
   ],
   "source": [
    "#printinng statistical parameter\n",
    "data.ez.mean()"
   ]
  },
  {
   "cell_type": "code",
   "execution_count": 431,
   "id": "0e1c1be9",
   "metadata": {},
   "outputs": [
    {
     "data": {
      "text/plain": [
       "2.19"
      ]
     },
     "execution_count": 431,
     "metadata": {},
     "output_type": "execute_result"
    }
   ],
   "source": [
    "data.ez.max()"
   ]
  },
  {
   "cell_type": "code",
   "execution_count": 432,
   "id": "c4b30277",
   "metadata": {},
   "outputs": [
    {
     "data": {
      "text/html": [
       "<div>\n",
       "<style scoped>\n",
       "    .dataframe tbody tr th:only-of-type {\n",
       "        vertical-align: middle;\n",
       "    }\n",
       "\n",
       "    .dataframe tbody tr th {\n",
       "        vertical-align: top;\n",
       "    }\n",
       "\n",
       "    .dataframe thead th {\n",
       "        text-align: right;\n",
       "    }\n",
       "</style>\n",
       "<table border=\"1\" class=\"dataframe\">\n",
       "  <thead>\n",
       "    <tr style=\"text-align: right;\">\n",
       "      <th></th>\n",
       "      <th>r x(Å)</th>\n",
       "      <th>ry(Å)</th>\n",
       "      <th>rz(Å)</th>\n",
       "      <th>a(Å)</th>\n",
       "      <th>ez</th>\n",
       "    </tr>\n",
       "  </thead>\n",
       "  <tbody>\n",
       "    <tr>\n",
       "      <th>count</th>\n",
       "      <td>137.000000</td>\n",
       "      <td>137.000000</td>\n",
       "      <td>137.000000</td>\n",
       "      <td>137.000000</td>\n",
       "      <td>137.000000</td>\n",
       "    </tr>\n",
       "    <tr>\n",
       "      <th>mean</th>\n",
       "      <td>0.811387</td>\n",
       "      <td>0.751752</td>\n",
       "      <td>0.811314</td>\n",
       "      <td>5.656204</td>\n",
       "      <td>2.026423</td>\n",
       "    </tr>\n",
       "    <tr>\n",
       "      <th>std</th>\n",
       "      <td>0.116102</td>\n",
       "      <td>0.135136</td>\n",
       "      <td>0.031804</td>\n",
       "      <td>0.231600</td>\n",
       "      <td>0.164999</td>\n",
       "    </tr>\n",
       "    <tr>\n",
       "      <th>min</th>\n",
       "      <td>0.570000</td>\n",
       "      <td>0.570000</td>\n",
       "      <td>0.790000</td>\n",
       "      <td>5.290000</td>\n",
       "      <td>1.610000</td>\n",
       "    </tr>\n",
       "    <tr>\n",
       "      <th>25%</th>\n",
       "      <td>0.700000</td>\n",
       "      <td>0.690000</td>\n",
       "      <td>0.790000</td>\n",
       "      <td>5.480000</td>\n",
       "      <td>1.900000</td>\n",
       "    </tr>\n",
       "    <tr>\n",
       "      <th>50%</th>\n",
       "      <td>0.790000</td>\n",
       "      <td>0.740000</td>\n",
       "      <td>0.800000</td>\n",
       "      <td>5.620000</td>\n",
       "      <td>2.050000</td>\n",
       "    </tr>\n",
       "    <tr>\n",
       "      <th>75%</th>\n",
       "      <td>0.900000</td>\n",
       "      <td>0.780000</td>\n",
       "      <td>0.810000</td>\n",
       "      <td>5.810000</td>\n",
       "      <td>2.180000</td>\n",
       "    </tr>\n",
       "    <tr>\n",
       "      <th>max</th>\n",
       "      <td>0.960000</td>\n",
       "      <td>0.960000</td>\n",
       "      <td>0.920000</td>\n",
       "      <td>6.430000</td>\n",
       "      <td>2.190000</td>\n",
       "    </tr>\n",
       "  </tbody>\n",
       "</table>\n",
       "</div>"
      ],
      "text/plain": [
       "           r x(Å)       ry(Å)       rz(Å)        a(Å)          ez\n",
       "count  137.000000  137.000000  137.000000  137.000000  137.000000\n",
       "mean     0.811387    0.751752    0.811314    5.656204    2.026423\n",
       "std      0.116102    0.135136    0.031804    0.231600    0.164999\n",
       "min      0.570000    0.570000    0.790000    5.290000    1.610000\n",
       "25%      0.700000    0.690000    0.790000    5.480000    1.900000\n",
       "50%      0.790000    0.740000    0.800000    5.620000    2.050000\n",
       "75%      0.900000    0.780000    0.810000    5.810000    2.180000\n",
       "max      0.960000    0.960000    0.920000    6.430000    2.190000"
      ]
     },
     "execution_count": 432,
     "metadata": {},
     "output_type": "execute_result"
    }
   ],
   "source": [
    "data.describe()"
   ]
  },
  {
   "cell_type": "code",
   "execution_count": 433,
   "id": "f19a36da",
   "metadata": {},
   "outputs": [
    {
     "data": {
      "image/png": "[encoded data removed]",
      "text/plain": [
       "<Figure size 640x480 with 1 Axes>"
      ]
     },
     "metadata": {},
     "output_type": "display_data"
    }
   ],
   "source": [
    "#Visulising data\n",
    "# 1. Histogram\n",
    "import seaborn as sns\n",
    "sns.set_style('whitegrid')\n",
    "sns.histplot(data['ez'], bins = 20, color='green',edgecolor='black')\n",
    "plt.xlabel(\"Lattice parameter\")\n",
    "plt.ylabel(\"frequency\")\n",
    "\n",
    "plt.show()"
   ]
  },
  {
   "cell_type": "code",
   "execution_count": 305,
   "id": "967c24de",
   "metadata": {},
   "outputs": [
    {
     "data": {
      "image/png": "[encoded data removed]",
      "text/plain": [
       "<Figure size 640x480 with 1 Axes>"
      ]
     },
     "metadata": {},
     "output_type": "display_data"
    }
   ],
   "source": [
    "data.boxplot()\n",
    "plt.show()"
   ]
  },
  {
   "cell_type": "code",
   "execution_count": 306,
   "id": "27e1a839",
   "metadata": {
    "scrolled": true
   },
   "outputs": [
    {
     "name": "stderr",
     "output_type": "stream",
     "text": [
      "/tmp/ipykernel_4340/3275554246.py:1: FutureWarning: The default value of numeric_only in DataFrame.corr is deprecated. In a future version, it will default to False. Select only valid columns or specify the value of numeric_only to silence this warning.\n",
      "  sns.heatmap(data.corr(),annot=True,cmap='coolwarm',fmt='.2f',linewidths=0.5)\n"
     ]
    },
    {
     "data": {
      "image/png": "[encoded data removed]",
      "text/plain": [
       "<Figure size 640x480 with 2 Axes>"
      ]
     },
     "metadata": {},
     "output_type": "display_data"
    }
   ],
   "source": [
    "sns.heatmap(data.corr(),annot=True,cmap='coolwarm',fmt='.2f',linewidths=0.5)\n",
    "plt.show()"
   ]
  },
  {
   "cell_type": "markdown",
   "id": "78177836",
   "metadata": {},
   "source": [
    "## Feature engineering\n",
    "### 1. Labeling features and target"
   ]
  },
  {
   "cell_type": "code",
   "execution_count": 434,
   "id": "7a140729",
   "metadata": {},
   "outputs": [
    {
     "data": {
      "text/html": [
       "<div>\n",
       "<style scoped>\n",
       "    .dataframe tbody tr th:only-of-type {\n",
       "        vertical-align: middle;\n",
       "    }\n",
       "\n",
       "    .dataframe tbody tr th {\n",
       "        vertical-align: top;\n",
       "    }\n",
       "\n",
       "    .dataframe thead th {\n",
       "        text-align: right;\n",
       "    }\n",
       "</style>\n",
       "<table border=\"1\" class=\"dataframe\">\n",
       "  <thead>\n",
       "    <tr style=\"text-align: right;\">\n",
       "      <th></th>\n",
       "      <th>Compound(xyz)</th>\n",
       "      <th>r x(Å)</th>\n",
       "      <th>ry(Å)</th>\n",
       "      <th>rz(Å)</th>\n",
       "      <th>a(Å)</th>\n",
       "      <th>ez</th>\n",
       "    </tr>\n",
       "  </thead>\n",
       "  <tbody>\n",
       "    <tr>\n",
       "      <th>0</th>\n",
       "      <td>CoMnP</td>\n",
       "      <td>0.90</td>\n",
       "      <td>0.96</td>\n",
       "      <td>0.80</td>\n",
       "      <td>5.34</td>\n",
       "      <td>2.19</td>\n",
       "    </tr>\n",
       "    <tr>\n",
       "      <th>1</th>\n",
       "      <td>CoFeP</td>\n",
       "      <td>0.90</td>\n",
       "      <td>0.78</td>\n",
       "      <td>0.80</td>\n",
       "      <td>5.35</td>\n",
       "      <td>2.19</td>\n",
       "    </tr>\n",
       "    <tr>\n",
       "      <th>2</th>\n",
       "      <td>CoMnSi</td>\n",
       "      <td>0.90</td>\n",
       "      <td>0.96</td>\n",
       "      <td>0.85</td>\n",
       "      <td>5.36</td>\n",
       "      <td>1.90</td>\n",
       "    </tr>\n",
       "    <tr>\n",
       "      <th>3</th>\n",
       "      <td>CoVP</td>\n",
       "      <td>0.90</td>\n",
       "      <td>0.72</td>\n",
       "      <td>0.80</td>\n",
       "      <td>5.36</td>\n",
       "      <td>2.19</td>\n",
       "    </tr>\n",
       "    <tr>\n",
       "      <th>4</th>\n",
       "      <td>CoCrSi</td>\n",
       "      <td>0.90</td>\n",
       "      <td>0.57</td>\n",
       "      <td>0.85</td>\n",
       "      <td>5.36</td>\n",
       "      <td>1.90</td>\n",
       "    </tr>\n",
       "    <tr>\n",
       "      <th>...</th>\n",
       "      <td>...</td>\n",
       "      <td>...</td>\n",
       "      <td>...</td>\n",
       "      <td>...</td>\n",
       "      <td>...</td>\n",
       "      <td>...</td>\n",
       "    </tr>\n",
       "    <tr>\n",
       "      <th>132</th>\n",
       "      <td>FeMnSi</td>\n",
       "      <td>0.78</td>\n",
       "      <td>0.96</td>\n",
       "      <td>0.85</td>\n",
       "      <td>5.32</td>\n",
       "      <td>1.90</td>\n",
       "    </tr>\n",
       "    <tr>\n",
       "      <th>133</th>\n",
       "      <td>FeVP</td>\n",
       "      <td>0.78</td>\n",
       "      <td>0.72</td>\n",
       "      <td>0.80</td>\n",
       "      <td>5.31</td>\n",
       "      <td>2.19</td>\n",
       "    </tr>\n",
       "    <tr>\n",
       "      <th>134</th>\n",
       "      <td>FeFeP</td>\n",
       "      <td>0.78</td>\n",
       "      <td>0.78</td>\n",
       "      <td>0.80</td>\n",
       "      <td>5.31</td>\n",
       "      <td>2.19</td>\n",
       "    </tr>\n",
       "    <tr>\n",
       "      <th>135</th>\n",
       "      <td>MnCrP</td>\n",
       "      <td>0.96</td>\n",
       "      <td>0.57</td>\n",
       "      <td>0.80</td>\n",
       "      <td>5.30</td>\n",
       "      <td>2.19</td>\n",
       "    </tr>\n",
       "    <tr>\n",
       "      <th>136</th>\n",
       "      <td>FeCrP</td>\n",
       "      <td>0.78</td>\n",
       "      <td>0.57</td>\n",
       "      <td>0.80</td>\n",
       "      <td>5.29</td>\n",
       "      <td>2.19</td>\n",
       "    </tr>\n",
       "  </tbody>\n",
       "</table>\n",
       "<p>137 rows × 6 columns</p>\n",
       "</div>"
      ],
      "text/plain": [
       "    Compound(xyz)  r x(Å)  ry(Å)  rz(Å)  a(Å)    ez\n",
       "0           CoMnP    0.90   0.96   0.80  5.34  2.19\n",
       "1           CoFeP    0.90   0.78   0.80  5.35  2.19\n",
       "2          CoMnSi    0.90   0.96   0.85  5.36  1.90\n",
       "3            CoVP    0.90   0.72   0.80  5.36  2.19\n",
       "4          CoCrSi    0.90   0.57   0.85  5.36  1.90\n",
       "..            ...     ...    ...    ...   ...   ...\n",
       "132        FeMnSi    0.78   0.96   0.85  5.32  1.90\n",
       "133          FeVP    0.78   0.72   0.80  5.31  2.19\n",
       "134         FeFeP    0.78   0.78   0.80  5.31  2.19\n",
       "135         MnCrP    0.96   0.57   0.80  5.30  2.19\n",
       "136         FeCrP    0.78   0.57   0.80  5.29  2.19\n",
       "\n",
       "[137 rows x 6 columns]"
      ]
     },
     "execution_count": 434,
     "metadata": {},
     "output_type": "execute_result"
    }
   ],
   "source": [
    "data"
   ]
  },
  {
   "cell_type": "code",
   "execution_count": null,
   "id": "2007d89e",
   "metadata": {},
   "outputs": [],
   "source": []
  },
  {
   "cell_type": "code",
   "execution_count": 348,
   "id": "38acbce5",
   "metadata": {},
   "outputs": [],
   "source": [
    "features = ['r x(Å)', 'ry(Å)', 'rz(Å)', 'a(Å)',]\n",
    "target = data['ez']"
   ]
  },
  {
   "cell_type": "code",
   "execution_count": 435,
   "id": "f1e53ac0",
   "metadata": {},
   "outputs": [
    {
     "name": "stdout",
     "output_type": "stream",
     "text": [
      "shape of X =  (137, 4)\n",
      "shape of y =  (137,)\n"
     ]
    }
   ],
   "source": [
    "X = data[features]\n",
    "y = target\n",
    "print(\"shape of X = \",X.shape)\n",
    "print(\"shape of y = \",y.shape)"
   ]
  },
  {
   "cell_type": "markdown",
   "id": "1f999267",
   "metadata": {},
   "source": [
    "### 2. Feature Selection\n",
    " Random forest algorith is generally used to select proper features for the provided target variables."
   ]
  },
  {
   "cell_type": "markdown",
   "id": "1d2deb1d",
   "metadata": {},
   "source": [
    "### 2. Feature Scalig\n",
    "#### Standard Scaler()"
   ]
  },
  {
   "cell_type": "code",
   "execution_count": 350,
   "id": "bf257da7",
   "metadata": {},
   "outputs": [],
   "source": [
    "\n",
    "X_train, X_test, y_train, y_test=train_test_split(X,y,test_size=0.2,random_state=42)"
   ]
  },
  {
   "cell_type": "code",
   "execution_count": 436,
   "id": "4c5d9d93",
   "metadata": {},
   "outputs": [
    {
     "name": "stdout",
     "output_type": "stream",
     "text": [
      "shape of X_train =  (109, 4)\n",
      "shape of X_test =  (28, 4)\n"
     ]
    }
   ],
   "source": [
    "print(\"shape of X_train = \",X_train.shape)\n",
    "print(\"shape of X_test = \",X_test.shape)\n",
    "#print(\"shape of y_train = \",y_train.shape)\n",
    "#print(\"shape of y_test = \",X_test.shape)"
   ]
  },
  {
   "cell_type": "code",
   "execution_count": null,
   "id": "d9b4b8be",
   "metadata": {},
   "outputs": [],
   "source": []
  },
  {
   "cell_type": "code",
   "execution_count": 437,
   "id": "1ac5069d",
   "metadata": {},
   "outputs": [
    {
     "data": {
      "text/html": [
       "<style>#sk-container-id-6 {color: black;}#sk-container-id-6 pre{padding: 0;}#sk-container-id-6 div.sk-toggleable {background-color: white;}#sk-container-id-6 label.sk-toggleable__label {cursor: pointer;display: block;width: 100%;margin-bottom: 0;padding: 0.3em;box-sizing: border-box;text-align: center;}#sk-container-id-6 label.sk-toggleable__label-arrow:before {content: \"▸\";float: left;margin-right: 0.25em;color: #696969;}#sk-container-id-6 label.sk-toggleable__label-arrow:hover:before {color: black;}#sk-container-id-6 div.sk-estimator:hover label.sk-toggleable__label-arrow:before {color: black;}#sk-container-id-6 div.sk-toggleable__content {max-height: 0;max-width: 0;overflow: hidden;text-align: left;background-color: #f0f8ff;}#sk-container-id-6 div.sk-toggleable__content pre {margin: 0.2em;color: black;border-radius: 0.25em;background-color: #f0f8ff;}#sk-container-id-6 input.sk-toggleable__control:checked~div.sk-toggleable__content {max-height: 200px;max-width: 100%;overflow: auto;}#sk-container-id-6 input.sk-toggleable__control:checked~label.sk-toggleable__label-arrow:before {content: \"▾\";}#sk-container-id-6 div.sk-estimator input.sk-toggleable__control:checked~label.sk-toggleable__label {background-color: #d4ebff;}#sk-container-id-6 div.sk-label input.sk-toggleable__control:checked~label.sk-toggleable__label {background-color: #d4ebff;}#sk-container-id-6 input.sk-hidden--visually {border: 0;clip: rect(1px 1px 1px 1px);clip: rect(1px, 1px, 1px, 1px);height: 1px;margin: -1px;overflow: hidden;padding: 0;position: absolute;width: 1px;}#sk-container-id-6 div.sk-estimator {font-family: monospace;background-color: #f0f8ff;border: 1px dotted black;border-radius: 0.25em;box-sizing: border-box;margin-bottom: 0.5em;}#sk-container-id-6 div.sk-estimator:hover {background-color: #d4ebff;}#sk-container-id-6 div.sk-parallel-item::after {content: \"\";width: 100%;border-bottom: 1px solid gray;flex-grow: 1;}#sk-container-id-6 div.sk-label:hover label.sk-toggleable__label {background-color: #d4ebff;}#sk-container-id-6 div.sk-serial::before {content: \"\";position: absolute;border-left: 1px solid gray;box-sizing: border-box;top: 0;bottom: 0;left: 50%;z-index: 0;}#sk-container-id-6 div.sk-serial {display: flex;flex-direction: column;align-items: center;background-color: white;padding-right: 0.2em;padding-left: 0.2em;position: relative;}#sk-container-id-6 div.sk-item {position: relative;z-index: 1;}#sk-container-id-6 div.sk-parallel {display: flex;align-items: stretch;justify-content: center;background-color: white;position: relative;}#sk-container-id-6 div.sk-item::before, #sk-container-id-6 div.sk-parallel-item::before {content: \"\";position: absolute;border-left: 1px solid gray;box-sizing: border-box;top: 0;bottom: 0;left: 50%;z-index: -1;}#sk-container-id-6 div.sk-parallel-item {display: flex;flex-direction: column;z-index: 1;position: relative;background-color: white;}#sk-container-id-6 div.sk-parallel-item:first-child::after {align-self: flex-end;width: 50%;}#sk-container-id-6 div.sk-parallel-item:last-child::after {align-self: flex-start;width: 50%;}#sk-container-id-6 div.sk-parallel-item:only-child::after {width: 0;}#sk-container-id-6 div.sk-dashed-wrapped {border: 1px dashed gray;margin: 0 0.4em 0.5em 0.4em;box-sizing: border-box;padding-bottom: 0.4em;background-color: white;}#sk-container-id-6 div.sk-label label {font-family: monospace;font-weight: bold;display: inline-block;line-height: 1.2em;}#sk-container-id-6 div.sk-label-container {text-align: center;}#sk-container-id-6 div.sk-container {/* jupyter's `normalize.less` sets `[hidden] { display: none; }` but bootstrap.min.css set `[hidden] { display: none !important; }` so we also need the `!important` here to be able to override the default hidden behavior on the sphinx rendered scikit-learn.org. See: https://github.com/scikit-learn/scikit-learn/issues/21755 */display: inline-block !important;position: relative;}#sk-container-id-6 div.sk-text-repr-fallback {display: none;}</style><div id=\"sk-container-id-6\" class=\"sk-top-container\"><div class=\"sk-text-repr-fallback\"><pre>StandardScaler()</pre><b>In a Jupyter environment, please rerun this cell to show the HTML representation or trust the notebook. <br />On GitHub, the HTML representation is unable to render, please try loading this page with nbviewer.org.</b></div><div class=\"sk-container\" hidden><div class=\"sk-item\"><div class=\"sk-estimator sk-toggleable\"><input class=\"sk-toggleable__control sk-hidden--visually\" id=\"sk-estimator-id-6\" type=\"checkbox\" checked><label for=\"sk-estimator-id-6\" class=\"sk-toggleable__label sk-toggleable__label-arrow\">StandardScaler</label><div class=\"sk-toggleable__content\"><pre>StandardScaler()</pre></div></div></div></div></div>"
      ],
      "text/plain": [
       "StandardScaler()"
      ]
     },
     "execution_count": 437,
     "metadata": {},
     "output_type": "execute_result"
    }
   ],
   "source": [
    "sc = StandardScaler()\n",
    "sc.fit(X_train)"
   ]
  },
  {
   "cell_type": "code",
   "execution_count": 439,
   "id": "e63c9962",
   "metadata": {},
   "outputs": [
    {
     "data": {
      "text/plain": [
       "array([0.11249689, 0.13480939, 0.03362933, 0.223222  ])"
      ]
     },
     "execution_count": 439,
     "metadata": {},
     "output_type": "execute_result"
    }
   ],
   "source": [
    "sc.mean_\n",
    "sc.scale_"
   ]
  },
  {
   "cell_type": "code",
   "execution_count": null,
   "id": "7de8f929",
   "metadata": {},
   "outputs": [],
   "source": []
  },
  {
   "cell_type": "code",
   "execution_count": 441,
   "id": "74e74f95",
   "metadata": {},
   "outputs": [
    {
     "data": {
      "text/plain": [
       "array([[-2.22799222, -0.4096848 , -0.66019263,  3.46838654],\n",
       "       [-2.22799222,  0.25792449, -0.06547365,  1.58685158],\n",
       "       [-2.22799222,  1.59314306, -0.36283314, -1.05625707],\n",
       "       [-0.36127399, -0.18714837, -0.66019263, -0.74266791],\n",
       "       [-1.07240475, -1.29983052, -0.66019263, -0.16028804],\n",
       "       [ 1.14987885,  1.59314306,  0.52924533,  0.06370422],\n",
       "       [-0.27238265, -0.18714837, -0.36283314,  0.01890577],\n",
       "       [-0.27238265, -0.18714837, -0.06547365,  1.72124693],\n",
       "       [-0.36127399, -0.18714837, -0.36283314, -1.54904004],\n",
       "       [-0.27238265, -0.18714837, -0.66019263,  0.69088254],\n",
       "       [ 0.70542213, -0.18714837, -0.66019263,  0.69088254],\n",
       "       [-1.07240475,  0.25792449,  0.52924533, -0.42907875],\n",
       "       [-0.27238265, -0.18714837,  1.12396431,  0.15330112],\n",
       "       [-0.27238265,  1.59314306, -0.36283314,  0.06370422],\n",
       "       [ 0.70542213,  0.25792449, -0.36283314, -0.69786946],\n",
       "       [ 1.2387702 ,  0.25792449, -0.36283314, -0.42907875],\n",
       "       [-0.36127399,  1.59314306, -0.36283314, -0.74266791],\n",
       "       [-1.07240475,  1.59314306,  1.12396431, -0.92186172],\n",
       "       [-0.36127399,  1.59314306,  1.12396431, -1.50424159],\n",
       "       [-1.07240475,  1.59314306, -0.66019263, -0.07069113],\n",
       "       [ 0.70542213, -0.03879075, -0.66019263, -0.20508649],\n",
       "       [ 0.70542213, -1.29983052,  1.12396431, -1.32504778],\n",
       "       [-2.22799222, -0.4096848 , -0.66019263,  2.03483609],\n",
       "       [ 0.70542213, -1.29983052, -0.66019263, -0.60827255],\n",
       "       [ 0.70542213,  1.59314306, -0.66019263,  0.73568099],\n",
       "       [-0.36127399, -0.03879075, -0.66019263,  1.31806087],\n",
       "       [ 0.70542213, -1.29983052, -0.36283314, -0.92186172],\n",
       "       [-2.22799222,  0.25792449,  1.12396431, -0.92186172]])"
      ]
     },
     "execution_count": 441,
     "metadata": {},
     "output_type": "execute_result"
    }
   ],
   "source": [
    "X_train_sc = sc.transform(X_train)\n",
    "X_test_sc = sc.transform(X_test)"
   ]
  },
  {
   "cell_type": "code",
   "execution_count": 355,
   "id": "780dd152",
   "metadata": {},
   "outputs": [],
   "source": [
    "X_train_sc = pd.DataFrame(X_train_sc, columns = ['r x(Å)', 'ry(Å)', 'rz(Å)', 'a(Å)'])\n",
    "X_test_sc = pd.DataFrame(X_test_sc,columns=['r x(Å)', 'ry(Å)', 'rz(Å)', 'a(Å)'])"
   ]
  },
  {
   "cell_type": "code",
   "execution_count": 408,
   "id": "455a49f2",
   "metadata": {},
   "outputs": [
    {
     "data": {
      "text/html": [
       "<div>\n",
       "<style scoped>\n",
       "    .dataframe tbody tr th:only-of-type {\n",
       "        vertical-align: middle;\n",
       "    }\n",
       "\n",
       "    .dataframe tbody tr th {\n",
       "        vertical-align: top;\n",
       "    }\n",
       "\n",
       "    .dataframe thead th {\n",
       "        text-align: right;\n",
       "    }\n",
       "</style>\n",
       "<table border=\"1\" class=\"dataframe\">\n",
       "  <thead>\n",
       "    <tr style=\"text-align: right;\">\n",
       "      <th></th>\n",
       "      <th>r x(Å)</th>\n",
       "      <th>ry(Å)</th>\n",
       "      <th>rz(Å)</th>\n",
       "      <th>a(Å)</th>\n",
       "    </tr>\n",
       "  </thead>\n",
       "  <tbody>\n",
       "    <tr>\n",
       "      <th>0</th>\n",
       "      <td>-2.227992</td>\n",
       "      <td>-0.409685</td>\n",
       "      <td>-0.660193</td>\n",
       "      <td>3.468387</td>\n",
       "    </tr>\n",
       "    <tr>\n",
       "      <th>1</th>\n",
       "      <td>-2.227992</td>\n",
       "      <td>0.257924</td>\n",
       "      <td>-0.065474</td>\n",
       "      <td>1.586852</td>\n",
       "    </tr>\n",
       "    <tr>\n",
       "      <th>2</th>\n",
       "      <td>-2.227992</td>\n",
       "      <td>1.593143</td>\n",
       "      <td>-0.362833</td>\n",
       "      <td>-1.056257</td>\n",
       "    </tr>\n",
       "    <tr>\n",
       "      <th>3</th>\n",
       "      <td>-0.361274</td>\n",
       "      <td>-0.187148</td>\n",
       "      <td>-0.660193</td>\n",
       "      <td>-0.742668</td>\n",
       "    </tr>\n",
       "    <tr>\n",
       "      <th>4</th>\n",
       "      <td>-1.072405</td>\n",
       "      <td>-1.299831</td>\n",
       "      <td>-0.660193</td>\n",
       "      <td>-0.160288</td>\n",
       "    </tr>\n",
       "    <tr>\n",
       "      <th>5</th>\n",
       "      <td>1.149879</td>\n",
       "      <td>1.593143</td>\n",
       "      <td>0.529245</td>\n",
       "      <td>0.063704</td>\n",
       "    </tr>\n",
       "    <tr>\n",
       "      <th>6</th>\n",
       "      <td>-0.272383</td>\n",
       "      <td>-0.187148</td>\n",
       "      <td>-0.362833</td>\n",
       "      <td>0.018906</td>\n",
       "    </tr>\n",
       "    <tr>\n",
       "      <th>7</th>\n",
       "      <td>-0.272383</td>\n",
       "      <td>-0.187148</td>\n",
       "      <td>-0.065474</td>\n",
       "      <td>1.721247</td>\n",
       "    </tr>\n",
       "    <tr>\n",
       "      <th>8</th>\n",
       "      <td>-0.361274</td>\n",
       "      <td>-0.187148</td>\n",
       "      <td>-0.362833</td>\n",
       "      <td>-1.549040</td>\n",
       "    </tr>\n",
       "    <tr>\n",
       "      <th>9</th>\n",
       "      <td>-0.272383</td>\n",
       "      <td>-0.187148</td>\n",
       "      <td>-0.660193</td>\n",
       "      <td>0.690883</td>\n",
       "    </tr>\n",
       "    <tr>\n",
       "      <th>10</th>\n",
       "      <td>0.705422</td>\n",
       "      <td>-0.187148</td>\n",
       "      <td>-0.660193</td>\n",
       "      <td>0.690883</td>\n",
       "    </tr>\n",
       "    <tr>\n",
       "      <th>11</th>\n",
       "      <td>-1.072405</td>\n",
       "      <td>0.257924</td>\n",
       "      <td>0.529245</td>\n",
       "      <td>-0.429079</td>\n",
       "    </tr>\n",
       "    <tr>\n",
       "      <th>12</th>\n",
       "      <td>-0.272383</td>\n",
       "      <td>-0.187148</td>\n",
       "      <td>1.123964</td>\n",
       "      <td>0.153301</td>\n",
       "    </tr>\n",
       "    <tr>\n",
       "      <th>13</th>\n",
       "      <td>-0.272383</td>\n",
       "      <td>1.593143</td>\n",
       "      <td>-0.362833</td>\n",
       "      <td>0.063704</td>\n",
       "    </tr>\n",
       "    <tr>\n",
       "      <th>14</th>\n",
       "      <td>0.705422</td>\n",
       "      <td>0.257924</td>\n",
       "      <td>-0.362833</td>\n",
       "      <td>-0.697869</td>\n",
       "    </tr>\n",
       "    <tr>\n",
       "      <th>15</th>\n",
       "      <td>1.238770</td>\n",
       "      <td>0.257924</td>\n",
       "      <td>-0.362833</td>\n",
       "      <td>-0.429079</td>\n",
       "    </tr>\n",
       "    <tr>\n",
       "      <th>16</th>\n",
       "      <td>-0.361274</td>\n",
       "      <td>1.593143</td>\n",
       "      <td>-0.362833</td>\n",
       "      <td>-0.742668</td>\n",
       "    </tr>\n",
       "    <tr>\n",
       "      <th>17</th>\n",
       "      <td>-1.072405</td>\n",
       "      <td>1.593143</td>\n",
       "      <td>1.123964</td>\n",
       "      <td>-0.921862</td>\n",
       "    </tr>\n",
       "    <tr>\n",
       "      <th>18</th>\n",
       "      <td>-0.361274</td>\n",
       "      <td>1.593143</td>\n",
       "      <td>1.123964</td>\n",
       "      <td>-1.504242</td>\n",
       "    </tr>\n",
       "    <tr>\n",
       "      <th>19</th>\n",
       "      <td>-1.072405</td>\n",
       "      <td>1.593143</td>\n",
       "      <td>-0.660193</td>\n",
       "      <td>-0.070691</td>\n",
       "    </tr>\n",
       "    <tr>\n",
       "      <th>20</th>\n",
       "      <td>0.705422</td>\n",
       "      <td>-0.038791</td>\n",
       "      <td>-0.660193</td>\n",
       "      <td>-0.205086</td>\n",
       "    </tr>\n",
       "    <tr>\n",
       "      <th>21</th>\n",
       "      <td>0.705422</td>\n",
       "      <td>-1.299831</td>\n",
       "      <td>1.123964</td>\n",
       "      <td>-1.325048</td>\n",
       "    </tr>\n",
       "    <tr>\n",
       "      <th>22</th>\n",
       "      <td>-2.227992</td>\n",
       "      <td>-0.409685</td>\n",
       "      <td>-0.660193</td>\n",
       "      <td>2.034836</td>\n",
       "    </tr>\n",
       "    <tr>\n",
       "      <th>23</th>\n",
       "      <td>0.705422</td>\n",
       "      <td>-1.299831</td>\n",
       "      <td>-0.660193</td>\n",
       "      <td>-0.608273</td>\n",
       "    </tr>\n",
       "    <tr>\n",
       "      <th>24</th>\n",
       "      <td>0.705422</td>\n",
       "      <td>1.593143</td>\n",
       "      <td>-0.660193</td>\n",
       "      <td>0.735681</td>\n",
       "    </tr>\n",
       "    <tr>\n",
       "      <th>25</th>\n",
       "      <td>-0.361274</td>\n",
       "      <td>-0.038791</td>\n",
       "      <td>-0.660193</td>\n",
       "      <td>1.318061</td>\n",
       "    </tr>\n",
       "    <tr>\n",
       "      <th>26</th>\n",
       "      <td>0.705422</td>\n",
       "      <td>-1.299831</td>\n",
       "      <td>-0.362833</td>\n",
       "      <td>-0.921862</td>\n",
       "    </tr>\n",
       "    <tr>\n",
       "      <th>27</th>\n",
       "      <td>-2.227992</td>\n",
       "      <td>0.257924</td>\n",
       "      <td>1.123964</td>\n",
       "      <td>-0.921862</td>\n",
       "    </tr>\n",
       "  </tbody>\n",
       "</table>\n",
       "</div>"
      ],
      "text/plain": [
       "      r x(Å)     ry(Å)     rz(Å)      a(Å)\n",
       "0  -2.227992 -0.409685 -0.660193  3.468387\n",
       "1  -2.227992  0.257924 -0.065474  1.586852\n",
       "2  -2.227992  1.593143 -0.362833 -1.056257\n",
       "3  -0.361274 -0.187148 -0.660193 -0.742668\n",
       "4  -1.072405 -1.299831 -0.660193 -0.160288\n",
       "5   1.149879  1.593143  0.529245  0.063704\n",
       "6  -0.272383 -0.187148 -0.362833  0.018906\n",
       "7  -0.272383 -0.187148 -0.065474  1.721247\n",
       "8  -0.361274 -0.187148 -0.362833 -1.549040\n",
       "9  -0.272383 -0.187148 -0.660193  0.690883\n",
       "10  0.705422 -0.187148 -0.660193  0.690883\n",
       "11 -1.072405  0.257924  0.529245 -0.429079\n",
       "12 -0.272383 -0.187148  1.123964  0.153301\n",
       "13 -0.272383  1.593143 -0.362833  0.063704\n",
       "14  0.705422  0.257924 -0.362833 -0.697869\n",
       "15  1.238770  0.257924 -0.362833 -0.429079\n",
       "16 -0.361274  1.593143 -0.362833 -0.742668\n",
       "17 -1.072405  1.593143  1.123964 -0.921862\n",
       "18 -0.361274  1.593143  1.123964 -1.504242\n",
       "19 -1.072405  1.593143 -0.660193 -0.070691\n",
       "20  0.705422 -0.038791 -0.660193 -0.205086\n",
       "21  0.705422 -1.299831  1.123964 -1.325048\n",
       "22 -2.227992 -0.409685 -0.660193  2.034836\n",
       "23  0.705422 -1.299831 -0.660193 -0.608273\n",
       "24  0.705422  1.593143 -0.660193  0.735681\n",
       "25 -0.361274 -0.038791 -0.660193  1.318061\n",
       "26  0.705422 -1.299831 -0.362833 -0.921862\n",
       "27 -2.227992  0.257924  1.123964 -0.921862"
      ]
     },
     "execution_count": 408,
     "metadata": {},
     "output_type": "execute_result"
    }
   ],
   "source": [
    "X_test_sc"
   ]
  },
  {
   "cell_type": "code",
   "execution_count": 357,
   "id": "d3f2ab1d",
   "metadata": {},
   "outputs": [
    {
     "data": {
      "text/html": [
       "<div>\n",
       "<style scoped>\n",
       "    .dataframe tbody tr th:only-of-type {\n",
       "        vertical-align: middle;\n",
       "    }\n",
       "\n",
       "    .dataframe tbody tr th {\n",
       "        vertical-align: top;\n",
       "    }\n",
       "\n",
       "    .dataframe thead th {\n",
       "        text-align: right;\n",
       "    }\n",
       "</style>\n",
       "<table border=\"1\" class=\"dataframe\">\n",
       "  <thead>\n",
       "    <tr style=\"text-align: right;\">\n",
       "      <th></th>\n",
       "      <th>r x(Å)</th>\n",
       "      <th>ry(Å)</th>\n",
       "      <th>rz(Å)</th>\n",
       "      <th>a(Å)</th>\n",
       "    </tr>\n",
       "  </thead>\n",
       "  <tbody>\n",
       "    <tr>\n",
       "      <th>count</th>\n",
       "      <td>109.00</td>\n",
       "      <td>109.00</td>\n",
       "      <td>109.00</td>\n",
       "      <td>109.00</td>\n",
       "    </tr>\n",
       "    <tr>\n",
       "      <th>mean</th>\n",
       "      <td>-0.00</td>\n",
       "      <td>0.00</td>\n",
       "      <td>-0.00</td>\n",
       "      <td>-0.00</td>\n",
       "    </tr>\n",
       "    <tr>\n",
       "      <th>std</th>\n",
       "      <td>1.00</td>\n",
       "      <td>1.00</td>\n",
       "      <td>1.00</td>\n",
       "      <td>1.00</td>\n",
       "    </tr>\n",
       "    <tr>\n",
       "      <th>min</th>\n",
       "      <td>-2.23</td>\n",
       "      <td>-1.30</td>\n",
       "      <td>-0.66</td>\n",
       "      <td>-1.64</td>\n",
       "    </tr>\n",
       "    <tr>\n",
       "      <th>25%</th>\n",
       "      <td>-1.07</td>\n",
       "      <td>-0.41</td>\n",
       "      <td>-0.66</td>\n",
       "      <td>-0.79</td>\n",
       "    </tr>\n",
       "    <tr>\n",
       "      <th>50%</th>\n",
       "      <td>-0.27</td>\n",
       "      <td>-0.19</td>\n",
       "      <td>-0.36</td>\n",
       "      <td>-0.12</td>\n",
       "    </tr>\n",
       "    <tr>\n",
       "      <th>75%</th>\n",
       "      <td>0.71</td>\n",
       "      <td>0.26</td>\n",
       "      <td>-0.07</td>\n",
       "      <td>0.69</td>\n",
       "    </tr>\n",
       "    <tr>\n",
       "      <th>max</th>\n",
       "      <td>1.24</td>\n",
       "      <td>1.59</td>\n",
       "      <td>3.21</td>\n",
       "      <td>2.39</td>\n",
       "    </tr>\n",
       "  </tbody>\n",
       "</table>\n",
       "</div>"
      ],
      "text/plain": [
       "       r x(Å)   ry(Å)   rz(Å)    a(Å)\n",
       "count  109.00  109.00  109.00  109.00\n",
       "mean    -0.00    0.00   -0.00   -0.00\n",
       "std      1.00    1.00    1.00    1.00\n",
       "min     -2.23   -1.30   -0.66   -1.64\n",
       "25%     -1.07   -0.41   -0.66   -0.79\n",
       "50%     -0.27   -0.19   -0.36   -0.12\n",
       "75%      0.71    0.26   -0.07    0.69\n",
       "max      1.24    1.59    3.21    2.39"
      ]
     },
     "execution_count": 357,
     "metadata": {},
     "output_type": "execute_result"
    }
   ],
   "source": [
    "X_train_sc.describe().round(2)"
   ]
  },
  {
   "cell_type": "code",
   "execution_count": 359,
   "id": "aea9a31f",
   "metadata": {},
   "outputs": [
    {
     "data": {
      "text/plain": [
       "<seaborn.axisgrid.PairGrid at 0x1535bc92b890>"
      ]
     },
     "execution_count": 359,
     "metadata": {},
     "output_type": "execute_result"
    },
    {
     "data": {
      "image/png": "[encoded data removed]",
      "text/plain": [
       "<Figure size 1000x1000 with 20 Axes>"
      ]
     },
     "metadata": {},
     "output_type": "display_data"
    }
   ],
   "source": [
    "sns.pairplot(X_train)"
   ]
  },
  {
   "cell_type": "code",
   "execution_count": 360,
   "id": "ada18ae3",
   "metadata": {},
   "outputs": [
    {
     "data": {
      "text/plain": [
       "<seaborn.axisgrid.PairGrid at 0x1535b7622c90>"
      ]
     },
     "execution_count": 360,
     "metadata": {},
     "output_type": "execute_result"
    },
    {
     "data": {
      "image/png": "[encoded data removed]",
      "text/plain": [
       "<Figure size 1000x1000 with 20 Axes>"
      ]
     },
     "metadata": {},
     "output_type": "display_data"
    }
   ],
   "source": [
    "sns.pairplot(X_train_sc)"
   ]
  },
  {
   "cell_type": "markdown",
   "id": "c5c9e21d",
   "metadata": {},
   "source": [
    "### Hyper-parameter optimization\n",
    "#### Gridsearch CV, RandomizedSearch CV, Bayesian Optimization etc.  But, in this case we are taking default values for tutorial purpose. Generally we train test all the models by taking default values and then compare the results to get highly predictive model and then we select those models and perform optimization and then further model tuning."
   ]
  },
  {
   "cell_type": "markdown",
   "id": "abba9714",
   "metadata": {},
   "source": [
    "### Model Tuning\n",
    "## Linear regression model"
   ]
  },
  {
   "cell_type": "code",
   "execution_count": 442,
   "id": "5de890e7",
   "metadata": {},
   "outputs": [
    {
     "data": {
      "text/html": [
       "<style>#sk-container-id-7 {color: black;}#sk-container-id-7 pre{padding: 0;}#sk-container-id-7 div.sk-toggleable {background-color: white;}#sk-container-id-7 label.sk-toggleable__label {cursor: pointer;display: block;width: 100%;margin-bottom: 0;padding: 0.3em;box-sizing: border-box;text-align: center;}#sk-container-id-7 label.sk-toggleable__label-arrow:before {content: \"▸\";float: left;margin-right: 0.25em;color: #696969;}#sk-container-id-7 label.sk-toggleable__label-arrow:hover:before {color: black;}#sk-container-id-7 div.sk-estimator:hover label.sk-toggleable__label-arrow:before {color: black;}#sk-container-id-7 div.sk-toggleable__content {max-height: 0;max-width: 0;overflow: hidden;text-align: left;background-color: #f0f8ff;}#sk-container-id-7 div.sk-toggleable__content pre {margin: 0.2em;color: black;border-radius: 0.25em;background-color: #f0f8ff;}#sk-container-id-7 input.sk-toggleable__control:checked~div.sk-toggleable__content {max-height: 200px;max-width: 100%;overflow: auto;}#sk-container-id-7 input.sk-toggleable__control:checked~label.sk-toggleable__label-arrow:before {content: \"▾\";}#sk-container-id-7 div.sk-estimator input.sk-toggleable__control:checked~label.sk-toggleable__label {background-color: #d4ebff;}#sk-container-id-7 div.sk-label input.sk-toggleable__control:checked~label.sk-toggleable__label {background-color: #d4ebff;}#sk-container-id-7 input.sk-hidden--visually {border: 0;clip: rect(1px 1px 1px 1px);clip: rect(1px, 1px, 1px, 1px);height: 1px;margin: -1px;overflow: hidden;padding: 0;position: absolute;width: 1px;}#sk-container-id-7 div.sk-estimator {font-family: monospace;background-color: #f0f8ff;border: 1px dotted black;border-radius: 0.25em;box-sizing: border-box;margin-bottom: 0.5em;}#sk-container-id-7 div.sk-estimator:hover {background-color: #d4ebff;}#sk-container-id-7 div.sk-parallel-item::after {content: \"\";width: 100%;border-bottom: 1px solid gray;flex-grow: 1;}#sk-container-id-7 div.sk-label:hover label.sk-toggleable__label {background-color: #d4ebff;}#sk-container-id-7 div.sk-serial::before {content: \"\";position: absolute;border-left: 1px solid gray;box-sizing: border-box;top: 0;bottom: 0;left: 50%;z-index: 0;}#sk-container-id-7 div.sk-serial {display: flex;flex-direction: column;align-items: center;background-color: white;padding-right: 0.2em;padding-left: 0.2em;position: relative;}#sk-container-id-7 div.sk-item {position: relative;z-index: 1;}#sk-container-id-7 div.sk-parallel {display: flex;align-items: stretch;justify-content: center;background-color: white;position: relative;}#sk-container-id-7 div.sk-item::before, #sk-container-id-7 div.sk-parallel-item::before {content: \"\";position: absolute;border-left: 1px solid gray;box-sizing: border-box;top: 0;bottom: 0;left: 50%;z-index: -1;}#sk-container-id-7 div.sk-parallel-item {display: flex;flex-direction: column;z-index: 1;position: relative;background-color: white;}#sk-container-id-7 div.sk-parallel-item:first-child::after {align-self: flex-end;width: 50%;}#sk-container-id-7 div.sk-parallel-item:last-child::after {align-self: flex-start;width: 50%;}#sk-container-id-7 div.sk-parallel-item:only-child::after {width: 0;}#sk-container-id-7 div.sk-dashed-wrapped {border: 1px dashed gray;margin: 0 0.4em 0.5em 0.4em;box-sizing: border-box;padding-bottom: 0.4em;background-color: white;}#sk-container-id-7 div.sk-label label {font-family: monospace;font-weight: bold;display: inline-block;line-height: 1.2em;}#sk-container-id-7 div.sk-label-container {text-align: center;}#sk-container-id-7 div.sk-container {/* jupyter's `normalize.less` sets `[hidden] { display: none; }` but bootstrap.min.css set `[hidden] { display: none !important; }` so we also need the `!important` here to be able to override the default hidden behavior on the sphinx rendered scikit-learn.org. See: https://github.com/scikit-learn/scikit-learn/issues/21755 */display: inline-block !important;position: relative;}#sk-container-id-7 div.sk-text-repr-fallback {display: none;}</style><div id=\"sk-container-id-7\" class=\"sk-top-container\"><div class=\"sk-text-repr-fallback\"><pre>LinearRegression()</pre><b>In a Jupyter environment, please rerun this cell to show the HTML representation or trust the notebook. <br />On GitHub, the HTML representation is unable to render, please try loading this page with nbviewer.org.</b></div><div class=\"sk-container\" hidden><div class=\"sk-item\"><div class=\"sk-estimator sk-toggleable\"><input class=\"sk-toggleable__control sk-hidden--visually\" id=\"sk-estimator-id-7\" type=\"checkbox\" checked><label for=\"sk-estimator-id-7\" class=\"sk-toggleable__label sk-toggleable__label-arrow\">LinearRegression</label><div class=\"sk-toggleable__content\"><pre>LinearRegression()</pre></div></div></div></div></div>"
      ],
      "text/plain": [
       "LinearRegression()"
      ]
     },
     "execution_count": 442,
     "metadata": {},
     "output_type": "execute_result"
    }
   ],
   "source": [
    "model_lr = LinearRegression()\n",
    "model_lr.fit(X_train_sc, y_train)"
   ]
  },
  {
   "cell_type": "markdown",
   "id": "0fceed6e",
   "metadata": {},
   "source": [
    "### Making prediction"
   ]
  },
  {
   "cell_type": "code",
   "execution_count": 445,
   "id": "0e333a4f",
   "metadata": {},
   "outputs": [
    {
     "name": "stdout",
     "output_type": "stream",
     "text": [
      "[2.0881519  2.10464988 2.10865911 2.07032637 2.00843051 2.04937591\n",
      " 2.01975544 1.68539566 1.68154998 2.10827984 2.10984705 2.05689113\n",
      " 2.06130811 1.92060167 2.06007323 2.06032146 2.01451026 2.0722218\n",
      " 1.98364973 2.07585914 2.11419963 2.09070657 2.12004458 2.05012743\n",
      " 2.01120042 2.08243983 2.08186394 2.05686759 2.06275599 2.00415757\n",
      " 2.12136333 1.91503728 2.10023161 2.09133796 2.09700702 2.05873411\n",
      " 1.91226737 1.91177941 1.94102132 2.09545549 2.05971396 1.92208925\n",
      " 2.0991883  1.9935482  2.07499194 2.09194566 2.07239768 2.08411534\n",
      " 2.08668068 2.02649595 2.01044058 1.93366582 2.08832389 2.09528303\n",
      " 2.09238524 2.07149381 2.1249933  1.95790187 2.05741104 1.95362997\n",
      " 2.09046615 2.11159787 2.06606583 2.07498443 2.06729675 2.08788046\n",
      " 1.97507118 2.08385889 1.90192931 2.09460773 2.09905338 2.06804079\n",
      " 1.67584883 2.06955131 2.07254193 2.09774239 2.09280983 2.07845365\n",
      " 2.02907745 2.05542791 2.09858558 2.10567656 2.0863966  2.06323539\n",
      " 2.09764976 2.08549777 2.11060173 2.1120727  1.67763699 2.06899579\n",
      " 2.09673465 2.09163056 2.07706653 1.95181499 2.07512378 1.6657753\n",
      " 2.0726096  2.07591593 2.09315702 1.92555026 2.08796381 1.68142129\n",
      " 2.08351816 2.08168783 2.05922601 1.6444006  1.91386151 2.08154404\n",
      " 2.00719104]\n"
     ]
    }
   ],
   "source": [
    "y_pred = model_lr.predict(X_test_sc)\n",
    "y_pred_train = model_lr.predict(X_train_sc)\n",
    "y_pred_train = model_lr.predict(X_train_sc)\n",
    "#print(y_pred)\n",
    "print(y_pred_train)"
   ]
  },
  {
   "cell_type": "code",
   "execution_count": 446,
   "id": "13ee8e3b",
   "metadata": {},
   "outputs": [
    {
     "name": "stdout",
     "output_type": "stream",
     "text": [
      "[2.0881519  2.10464988 2.10865911 2.07032637 2.00843051 2.04937591\n",
      " 2.01975544 1.68539566 1.68154998 2.10827984 2.10984705 2.05689113\n",
      " 2.06130811 1.92060167 2.06007323 2.06032146 2.01451026 2.0722218\n",
      " 1.98364973 2.07585914 2.11419963 2.09070657 2.12004458 2.05012743\n",
      " 2.01120042 2.08243983 2.08186394 2.05686759 2.06275599 2.00415757\n",
      " 2.12136333 1.91503728 2.10023161 2.09133796 2.09700702 2.05873411\n",
      " 1.91226737 1.91177941 1.94102132 2.09545549 2.05971396 1.92208925\n",
      " 2.0991883  1.9935482  2.07499194 2.09194566 2.07239768 2.08411534\n",
      " 2.08668068 2.02649595 2.01044058 1.93366582 2.08832389 2.09528303\n",
      " 2.09238524 2.07149381 2.1249933  1.95790187 2.05741104 1.95362997\n",
      " 2.09046615 2.11159787 2.06606583 2.07498443 2.06729675 2.08788046\n",
      " 1.97507118 2.08385889 1.90192931 2.09460773 2.09905338 2.06804079\n",
      " 1.67584883 2.06955131 2.07254193 2.09774239 2.09280983 2.07845365\n",
      " 2.02907745 2.05542791 2.09858558 2.10567656 2.0863966  2.06323539\n",
      " 2.09764976 2.08549777 2.11060173 2.1120727  1.67763699 2.06899579\n",
      " 2.09673465 2.09163056 2.07706653 1.95181499 2.07512378 1.6657753\n",
      " 2.0726096  2.07591593 2.09315702 1.92555026 2.08796381 1.68142129\n",
      " 2.08351816 2.08168783 2.05922601 1.6444006  1.91386151 2.08154404\n",
      " 2.00719104]\n"
     ]
    }
   ],
   "source": [
    "print(y_pred_train)"
   ]
  },
  {
   "cell_type": "markdown",
   "id": "8832e609",
   "metadata": {},
   "source": [
    "###  Model evaluation\n"
   ]
  },
  {
   "cell_type": "code",
   "execution_count": 447,
   "id": "c9a87e33",
   "metadata": {},
   "outputs": [],
   "source": [
    "mse = mean_squared_error(y_test,y_pred)\n",
    "rmse = np.sqrt(mse)\n",
    "mae = mean_absolute_error(y_test,y_pred)\n",
    "r2 = r2_score(y_test,y_pred)"
   ]
  },
  {
   "cell_type": "code",
   "execution_count": 448,
   "id": "dd140922",
   "metadata": {},
   "outputs": [
    {
     "name": "stdout",
     "output_type": "stream",
     "text": [
      " The MSE = 0.02260018174086309\n",
      " The RMSE = 0.1503335682436331\n",
      " The R2 score = 0.2500405280268915\n",
      " The MAE = 0.10966193052756987\n"
     ]
    }
   ],
   "source": [
    "print(f\" The MSE = {mse}\")\n",
    "print(f\" The RMSE = {rmse}\")\n",
    "print(f\" The R2 score = {r2}\")\n",
    "print(f\" The MAE = {mae}\")"
   ]
  },
  {
   "cell_type": "code",
   "execution_count": 449,
   "id": "8500c957",
   "metadata": {},
   "outputs": [
    {
     "data": {
      "text/html": [
       "<div>\n",
       "<style scoped>\n",
       "    .dataframe tbody tr th:only-of-type {\n",
       "        vertical-align: middle;\n",
       "    }\n",
       "\n",
       "    .dataframe tbody tr th {\n",
       "        vertical-align: top;\n",
       "    }\n",
       "\n",
       "    .dataframe thead th {\n",
       "        text-align: right;\n",
       "    }\n",
       "</style>\n",
       "<table border=\"1\" class=\"dataframe\">\n",
       "  <thead>\n",
       "    <tr style=\"text-align: right;\">\n",
       "      <th></th>\n",
       "      <th>Compound(xyz)</th>\n",
       "      <th>r x(Å)</th>\n",
       "      <th>ry(Å)</th>\n",
       "      <th>rz(Å)</th>\n",
       "      <th>a(Å)</th>\n",
       "      <th>ez</th>\n",
       "    </tr>\n",
       "  </thead>\n",
       "  <tbody>\n",
       "    <tr>\n",
       "      <th>0</th>\n",
       "      <td>CoMnP</td>\n",
       "      <td>0.90</td>\n",
       "      <td>0.96</td>\n",
       "      <td>0.80</td>\n",
       "      <td>5.34</td>\n",
       "      <td>2.19</td>\n",
       "    </tr>\n",
       "    <tr>\n",
       "      <th>1</th>\n",
       "      <td>CoFeP</td>\n",
       "      <td>0.90</td>\n",
       "      <td>0.78</td>\n",
       "      <td>0.80</td>\n",
       "      <td>5.35</td>\n",
       "      <td>2.19</td>\n",
       "    </tr>\n",
       "    <tr>\n",
       "      <th>2</th>\n",
       "      <td>CoMnSi</td>\n",
       "      <td>0.90</td>\n",
       "      <td>0.96</td>\n",
       "      <td>0.85</td>\n",
       "      <td>5.36</td>\n",
       "      <td>1.90</td>\n",
       "    </tr>\n",
       "    <tr>\n",
       "      <th>3</th>\n",
       "      <td>CoVP</td>\n",
       "      <td>0.90</td>\n",
       "      <td>0.72</td>\n",
       "      <td>0.80</td>\n",
       "      <td>5.36</td>\n",
       "      <td>2.19</td>\n",
       "    </tr>\n",
       "    <tr>\n",
       "      <th>4</th>\n",
       "      <td>CoCrSi</td>\n",
       "      <td>0.90</td>\n",
       "      <td>0.57</td>\n",
       "      <td>0.85</td>\n",
       "      <td>5.36</td>\n",
       "      <td>1.90</td>\n",
       "    </tr>\n",
       "    <tr>\n",
       "      <th>...</th>\n",
       "      <td>...</td>\n",
       "      <td>...</td>\n",
       "      <td>...</td>\n",
       "      <td>...</td>\n",
       "      <td>...</td>\n",
       "      <td>...</td>\n",
       "    </tr>\n",
       "    <tr>\n",
       "      <th>132</th>\n",
       "      <td>FeMnSi</td>\n",
       "      <td>0.78</td>\n",
       "      <td>0.96</td>\n",
       "      <td>0.85</td>\n",
       "      <td>5.32</td>\n",
       "      <td>1.90</td>\n",
       "    </tr>\n",
       "    <tr>\n",
       "      <th>133</th>\n",
       "      <td>FeVP</td>\n",
       "      <td>0.78</td>\n",
       "      <td>0.72</td>\n",
       "      <td>0.80</td>\n",
       "      <td>5.31</td>\n",
       "      <td>2.19</td>\n",
       "    </tr>\n",
       "    <tr>\n",
       "      <th>134</th>\n",
       "      <td>FeFeP</td>\n",
       "      <td>0.78</td>\n",
       "      <td>0.78</td>\n",
       "      <td>0.80</td>\n",
       "      <td>5.31</td>\n",
       "      <td>2.19</td>\n",
       "    </tr>\n",
       "    <tr>\n",
       "      <th>135</th>\n",
       "      <td>MnCrP</td>\n",
       "      <td>0.96</td>\n",
       "      <td>0.57</td>\n",
       "      <td>0.80</td>\n",
       "      <td>5.30</td>\n",
       "      <td>2.19</td>\n",
       "    </tr>\n",
       "    <tr>\n",
       "      <th>136</th>\n",
       "      <td>FeCrP</td>\n",
       "      <td>0.78</td>\n",
       "      <td>0.57</td>\n",
       "      <td>0.80</td>\n",
       "      <td>5.29</td>\n",
       "      <td>2.19</td>\n",
       "    </tr>\n",
       "  </tbody>\n",
       "</table>\n",
       "<p>137 rows × 6 columns</p>\n",
       "</div>"
      ],
      "text/plain": [
       "    Compound(xyz)  r x(Å)  ry(Å)  rz(Å)  a(Å)    ez\n",
       "0           CoMnP    0.90   0.96   0.80  5.34  2.19\n",
       "1           CoFeP    0.90   0.78   0.80  5.35  2.19\n",
       "2          CoMnSi    0.90   0.96   0.85  5.36  1.90\n",
       "3            CoVP    0.90   0.72   0.80  5.36  2.19\n",
       "4          CoCrSi    0.90   0.57   0.85  5.36  1.90\n",
       "..            ...     ...    ...    ...   ...   ...\n",
       "132        FeMnSi    0.78   0.96   0.85  5.32  1.90\n",
       "133          FeVP    0.78   0.72   0.80  5.31  2.19\n",
       "134         FeFeP    0.78   0.78   0.80  5.31  2.19\n",
       "135         MnCrP    0.96   0.57   0.80  5.30  2.19\n",
       "136         FeCrP    0.78   0.57   0.80  5.29  2.19\n",
       "\n",
       "[137 rows x 6 columns]"
      ]
     },
     "execution_count": 449,
     "metadata": {},
     "output_type": "execute_result"
    }
   ],
   "source": [
    "data"
   ]
  },
  {
   "cell_type": "code",
   "execution_count": 450,
   "id": "5fdb7a1e",
   "metadata": {},
   "outputs": [
    {
     "name": "stdout",
     "output_type": "stream",
     "text": [
      "[1.7209589]\n"
     ]
    }
   ],
   "source": [
    "new_features = [1.3,1.8, 2.3, 5.4]\n",
    "new_ez = model_lr.predict([new_features])\n",
    "print(new_ez)"
   ]
  },
  {
   "cell_type": "code",
   "execution_count": 451,
   "id": "7c41874a",
   "metadata": {},
   "outputs": [
    {
     "data": {
      "text/html": [
       "<div>\n",
       "<style scoped>\n",
       "    .dataframe tbody tr th:only-of-type {\n",
       "        vertical-align: middle;\n",
       "    }\n",
       "\n",
       "    .dataframe tbody tr th {\n",
       "        vertical-align: top;\n",
       "    }\n",
       "\n",
       "    .dataframe thead th {\n",
       "        text-align: right;\n",
       "    }\n",
       "</style>\n",
       "<table border=\"1\" class=\"dataframe\">\n",
       "  <thead>\n",
       "    <tr style=\"text-align: right;\">\n",
       "      <th></th>\n",
       "      <th>r x(Å)</th>\n",
       "      <th>ry(Å)</th>\n",
       "      <th>rz(Å)</th>\n",
       "      <th>a(Å)</th>\n",
       "      <th>ez</th>\n",
       "    </tr>\n",
       "  </thead>\n",
       "  <tbody>\n",
       "    <tr>\n",
       "      <th>count</th>\n",
       "      <td>137.000000</td>\n",
       "      <td>137.000000</td>\n",
       "      <td>137.000000</td>\n",
       "      <td>137.000000</td>\n",
       "      <td>137.000000</td>\n",
       "    </tr>\n",
       "    <tr>\n",
       "      <th>mean</th>\n",
       "      <td>0.811387</td>\n",
       "      <td>0.751752</td>\n",
       "      <td>0.811314</td>\n",
       "      <td>5.656204</td>\n",
       "      <td>2.026423</td>\n",
       "    </tr>\n",
       "    <tr>\n",
       "      <th>std</th>\n",
       "      <td>0.116102</td>\n",
       "      <td>0.135136</td>\n",
       "      <td>0.031804</td>\n",
       "      <td>0.231600</td>\n",
       "      <td>0.164999</td>\n",
       "    </tr>\n",
       "    <tr>\n",
       "      <th>min</th>\n",
       "      <td>0.570000</td>\n",
       "      <td>0.570000</td>\n",
       "      <td>0.790000</td>\n",
       "      <td>5.290000</td>\n",
       "      <td>1.610000</td>\n",
       "    </tr>\n",
       "    <tr>\n",
       "      <th>25%</th>\n",
       "      <td>0.700000</td>\n",
       "      <td>0.690000</td>\n",
       "      <td>0.790000</td>\n",
       "      <td>5.480000</td>\n",
       "      <td>1.900000</td>\n",
       "    </tr>\n",
       "    <tr>\n",
       "      <th>50%</th>\n",
       "      <td>0.790000</td>\n",
       "      <td>0.740000</td>\n",
       "      <td>0.800000</td>\n",
       "      <td>5.620000</td>\n",
       "      <td>2.050000</td>\n",
       "    </tr>\n",
       "    <tr>\n",
       "      <th>75%</th>\n",
       "      <td>0.900000</td>\n",
       "      <td>0.780000</td>\n",
       "      <td>0.810000</td>\n",
       "      <td>5.810000</td>\n",
       "      <td>2.180000</td>\n",
       "    </tr>\n",
       "    <tr>\n",
       "      <th>max</th>\n",
       "      <td>0.960000</td>\n",
       "      <td>0.960000</td>\n",
       "      <td>0.920000</td>\n",
       "      <td>6.430000</td>\n",
       "      <td>2.190000</td>\n",
       "    </tr>\n",
       "  </tbody>\n",
       "</table>\n",
       "</div>"
      ],
      "text/plain": [
       "           r x(Å)       ry(Å)       rz(Å)        a(Å)          ez\n",
       "count  137.000000  137.000000  137.000000  137.000000  137.000000\n",
       "mean     0.811387    0.751752    0.811314    5.656204    2.026423\n",
       "std      0.116102    0.135136    0.031804    0.231600    0.164999\n",
       "min      0.570000    0.570000    0.790000    5.290000    1.610000\n",
       "25%      0.700000    0.690000    0.790000    5.480000    1.900000\n",
       "50%      0.790000    0.740000    0.800000    5.620000    2.050000\n",
       "75%      0.900000    0.780000    0.810000    5.810000    2.180000\n",
       "max      0.960000    0.960000    0.920000    6.430000    2.190000"
      ]
     },
     "execution_count": 451,
     "metadata": {},
     "output_type": "execute_result"
    }
   ],
   "source": [
    "data.describe()"
   ]
  },
  {
   "cell_type": "markdown",
   "id": "00d8c88e",
   "metadata": {},
   "source": [
    "### You can also perform k-Fold validation to validate your result"
   ]
  },
  {
   "cell_type": "code",
   "execution_count": 419,
   "id": "f5e56be5",
   "metadata": {},
   "outputs": [
    {
     "name": "stdout",
     "output_type": "stream",
     "text": [
      "Mean-squared error : [0.01480003 0.02293984 0.01806895 0.0148656  0.01235723]\n",
      "R2 score : [0.45482119 0.19188285 0.23264687 0.40804216 0.4857859 ]\n"
     ]
    }
   ],
   "source": [
    "from sklearn.model_selection import cross_val_score\n",
    "mse_scorer = make_scorer(mean_squared_error)\n",
    "mse_scores = cross_val_score(model_lr, X_train_sc, y_train, cv=5, scoring=mse_scorer)\n",
    "r2_scorer = make_scorer(r2_score)\n",
    "r2_scores = cross_val_score(model_lr,X_train_sc, y_train, cv =5, scoring=r2_scorer)\n",
    "print(\"Mean-squared error :\", mse_scores)\n",
    "print(\"R2 score :\", r2_scores)"
   ]
  },
  {
   "cell_type": "markdown",
   "id": "4bd78ce4",
   "metadata": {},
   "source": [
    "### Now test other regression model\n",
    "    Ridge, Kernel Ridge Regressor, Lasso, DecessionTree regressor, Random forest regressor, GradienBoosting regressor, XGB regressor,Gaussian Process regressor"
   ]
  },
  {
   "cell_type": "markdown",
   "id": "7dc7c13c",
   "metadata": {},
   "source": [
    "### Data Visualisation"
   ]
  },
  {
   "cell_type": "code",
   "execution_count": 420,
   "id": "a630832e",
   "metadata": {},
   "outputs": [
    {
     "data": {
      "image/png": "[encoded data removed]",
      "text/plain": [
       "<Figure size 1000x600 with 1 Axes>"
      ]
     },
     "metadata": {},
     "output_type": "display_data"
    }
   ],
   "source": [
    "plt.figure(figsize=(10, 6))\n",
    "plt.scatter(y_test, y_pred, color='blue', alpha=0.7, label='Actual vs Predicted (test)')\n",
    "plt.scatter(y_train, y_pred_train, color='green', alpha=0.7, label='Actual vs Predicted (train)')\n",
    "plt.plot(y_test, y_test, color='red', label='Perfect Prediction Line')\n",
    "plt.title('Linear Regression: Actual vs Predicted for ez')\n",
    "plt.xlabel('Actual Values')\n",
    "plt.ylabel('Predicted Values')\n",
    "plt.legend()\n",
    "plt.grid(True)\n",
    "plt.tight_layout()\n",
    "plt.show()"
   ]
  }
 ],
 "metadata": {
  "kernelspec": {
   "display_name": "Python 3 (ipykernel)",
   "language": "python",
   "name": "python3"
  },
  "language_info": {
   "codemirror_mode": {
    "name": "ipython",
    "version": 3
   },
   "file_extension": ".py",
   "mimetype": "text/x-python",
   "name": "python",
   "nbconvert_exporter": "python",
   "pygments_lexer": "ipython3",
   "version": "3.11.4"
  }
 },
 "nbformat": 4,
 "nbformat_minor": 5
}
