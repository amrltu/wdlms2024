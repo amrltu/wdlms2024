{
  "nbformat": 4,
  "nbformat_minor": 0,
  "metadata": {
    "colab": {
      "provenance": []
    },
    "kernelspec": {
      "name": "python3",
      "display_name": "Python 3"
    },
    "language_info": {
      "name": "python"
    }
  },
  "cells": [
    {
      "cell_type": "code",
      "execution_count": 1,
      "metadata": {
        "id": "HZrkIv2SjRgP"
      },
      "outputs": [],
      "source": [
        "import numpy as np"
      ]
    },
    {
      "cell_type": "code",
      "source": [
        " a = np.array([1,2,3])"
      ],
      "metadata": {
        "id": "p3_pV9QNmOHu"
      },
      "execution_count": 2,
      "outputs": []
    },
    {
      "cell_type": "code",
      "source": [
        "a"
      ],
      "metadata": {
        "colab": {
          "base_uri": "https://localhost:8080/"
        },
        "id": "EaR1vjFfmf4A",
        "outputId": "7aacf9a1-96f8-4a2a-c598-00258454b414"
      },
      "execution_count": 3,
      "outputs": [
        {
          "output_type": "execute_result",
          "data": {
            "text/plain": [
              "array([1, 2, 3])"
            ]
          },
          "metadata": {},
          "execution_count": 3
        }
      ]
    },
    {
      "cell_type": "code",
      "source": [
        "type(a)"
      ],
      "metadata": {
        "colab": {
          "base_uri": "https://localhost:8080/"
        },
        "id": "bszrARIqmiDk",
        "outputId": "9dfec28c-1f54-419d-ce10-45be23d393ce"
      },
      "execution_count": 4,
      "outputs": [
        {
          "output_type": "execute_result",
          "data": {
            "text/plain": [
              "numpy.ndarray"
            ]
          },
          "metadata": {},
          "execution_count": 4
        }
      ]
    },
    {
      "cell_type": "code",
      "source": [
        " b = np.array([(1.5,2,3), (4,5,6), (7,8,9)], dtype = float)"
      ],
      "metadata": {
        "id": "6_AhW_Domsie"
      },
      "execution_count": 5,
      "outputs": []
    },
    {
      "cell_type": "code",
      "source": [
        "b"
      ],
      "metadata": {
        "colab": {
          "base_uri": "https://localhost:8080/"
        },
        "id": "tStXTbtSnFth",
        "outputId": "24b505ed-1afd-4d51-e790-720e22fa0ba4"
      },
      "execution_count": 6,
      "outputs": [
        {
          "output_type": "execute_result",
          "data": {
            "text/plain": [
              "array([[1.5, 2. , 3. ],\n",
              "       [4. , 5. , 6. ],\n",
              "       [7. , 8. , 9. ]])"
            ]
          },
          "metadata": {},
          "execution_count": 6
        }
      ]
    },
    {
      "cell_type": "code",
      "source": [
        "type(b)"
      ],
      "metadata": {
        "colab": {
          "base_uri": "https://localhost:8080/"
        },
        "id": "UOvSRkQonJCw",
        "outputId": "fb1220f8-4558-4666-fbb5-82f53a21b932"
      },
      "execution_count": 7,
      "outputs": [
        {
          "output_type": "execute_result",
          "data": {
            "text/plain": [
              "numpy.ndarray"
            ]
          },
          "metadata": {},
          "execution_count": 7
        }
      ]
    },
    {
      "cell_type": "code",
      "source": [
        "c = np.zeros((4,4))\n",
        "c"
      ],
      "metadata": {
        "colab": {
          "base_uri": "https://localhost:8080/"
        },
        "id": "gPAcPAiLnVzW",
        "outputId": "3782adb0-8298-4448-aa8e-002972537d73"
      },
      "execution_count": 9,
      "outputs": [
        {
          "output_type": "execute_result",
          "data": {
            "text/plain": [
              "array([[0., 0., 0., 0.],\n",
              "       [0., 0., 0., 0.],\n",
              "       [0., 0., 0., 0.],\n",
              "       [0., 0., 0., 0.]])"
            ]
          },
          "metadata": {},
          "execution_count": 9
        }
      ]
    },
    {
      "cell_type": "code",
      "source": [
        "d = np.ones((5,5))\n",
        "d"
      ],
      "metadata": {
        "colab": {
          "base_uri": "https://localhost:8080/"
        },
        "id": "IGuS9ncInh3R",
        "outputId": "b66ab287-b610-49d8-d85c-66ddacaca45a"
      },
      "execution_count": 10,
      "outputs": [
        {
          "output_type": "execute_result",
          "data": {
            "text/plain": [
              "array([[1., 1., 1., 1., 1.],\n",
              "       [1., 1., 1., 1., 1.],\n",
              "       [1., 1., 1., 1., 1.],\n",
              "       [1., 1., 1., 1., 1.],\n",
              "       [1., 1., 1., 1., 1.]])"
            ]
          },
          "metadata": {},
          "execution_count": 10
        }
      ]
    },
    {
      "cell_type": "code",
      "source": [
        "i = np.eye(5)\n",
        "i"
      ],
      "metadata": {
        "colab": {
          "base_uri": "https://localhost:8080/"
        },
        "id": "hCi97USnnvMZ",
        "outputId": "72597b65-d9d6-4d2b-974a-d56c9cd9fe68"
      },
      "execution_count": 12,
      "outputs": [
        {
          "output_type": "execute_result",
          "data": {
            "text/plain": [
              "array([[1., 0., 0., 0., 0.],\n",
              "       [0., 1., 0., 0., 0.],\n",
              "       [0., 0., 1., 0., 0.],\n",
              "       [0., 0., 0., 1., 0.],\n",
              "       [0., 0., 0., 0., 1.]])"
            ]
          },
          "metadata": {},
          "execution_count": 12
        }
      ]
    },
    {
      "cell_type": "code",
      "source": [
        " j = np.random.random((5,5))\n",
        " j"
      ],
      "metadata": {
        "colab": {
          "base_uri": "https://localhost:8080/"
        },
        "id": "pOfgBhdHn534",
        "outputId": "18a3a714-b0e6-49cb-b291-1149220dbb02"
      },
      "execution_count": 17,
      "outputs": [
        {
          "output_type": "execute_result",
          "data": {
            "text/plain": [
              "array([[0.45786789, 0.82350918, 0.58334784, 0.10422805, 0.48869695],\n",
              "       [0.48709301, 0.6709702 , 0.18023041, 0.9401541 , 0.00514413],\n",
              "       [0.37731485, 0.70297556, 0.94736971, 0.85682537, 0.70660037],\n",
              "       [0.70310599, 0.28209922, 0.75668927, 0.73117242, 0.98900534],\n",
              "       [0.04800094, 0.43218799, 0.67885077, 0.20923448, 0.08526146]])"
            ]
          },
          "metadata": {},
          "execution_count": 17
        }
      ]
    },
    {
      "cell_type": "code",
      "source": [
        " np.save(\"numpy\", j)"
      ],
      "metadata": {
        "id": "7ij91ddSoiDD"
      },
      "execution_count": 18,
      "outputs": []
    },
    {
      "cell_type": "code",
      "source": [
        "k =  np.load(\"numpy.npy\")\n",
        "k"
      ],
      "metadata": {
        "colab": {
          "base_uri": "https://localhost:8080/"
        },
        "id": "byt8eP7So3_e",
        "outputId": "3f84ee2d-abf8-485e-bd98-c6ace79ab95f"
      },
      "execution_count": 19,
      "outputs": [
        {
          "output_type": "execute_result",
          "data": {
            "text/plain": [
              "array([[0.45786789, 0.82350918, 0.58334784, 0.10422805, 0.48869695],\n",
              "       [0.48709301, 0.6709702 , 0.18023041, 0.9401541 , 0.00514413],\n",
              "       [0.37731485, 0.70297556, 0.94736971, 0.85682537, 0.70660037],\n",
              "       [0.70310599, 0.28209922, 0.75668927, 0.73117242, 0.98900534],\n",
              "       [0.04800094, 0.43218799, 0.67885077, 0.20923448, 0.08526146]])"
            ]
          },
          "metadata": {},
          "execution_count": 19
        }
      ]
    },
    {
      "cell_type": "code",
      "source": [
        "k.shape"
      ],
      "metadata": {
        "colab": {
          "base_uri": "https://localhost:8080/"
        },
        "id": "FbJ01pCppNLA",
        "outputId": "c012c58d-5cfe-42c9-b1fd-2bf0600835b4"
      },
      "execution_count": 20,
      "outputs": [
        {
          "output_type": "execute_result",
          "data": {
            "text/plain": [
              "(5, 5)"
            ]
          },
          "metadata": {},
          "execution_count": 20
        }
      ]
    },
    {
      "cell_type": "code",
      "source": [
        "k.size"
      ],
      "metadata": {
        "colab": {
          "base_uri": "https://localhost:8080/"
        },
        "id": "Qg3J2r_SpTO5",
        "outputId": "a284a6f0-b433-4b59-b60b-47a4d5883c09"
      },
      "execution_count": 22,
      "outputs": [
        {
          "output_type": "execute_result",
          "data": {
            "text/plain": [
              "25"
            ]
          },
          "metadata": {},
          "execution_count": 22
        }
      ]
    },
    {
      "cell_type": "code",
      "source": [
        "a = np.array([1,2,3])\n",
        "b = np.array([3,4,5])\n",
        "c = np.subtract(a,b)\n",
        "c"
      ],
      "metadata": {
        "colab": {
          "base_uri": "https://localhost:8080/"
        },
        "id": "UTJ0d-tcp4k7",
        "outputId": "bc539949-ca76-4ae8-b49d-de28378af8ac"
      },
      "execution_count": 28,
      "outputs": [
        {
          "output_type": "execute_result",
          "data": {
            "text/plain": [
              "array([-2, -2, -2])"
            ]
          },
          "metadata": {},
          "execution_count": 28
        }
      ]
    },
    {
      "cell_type": "code",
      "source": [
        "b >2"
      ],
      "metadata": {
        "colab": {
          "base_uri": "https://localhost:8080/"
        },
        "id": "sajZVLyeqzty",
        "outputId": "9c199c99-8d31-4769-d66b-b8a816cf3813"
      },
      "execution_count": 30,
      "outputs": [
        {
          "output_type": "execute_result",
          "data": {
            "text/plain": [
              "array([ True,  True,  True])"
            ]
          },
          "metadata": {},
          "execution_count": 30
        }
      ]
    },
    {
      "cell_type": "code",
      "source": [
        "a.sum()"
      ],
      "metadata": {
        "colab": {
          "base_uri": "https://localhost:8080/"
        },
        "id": "TrHrZ_5vrMd4",
        "outputId": "18a88826-b693-46c5-8322-c1d1962a36ff"
      },
      "execution_count": 31,
      "outputs": [
        {
          "output_type": "execute_result",
          "data": {
            "text/plain": [
              "6"
            ]
          },
          "metadata": {},
          "execution_count": 31
        }
      ]
    },
    {
      "cell_type": "code",
      "source": [
        "a.min()"
      ],
      "metadata": {
        "colab": {
          "base_uri": "https://localhost:8080/"
        },
        "id": "MmEsGFh3rQRm",
        "outputId": "fb28537c-df58-4163-a9d3-964e18816ad9"
      },
      "execution_count": 32,
      "outputs": [
        {
          "output_type": "execute_result",
          "data": {
            "text/plain": [
              "1"
            ]
          },
          "metadata": {},
          "execution_count": 32
        }
      ]
    },
    {
      "cell_type": "code",
      "source": [
        "g = np.array([79, 60, 790])\n",
        "g"
      ],
      "metadata": {
        "colab": {
          "base_uri": "https://localhost:8080/"
        },
        "id": "2Qa0nl-MrqaJ",
        "outputId": "b8c143ce-93ed-49ce-adde-3d113bf023f7"
      },
      "execution_count": 33,
      "outputs": [
        {
          "output_type": "execute_result",
          "data": {
            "text/plain": [
              "array([ 79,  60, 790])"
            ]
          },
          "metadata": {},
          "execution_count": 33
        }
      ]
    },
    {
      "cell_type": "code",
      "source": [
        "print(g.sort())\n",
        "g"
      ],
      "metadata": {
        "colab": {
          "base_uri": "https://localhost:8080/"
        },
        "id": "oy7gSHpErxXn",
        "outputId": "fd28e713-0bec-43a3-a1f9-ce22b2730371"
      },
      "execution_count": 36,
      "outputs": [
        {
          "output_type": "stream",
          "name": "stdout",
          "text": [
            "None\n"
          ]
        },
        {
          "output_type": "execute_result",
          "data": {
            "text/plain": [
              "array([ 60,  79, 790])"
            ]
          },
          "metadata": {},
          "execution_count": 36
        }
      ]
    },
    {
      "cell_type": "code",
      "source": [
        "z = np.array([100,200,300,400,500,600])\n",
        "z"
      ],
      "metadata": {
        "colab": {
          "base_uri": "https://localhost:8080/"
        },
        "id": "KtOH5G4Mr9PH",
        "outputId": "7b247d68-0632-464f-a06a-2b0c1e00e0d0"
      },
      "execution_count": 37,
      "outputs": [
        {
          "output_type": "execute_result",
          "data": {
            "text/plain": [
              "array([100, 200, 300, 400, 500, 600])"
            ]
          },
          "metadata": {},
          "execution_count": 37
        }
      ]
    },
    {
      "cell_type": "code",
      "source": [
        "z[1:4]"
      ],
      "metadata": {
        "colab": {
          "base_uri": "https://localhost:8080/"
        },
        "id": "CE_ZIFZGsCKZ",
        "outputId": "16705922-1035-49f6-f115-3cb75b6d5a02"
      },
      "execution_count": 39,
      "outputs": [
        {
          "output_type": "execute_result",
          "data": {
            "text/plain": [
              "array([200, 300, 400])"
            ]
          },
          "metadata": {},
          "execution_count": 39
        }
      ]
    },
    {
      "cell_type": "code",
      "source": [],
      "metadata": {
        "id": "7g9STmZYscm0"
      },
      "execution_count": null,
      "outputs": []
    },
    {
      "cell_type": "markdown",
      "source": [
        "## Pandas"
      ],
      "metadata": {
        "id": "LkQy66R5tpKk"
      }
    },
    {
      "cell_type": "code",
      "source": [
        "import pandas as pd"
      ],
      "metadata": {
        "id": "YTZx4x5ItrkJ"
      },
      "execution_count": 40,
      "outputs": []
    },
    {
      "cell_type": "code",
      "source": [
        " s = pd.Series([3, -5, 7, 4], index=[ 'a','b','c','d'])\n",
        " s"
      ],
      "metadata": {
        "colab": {
          "base_uri": "https://localhost:8080/"
        },
        "id": "wdt0nkhqtuZR",
        "outputId": "4f8c9717-c38a-4c52-9b0d-a3aa5b214b2a"
      },
      "execution_count": 41,
      "outputs": [
        {
          "output_type": "execute_result",
          "data": {
            "text/plain": [
              "a    3\n",
              "b   -5\n",
              "c    7\n",
              "d    4\n",
              "dtype: int64"
            ]
          },
          "metadata": {},
          "execution_count": 41
        }
      ]
    },
    {
      "cell_type": "code",
      "source": [
        "type(s)"
      ],
      "metadata": {
        "colab": {
          "base_uri": "https://localhost:8080/"
        },
        "id": "4eZtDLo6t64n",
        "outputId": "7e2844d2-2dab-457a-b854-7e742e44ec2b"
      },
      "execution_count": 42,
      "outputs": [
        {
          "output_type": "execute_result",
          "data": {
            "text/plain": [
              "pandas.core.series.Series"
            ]
          },
          "metadata": {},
          "execution_count": 42
        }
      ]
    },
    {
      "cell_type": "code",
      "source": [
        "data = { 'Country': ['India' ,'Nepal' , 'Bhutan'],\n",
        "         'Capital': ['New Delhi' ,'Kathmandu' ,'Thimpu' ],\n",
        "      'Population' : [11190846, 1303171035, 207847528]}\n",
        "\n",
        "df = pd.DataFrame(data, columns=['Country' ,'Capital' , 'Population'])\n",
        "df"
      ],
      "metadata": {
        "colab": {
          "base_uri": "https://localhost:8080/",
          "height": 143
        },
        "id": "EOHRRAJVuELp",
        "outputId": "e87397f6-4312-453f-af25-cc6409e78ed4"
      },
      "execution_count": 51,
      "outputs": [
        {
          "output_type": "execute_result",
          "data": {
            "text/plain": [
              "  Country    Capital  Population\n",
              "0   India  New Delhi    11190846\n",
              "1   Nepal  Kathmandu  1303171035\n",
              "2  Bhutan     Thimpu   207847528"
            ],
            "text/html": [
              "\n",
              "  <div id=\"df-ac5763ea-271c-4797-bd22-cfff0a3b434b\" class=\"colab-df-container\">\n",
              "    <div>\n",
              "<style scoped>\n",
              "    .dataframe tbody tr th:only-of-type {\n",
              "        vertical-align: middle;\n",
              "    }\n",
              "\n",
              "    .dataframe tbody tr th {\n",
              "        vertical-align: top;\n",
              "    }\n",
              "\n",
              "    .dataframe thead th {\n",
              "        text-align: right;\n",
              "    }\n",
              "</style>\n",
              "<table border=\"1\" class=\"dataframe\">\n",
              "  <thead>\n",
              "    <tr style=\"text-align: right;\">\n",
              "      <th></th>\n",
              "      <th>Country</th>\n",
              "      <th>Capital</th>\n",
              "      <th>Population</th>\n",
              "    </tr>\n",
              "  </thead>\n",
              "  <tbody>\n",
              "    <tr>\n",
              "      <th>0</th>\n",
              "      <td>India</td>\n",
              "      <td>New Delhi</td>\n",
              "      <td>11190846</td>\n",
              "    </tr>\n",
              "    <tr>\n",
              "      <th>1</th>\n",
              "      <td>Nepal</td>\n",
              "      <td>Kathmandu</td>\n",
              "      <td>1303171035</td>\n",
              "    </tr>\n",
              "    <tr>\n",
              "      <th>2</th>\n",
              "      <td>Bhutan</td>\n",
              "      <td>Thimpu</td>\n",
              "      <td>207847528</td>\n",
              "    </tr>\n",
              "  </tbody>\n",
              "</table>\n",
              "</div>\n",
              "    <div class=\"colab-df-buttons\">\n",
              "\n",
              "  <div class=\"colab-df-container\">\n",
              "    <button class=\"colab-df-convert\" onclick=\"convertToInteractive('df-ac5763ea-271c-4797-bd22-cfff0a3b434b')\"\n",
              "            title=\"Convert this dataframe to an interactive table.\"\n",
              "            style=\"display:none;\">\n",
              "\n",
              "  <svg xmlns=\"http://www.w3.org/2000/svg\" height=\"24px\" viewBox=\"0 -960 960 960\">\n",
              "    <path d=\"M120-120v-720h720v720H120Zm60-500h600v-160H180v160Zm220 220h160v-160H400v160Zm0 220h160v-160H400v160ZM180-400h160v-160H180v160Zm440 0h160v-160H620v160ZM180-180h160v-160H180v160Zm440 0h160v-160H620v160Z\"/>\n",
              "  </svg>\n",
              "    </button>\n",
              "\n",
              "  <style>\n",
              "    .colab-df-container {\n",
              "      display:flex;\n",
              "      gap: 12px;\n",
              "    }\n",
              "\n",
              "    .colab-df-convert {\n",
              "      background-color: #E8F0FE;\n",
              "      border: none;\n",
              "      border-radius: 50%;\n",
              "      cursor: pointer;\n",
              "      display: none;\n",
              "      fill: #1967D2;\n",
              "      height: 32px;\n",
              "      padding: 0 0 0 0;\n",
              "      width: 32px;\n",
              "    }\n",
              "\n",
              "    .colab-df-convert:hover {\n",
              "      background-color: #E2EBFA;\n",
              "      box-shadow: 0px 1px 2px rgba(60, 64, 67, 0.3), 0px 1px 3px 1px rgba(60, 64, 67, 0.15);\n",
              "      fill: #174EA6;\n",
              "    }\n",
              "\n",
              "    .colab-df-buttons div {\n",
              "      margin-bottom: 4px;\n",
              "    }\n",
              "\n",
              "    [theme=dark] .colab-df-convert {\n",
              "      background-color: #3B4455;\n",
              "      fill: #D2E3FC;\n",
              "    }\n",
              "\n",
              "    [theme=dark] .colab-df-convert:hover {\n",
              "      background-color: #434B5C;\n",
              "      box-shadow: 0px 1px 3px 1px rgba(0, 0, 0, 0.15);\n",
              "      filter: drop-shadow(0px 1px 2px rgba(0, 0, 0, 0.3));\n",
              "      fill: #FFFFFF;\n",
              "    }\n",
              "  </style>\n",
              "\n",
              "    <script>\n",
              "      const buttonEl =\n",
              "        document.querySelector('#df-ac5763ea-271c-4797-bd22-cfff0a3b434b button.colab-df-convert');\n",
              "      buttonEl.style.display =\n",
              "        google.colab.kernel.accessAllowed ? 'block' : 'none';\n",
              "\n",
              "      async function convertToInteractive(key) {\n",
              "        const element = document.querySelector('#df-ac5763ea-271c-4797-bd22-cfff0a3b434b');\n",
              "        const dataTable =\n",
              "          await google.colab.kernel.invokeFunction('convertToInteractive',\n",
              "                                                    [key], {});\n",
              "        if (!dataTable) return;\n",
              "\n",
              "        const docLinkHtml = 'Like what you see? Visit the ' +\n",
              "          '<a target=\"_blank\" href=https://colab.research.google.com/notebooks/data_table.ipynb>data table notebook</a>'\n",
              "          + ' to learn more about interactive tables.';\n",
              "        element.innerHTML = '';\n",
              "        dataTable['output_type'] = 'display_data';\n",
              "        await google.colab.output.renderOutput(dataTable, element);\n",
              "        const docLink = document.createElement('div');\n",
              "        docLink.innerHTML = docLinkHtml;\n",
              "        element.appendChild(docLink);\n",
              "      }\n",
              "    </script>\n",
              "  </div>\n",
              "\n",
              "\n",
              "<div id=\"df-9cce8cd0-5a8d-438e-ab73-92a821e02d2f\">\n",
              "  <button class=\"colab-df-quickchart\" onclick=\"quickchart('df-9cce8cd0-5a8d-438e-ab73-92a821e02d2f')\"\n",
              "            title=\"Suggest charts\"\n",
              "            style=\"display:none;\">\n",
              "\n",
              "<svg xmlns=\"http://www.w3.org/2000/svg\" height=\"24px\"viewBox=\"0 0 24 24\"\n",
              "     width=\"24px\">\n",
              "    <g>\n",
              "        <path d=\"M19 3H5c-1.1 0-2 .9-2 2v14c0 1.1.9 2 2 2h14c1.1 0 2-.9 2-2V5c0-1.1-.9-2-2-2zM9 17H7v-7h2v7zm4 0h-2V7h2v10zm4 0h-2v-4h2v4z\"/>\n",
              "    </g>\n",
              "</svg>\n",
              "  </button>\n",
              "\n",
              "<style>\n",
              "  .colab-df-quickchart {\n",
              "      --bg-color: #E8F0FE;\n",
              "      --fill-color: #1967D2;\n",
              "      --hover-bg-color: #E2EBFA;\n",
              "      --hover-fill-color: #174EA6;\n",
              "      --disabled-fill-color: #AAA;\n",
              "      --disabled-bg-color: #DDD;\n",
              "  }\n",
              "\n",
              "  [theme=dark] .colab-df-quickchart {\n",
              "      --bg-color: #3B4455;\n",
              "      --fill-color: #D2E3FC;\n",
              "      --hover-bg-color: #434B5C;\n",
              "      --hover-fill-color: #FFFFFF;\n",
              "      --disabled-bg-color: #3B4455;\n",
              "      --disabled-fill-color: #666;\n",
              "  }\n",
              "\n",
              "  .colab-df-quickchart {\n",
              "    background-color: var(--bg-color);\n",
              "    border: none;\n",
              "    border-radius: 50%;\n",
              "    cursor: pointer;\n",
              "    display: none;\n",
              "    fill: var(--fill-color);\n",
              "    height: 32px;\n",
              "    padding: 0;\n",
              "    width: 32px;\n",
              "  }\n",
              "\n",
              "  .colab-df-quickchart:hover {\n",
              "    background-color: var(--hover-bg-color);\n",
              "    box-shadow: 0 1px 2px rgba(60, 64, 67, 0.3), 0 1px 3px 1px rgba(60, 64, 67, 0.15);\n",
              "    fill: var(--button-hover-fill-color);\n",
              "  }\n",
              "\n",
              "  .colab-df-quickchart-complete:disabled,\n",
              "  .colab-df-quickchart-complete:disabled:hover {\n",
              "    background-color: var(--disabled-bg-color);\n",
              "    fill: var(--disabled-fill-color);\n",
              "    box-shadow: none;\n",
              "  }\n",
              "\n",
              "  .colab-df-spinner {\n",
              "    border: 2px solid var(--fill-color);\n",
              "    border-color: transparent;\n",
              "    border-bottom-color: var(--fill-color);\n",
              "    animation:\n",
              "      spin 1s steps(1) infinite;\n",
              "  }\n",
              "\n",
              "  @keyframes spin {\n",
              "    0% {\n",
              "      border-color: transparent;\n",
              "      border-bottom-color: var(--fill-color);\n",
              "      border-left-color: var(--fill-color);\n",
              "    }\n",
              "    20% {\n",
              "      border-color: transparent;\n",
              "      border-left-color: var(--fill-color);\n",
              "      border-top-color: var(--fill-color);\n",
              "    }\n",
              "    30% {\n",
              "      border-color: transparent;\n",
              "      border-left-color: var(--fill-color);\n",
              "      border-top-color: var(--fill-color);\n",
              "      border-right-color: var(--fill-color);\n",
              "    }\n",
              "    40% {\n",
              "      border-color: transparent;\n",
              "      border-right-color: var(--fill-color);\n",
              "      border-top-color: var(--fill-color);\n",
              "    }\n",
              "    60% {\n",
              "      border-color: transparent;\n",
              "      border-right-color: var(--fill-color);\n",
              "    }\n",
              "    80% {\n",
              "      border-color: transparent;\n",
              "      border-right-color: var(--fill-color);\n",
              "      border-bottom-color: var(--fill-color);\n",
              "    }\n",
              "    90% {\n",
              "      border-color: transparent;\n",
              "      border-bottom-color: var(--fill-color);\n",
              "    }\n",
              "  }\n",
              "</style>\n",
              "\n",
              "  <script>\n",
              "    async function quickchart(key) {\n",
              "      const quickchartButtonEl =\n",
              "        document.querySelector('#' + key + ' button');\n",
              "      quickchartButtonEl.disabled = true;  // To prevent multiple clicks.\n",
              "      quickchartButtonEl.classList.add('colab-df-spinner');\n",
              "      try {\n",
              "        const charts = await google.colab.kernel.invokeFunction(\n",
              "            'suggestCharts', [key], {});\n",
              "      } catch (error) {\n",
              "        console.error('Error during call to suggestCharts:', error);\n",
              "      }\n",
              "      quickchartButtonEl.classList.remove('colab-df-spinner');\n",
              "      quickchartButtonEl.classList.add('colab-df-quickchart-complete');\n",
              "    }\n",
              "    (() => {\n",
              "      let quickchartButtonEl =\n",
              "        document.querySelector('#df-9cce8cd0-5a8d-438e-ab73-92a821e02d2f button');\n",
              "      quickchartButtonEl.style.display =\n",
              "        google.colab.kernel.accessAllowed ? 'block' : 'none';\n",
              "    })();\n",
              "  </script>\n",
              "</div>\n",
              "\n",
              "  <div id=\"id_9c53100b-b624-47b0-b296-e36f30552798\">\n",
              "    <style>\n",
              "      .colab-df-generate {\n",
              "        background-color: #E8F0FE;\n",
              "        border: none;\n",
              "        border-radius: 50%;\n",
              "        cursor: pointer;\n",
              "        display: none;\n",
              "        fill: #1967D2;\n",
              "        height: 32px;\n",
              "        padding: 0 0 0 0;\n",
              "        width: 32px;\n",
              "      }\n",
              "\n",
              "      .colab-df-generate:hover {\n",
              "        background-color: #E2EBFA;\n",
              "        box-shadow: 0px 1px 2px rgba(60, 64, 67, 0.3), 0px 1px 3px 1px rgba(60, 64, 67, 0.15);\n",
              "        fill: #174EA6;\n",
              "      }\n",
              "\n",
              "      [theme=dark] .colab-df-generate {\n",
              "        background-color: #3B4455;\n",
              "        fill: #D2E3FC;\n",
              "      }\n",
              "\n",
              "      [theme=dark] .colab-df-generate:hover {\n",
              "        background-color: #434B5C;\n",
              "        box-shadow: 0px 1px 3px 1px rgba(0, 0, 0, 0.15);\n",
              "        filter: drop-shadow(0px 1px 2px rgba(0, 0, 0, 0.3));\n",
              "        fill: #FFFFFF;\n",
              "      }\n",
              "    </style>\n",
              "    <button class=\"colab-df-generate\" onclick=\"generateWithVariable('df')\"\n",
              "            title=\"Generate code using this dataframe.\"\n",
              "            style=\"display:none;\">\n",
              "\n",
              "  <svg xmlns=\"http://www.w3.org/2000/svg\" height=\"24px\"viewBox=\"0 0 24 24\"\n",
              "       width=\"24px\">\n",
              "    <path d=\"M7,19H8.4L18.45,9,17,7.55,7,17.6ZM5,21V16.75L18.45,3.32a2,2,0,0,1,2.83,0l1.4,1.43a1.91,1.91,0,0,1,.58,1.4,1.91,1.91,0,0,1-.58,1.4L9.25,21ZM18.45,9,17,7.55Zm-12,3A5.31,5.31,0,0,0,4.9,8.1,5.31,5.31,0,0,0,1,6.5,5.31,5.31,0,0,0,4.9,4.9,5.31,5.31,0,0,0,6.5,1,5.31,5.31,0,0,0,8.1,4.9,5.31,5.31,0,0,0,12,6.5,5.46,5.46,0,0,0,6.5,12Z\"/>\n",
              "  </svg>\n",
              "    </button>\n",
              "    <script>\n",
              "      (() => {\n",
              "      const buttonEl =\n",
              "        document.querySelector('#id_9c53100b-b624-47b0-b296-e36f30552798 button.colab-df-generate');\n",
              "      buttonEl.style.display =\n",
              "        google.colab.kernel.accessAllowed ? 'block' : 'none';\n",
              "\n",
              "      buttonEl.onclick = () => {\n",
              "        google.colab.notebook.generateWithVariable('df');\n",
              "      }\n",
              "      })();\n",
              "    </script>\n",
              "  </div>\n",
              "\n",
              "    </div>\n",
              "  </div>\n"
            ]
          },
          "metadata": {},
          "execution_count": 51
        }
      ]
    },
    {
      "cell_type": "code",
      "source": [
        "df.drop(2, axis=0, inplace=True)\n",
        "df"
      ],
      "metadata": {
        "colab": {
          "base_uri": "https://localhost:8080/",
          "height": 125
        },
        "id": "3BIXyiM7vP7q",
        "outputId": "ac68b5a8-9d6e-4e32-eaf4-813e43d72a3e"
      },
      "execution_count": 52,
      "outputs": [
        {
          "output_type": "execute_result",
          "data": {
            "text/plain": [
              "  Country    Capital  Population\n",
              "0   India  New Delhi    11190846\n",
              "1   Nepal  Kathmandu  1303171035"
            ],
            "text/html": [
              "\n",
              "  <div id=\"df-c6d10bb3-2b1d-4cbb-9c57-6101046a7e96\" class=\"colab-df-container\">\n",
              "    <div>\n",
              "<style scoped>\n",
              "    .dataframe tbody tr th:only-of-type {\n",
              "        vertical-align: middle;\n",
              "    }\n",
              "\n",
              "    .dataframe tbody tr th {\n",
              "        vertical-align: top;\n",
              "    }\n",
              "\n",
              "    .dataframe thead th {\n",
              "        text-align: right;\n",
              "    }\n",
              "</style>\n",
              "<table border=\"1\" class=\"dataframe\">\n",
              "  <thead>\n",
              "    <tr style=\"text-align: right;\">\n",
              "      <th></th>\n",
              "      <th>Country</th>\n",
              "      <th>Capital</th>\n",
              "      <th>Population</th>\n",
              "    </tr>\n",
              "  </thead>\n",
              "  <tbody>\n",
              "    <tr>\n",
              "      <th>0</th>\n",
              "      <td>India</td>\n",
              "      <td>New Delhi</td>\n",
              "      <td>11190846</td>\n",
              "    </tr>\n",
              "    <tr>\n",
              "      <th>1</th>\n",
              "      <td>Nepal</td>\n",
              "      <td>Kathmandu</td>\n",
              "      <td>1303171035</td>\n",
              "    </tr>\n",
              "  </tbody>\n",
              "</table>\n",
              "</div>\n",
              "    <div class=\"colab-df-buttons\">\n",
              "\n",
              "  <div class=\"colab-df-container\">\n",
              "    <button class=\"colab-df-convert\" onclick=\"convertToInteractive('df-c6d10bb3-2b1d-4cbb-9c57-6101046a7e96')\"\n",
              "            title=\"Convert this dataframe to an interactive table.\"\n",
              "            style=\"display:none;\">\n",
              "\n",
              "  <svg xmlns=\"http://www.w3.org/2000/svg\" height=\"24px\" viewBox=\"0 -960 960 960\">\n",
              "    <path d=\"M120-120v-720h720v720H120Zm60-500h600v-160H180v160Zm220 220h160v-160H400v160Zm0 220h160v-160H400v160ZM180-400h160v-160H180v160Zm440 0h160v-160H620v160ZM180-180h160v-160H180v160Zm440 0h160v-160H620v160Z\"/>\n",
              "  </svg>\n",
              "    </button>\n",
              "\n",
              "  <style>\n",
              "    .colab-df-container {\n",
              "      display:flex;\n",
              "      gap: 12px;\n",
              "    }\n",
              "\n",
              "    .colab-df-convert {\n",
              "      background-color: #E8F0FE;\n",
              "      border: none;\n",
              "      border-radius: 50%;\n",
              "      cursor: pointer;\n",
              "      display: none;\n",
              "      fill: #1967D2;\n",
              "      height: 32px;\n",
              "      padding: 0 0 0 0;\n",
              "      width: 32px;\n",
              "    }\n",
              "\n",
              "    .colab-df-convert:hover {\n",
              "      background-color: #E2EBFA;\n",
              "      box-shadow: 0px 1px 2px rgba(60, 64, 67, 0.3), 0px 1px 3px 1px rgba(60, 64, 67, 0.15);\n",
              "      fill: #174EA6;\n",
              "    }\n",
              "\n",
              "    .colab-df-buttons div {\n",
              "      margin-bottom: 4px;\n",
              "    }\n",
              "\n",
              "    [theme=dark] .colab-df-convert {\n",
              "      background-color: #3B4455;\n",
              "      fill: #D2E3FC;\n",
              "    }\n",
              "\n",
              "    [theme=dark] .colab-df-convert:hover {\n",
              "      background-color: #434B5C;\n",
              "      box-shadow: 0px 1px 3px 1px rgba(0, 0, 0, 0.15);\n",
              "      filter: drop-shadow(0px 1px 2px rgba(0, 0, 0, 0.3));\n",
              "      fill: #FFFFFF;\n",
              "    }\n",
              "  </style>\n",
              "\n",
              "    <script>\n",
              "      const buttonEl =\n",
              "        document.querySelector('#df-c6d10bb3-2b1d-4cbb-9c57-6101046a7e96 button.colab-df-convert');\n",
              "      buttonEl.style.display =\n",
              "        google.colab.kernel.accessAllowed ? 'block' : 'none';\n",
              "\n",
              "      async function convertToInteractive(key) {\n",
              "        const element = document.querySelector('#df-c6d10bb3-2b1d-4cbb-9c57-6101046a7e96');\n",
              "        const dataTable =\n",
              "          await google.colab.kernel.invokeFunction('convertToInteractive',\n",
              "                                                    [key], {});\n",
              "        if (!dataTable) return;\n",
              "\n",
              "        const docLinkHtml = 'Like what you see? Visit the ' +\n",
              "          '<a target=\"_blank\" href=https://colab.research.google.com/notebooks/data_table.ipynb>data table notebook</a>'\n",
              "          + ' to learn more about interactive tables.';\n",
              "        element.innerHTML = '';\n",
              "        dataTable['output_type'] = 'display_data';\n",
              "        await google.colab.output.renderOutput(dataTable, element);\n",
              "        const docLink = document.createElement('div');\n",
              "        docLink.innerHTML = docLinkHtml;\n",
              "        element.appendChild(docLink);\n",
              "      }\n",
              "    </script>\n",
              "  </div>\n",
              "\n",
              "\n",
              "<div id=\"df-03967284-b2bb-4505-9384-e89321cae958\">\n",
              "  <button class=\"colab-df-quickchart\" onclick=\"quickchart('df-03967284-b2bb-4505-9384-e89321cae958')\"\n",
              "            title=\"Suggest charts\"\n",
              "            style=\"display:none;\">\n",
              "\n",
              "<svg xmlns=\"http://www.w3.org/2000/svg\" height=\"24px\"viewBox=\"0 0 24 24\"\n",
              "     width=\"24px\">\n",
              "    <g>\n",
              "        <path d=\"M19 3H5c-1.1 0-2 .9-2 2v14c0 1.1.9 2 2 2h14c1.1 0 2-.9 2-2V5c0-1.1-.9-2-2-2zM9 17H7v-7h2v7zm4 0h-2V7h2v10zm4 0h-2v-4h2v4z\"/>\n",
              "    </g>\n",
              "</svg>\n",
              "  </button>\n",
              "\n",
              "<style>\n",
              "  .colab-df-quickchart {\n",
              "      --bg-color: #E8F0FE;\n",
              "      --fill-color: #1967D2;\n",
              "      --hover-bg-color: #E2EBFA;\n",
              "      --hover-fill-color: #174EA6;\n",
              "      --disabled-fill-color: #AAA;\n",
              "      --disabled-bg-color: #DDD;\n",
              "  }\n",
              "\n",
              "  [theme=dark] .colab-df-quickchart {\n",
              "      --bg-color: #3B4455;\n",
              "      --fill-color: #D2E3FC;\n",
              "      --hover-bg-color: #434B5C;\n",
              "      --hover-fill-color: #FFFFFF;\n",
              "      --disabled-bg-color: #3B4455;\n",
              "      --disabled-fill-color: #666;\n",
              "  }\n",
              "\n",
              "  .colab-df-quickchart {\n",
              "    background-color: var(--bg-color);\n",
              "    border: none;\n",
              "    border-radius: 50%;\n",
              "    cursor: pointer;\n",
              "    display: none;\n",
              "    fill: var(--fill-color);\n",
              "    height: 32px;\n",
              "    padding: 0;\n",
              "    width: 32px;\n",
              "  }\n",
              "\n",
              "  .colab-df-quickchart:hover {\n",
              "    background-color: var(--hover-bg-color);\n",
              "    box-shadow: 0 1px 2px rgba(60, 64, 67, 0.3), 0 1px 3px 1px rgba(60, 64, 67, 0.15);\n",
              "    fill: var(--button-hover-fill-color);\n",
              "  }\n",
              "\n",
              "  .colab-df-quickchart-complete:disabled,\n",
              "  .colab-df-quickchart-complete:disabled:hover {\n",
              "    background-color: var(--disabled-bg-color);\n",
              "    fill: var(--disabled-fill-color);\n",
              "    box-shadow: none;\n",
              "  }\n",
              "\n",
              "  .colab-df-spinner {\n",
              "    border: 2px solid var(--fill-color);\n",
              "    border-color: transparent;\n",
              "    border-bottom-color: var(--fill-color);\n",
              "    animation:\n",
              "      spin 1s steps(1) infinite;\n",
              "  }\n",
              "\n",
              "  @keyframes spin {\n",
              "    0% {\n",
              "      border-color: transparent;\n",
              "      border-bottom-color: var(--fill-color);\n",
              "      border-left-color: var(--fill-color);\n",
              "    }\n",
              "    20% {\n",
              "      border-color: transparent;\n",
              "      border-left-color: var(--fill-color);\n",
              "      border-top-color: var(--fill-color);\n",
              "    }\n",
              "    30% {\n",
              "      border-color: transparent;\n",
              "      border-left-color: var(--fill-color);\n",
              "      border-top-color: var(--fill-color);\n",
              "      border-right-color: var(--fill-color);\n",
              "    }\n",
              "    40% {\n",
              "      border-color: transparent;\n",
              "      border-right-color: var(--fill-color);\n",
              "      border-top-color: var(--fill-color);\n",
              "    }\n",
              "    60% {\n",
              "      border-color: transparent;\n",
              "      border-right-color: var(--fill-color);\n",
              "    }\n",
              "    80% {\n",
              "      border-color: transparent;\n",
              "      border-right-color: var(--fill-color);\n",
              "      border-bottom-color: var(--fill-color);\n",
              "    }\n",
              "    90% {\n",
              "      border-color: transparent;\n",
              "      border-bottom-color: var(--fill-color);\n",
              "    }\n",
              "  }\n",
              "</style>\n",
              "\n",
              "  <script>\n",
              "    async function quickchart(key) {\n",
              "      const quickchartButtonEl =\n",
              "        document.querySelector('#' + key + ' button');\n",
              "      quickchartButtonEl.disabled = true;  // To prevent multiple clicks.\n",
              "      quickchartButtonEl.classList.add('colab-df-spinner');\n",
              "      try {\n",
              "        const charts = await google.colab.kernel.invokeFunction(\n",
              "            'suggestCharts', [key], {});\n",
              "      } catch (error) {\n",
              "        console.error('Error during call to suggestCharts:', error);\n",
              "      }\n",
              "      quickchartButtonEl.classList.remove('colab-df-spinner');\n",
              "      quickchartButtonEl.classList.add('colab-df-quickchart-complete');\n",
              "    }\n",
              "    (() => {\n",
              "      let quickchartButtonEl =\n",
              "        document.querySelector('#df-03967284-b2bb-4505-9384-e89321cae958 button');\n",
              "      quickchartButtonEl.style.display =\n",
              "        google.colab.kernel.accessAllowed ? 'block' : 'none';\n",
              "    })();\n",
              "  </script>\n",
              "</div>\n",
              "\n",
              "  <div id=\"id_f84843ef-0528-419f-af87-a5df20c3e3bc\">\n",
              "    <style>\n",
              "      .colab-df-generate {\n",
              "        background-color: #E8F0FE;\n",
              "        border: none;\n",
              "        border-radius: 50%;\n",
              "        cursor: pointer;\n",
              "        display: none;\n",
              "        fill: #1967D2;\n",
              "        height: 32px;\n",
              "        padding: 0 0 0 0;\n",
              "        width: 32px;\n",
              "      }\n",
              "\n",
              "      .colab-df-generate:hover {\n",
              "        background-color: #E2EBFA;\n",
              "        box-shadow: 0px 1px 2px rgba(60, 64, 67, 0.3), 0px 1px 3px 1px rgba(60, 64, 67, 0.15);\n",
              "        fill: #174EA6;\n",
              "      }\n",
              "\n",
              "      [theme=dark] .colab-df-generate {\n",
              "        background-color: #3B4455;\n",
              "        fill: #D2E3FC;\n",
              "      }\n",
              "\n",
              "      [theme=dark] .colab-df-generate:hover {\n",
              "        background-color: #434B5C;\n",
              "        box-shadow: 0px 1px 3px 1px rgba(0, 0, 0, 0.15);\n",
              "        filter: drop-shadow(0px 1px 2px rgba(0, 0, 0, 0.3));\n",
              "        fill: #FFFFFF;\n",
              "      }\n",
              "    </style>\n",
              "    <button class=\"colab-df-generate\" onclick=\"generateWithVariable('df')\"\n",
              "            title=\"Generate code using this dataframe.\"\n",
              "            style=\"display:none;\">\n",
              "\n",
              "  <svg xmlns=\"http://www.w3.org/2000/svg\" height=\"24px\"viewBox=\"0 0 24 24\"\n",
              "       width=\"24px\">\n",
              "    <path d=\"M7,19H8.4L18.45,9,17,7.55,7,17.6ZM5,21V16.75L18.45,3.32a2,2,0,0,1,2.83,0l1.4,1.43a1.91,1.91,0,0,1,.58,1.4,1.91,1.91,0,0,1-.58,1.4L9.25,21ZM18.45,9,17,7.55Zm-12,3A5.31,5.31,0,0,0,4.9,8.1,5.31,5.31,0,0,0,1,6.5,5.31,5.31,0,0,0,4.9,4.9,5.31,5.31,0,0,0,6.5,1,5.31,5.31,0,0,0,8.1,4.9,5.31,5.31,0,0,0,12,6.5,5.46,5.46,0,0,0,6.5,12Z\"/>\n",
              "  </svg>\n",
              "    </button>\n",
              "    <script>\n",
              "      (() => {\n",
              "      const buttonEl =\n",
              "        document.querySelector('#id_f84843ef-0528-419f-af87-a5df20c3e3bc button.colab-df-generate');\n",
              "      buttonEl.style.display =\n",
              "        google.colab.kernel.accessAllowed ? 'block' : 'none';\n",
              "\n",
              "      buttonEl.onclick = () => {\n",
              "        google.colab.notebook.generateWithVariable('df');\n",
              "      }\n",
              "      })();\n",
              "    </script>\n",
              "  </div>\n",
              "\n",
              "    </div>\n",
              "  </div>\n"
            ]
          },
          "metadata": {},
          "execution_count": 52
        }
      ]
    },
    {
      "cell_type": "code",
      "source": [
        "new_df = pd.read_csv(\"sample.csv\")\n",
        "new_df.tail()"
      ],
      "metadata": {
        "colab": {
          "base_uri": "https://localhost:8080/",
          "height": 347
        },
        "id": "vMp_w1y7wFb0",
        "outputId": "5c7d9bf7-af41-44e1-95a0-4d102ceba570"
      },
      "execution_count": 56,
      "outputs": [
        {
          "output_type": "execute_result",
          "data": {
            "text/plain": [
              "    Index      Customer Id First Name Last Name                Company  \\\n",
              "95     96  cb8E23e48d22Eae       Karl     Greer              Carey LLC   \n",
              "96     97  CeD220bdAaCfaDf       Lynn  Atkinson  Ware, Burns and Oneal   \n",
              "97     98  28CDbC0dFe4b1Db       Fred    Guerra          Schmitt-Jones   \n",
              "98     99  c23d1D9EE8DEB0A     Yvonne    Farmer     Fitzgerald-Harrell   \n",
              "99    100  2354a0E336A91A1   Clarence    Haynes     Le, Nash and Cross   \n",
              "\n",
              "               City          Country               Phone 1  \\\n",
              "95     East Richard           Guyana   (188)169-1674x58692   \n",
              "96     New Bradview        Sri Lanka       +1-846-706-2218   \n",
              "97       Ortegaland  Solomon Islands  +1-753-067-8419x7170   \n",
              "98  Lake Elijahview            Aruba         (530)311-9786   \n",
              "99        Judymouth         Honduras         (753)813-6941   \n",
              "\n",
              "                   Phone 2                           Email Subscription Date  \\\n",
              "95    001-841-293-3519x614                hhart@jensen.com        2022-01-30   \n",
              "96            605.413.3198               vkemp@ferrell.com        2021-07-10   \n",
              "97   +1-632-666-7507x92121                swagner@kane.org        2021-09-18   \n",
              "98  001-869-452-0943x12424  mccarthystephen@horn-green.biz        2021-08-11   \n",
              "99            783.639.1472          colleen91@faulkner.biz        2020-03-11   \n",
              "\n",
              "                              Website  \n",
              "95            http://hayes-perez.com/  \n",
              "96         https://novak-allison.com/  \n",
              "97              https://www.ross.com/  \n",
              "98               http://watkins.info/  \n",
              "99  http://www.hatfield-saunders.net/  "
            ],
            "text/html": [
              "\n",
              "  <div id=\"df-54ff70be-8ad5-4356-be2a-387cded81fcd\" class=\"colab-df-container\">\n",
              "    <div>\n",
              "<style scoped>\n",
              "    .dataframe tbody tr th:only-of-type {\n",
              "        vertical-align: middle;\n",
              "    }\n",
              "\n",
              "    .dataframe tbody tr th {\n",
              "        vertical-align: top;\n",
              "    }\n",
              "\n",
              "    .dataframe thead th {\n",
              "        text-align: right;\n",
              "    }\n",
              "</style>\n",
              "<table border=\"1\" class=\"dataframe\">\n",
              "  <thead>\n",
              "    <tr style=\"text-align: right;\">\n",
              "      <th></th>\n",
              "      <th>Index</th>\n",
              "      <th>Customer Id</th>\n",
              "      <th>First Name</th>\n",
              "      <th>Last Name</th>\n",
              "      <th>Company</th>\n",
              "      <th>City</th>\n",
              "      <th>Country</th>\n",
              "      <th>Phone 1</th>\n",
              "      <th>Phone 2</th>\n",
              "      <th>Email</th>\n",
              "      <th>Subscription Date</th>\n",
              "      <th>Website</th>\n",
              "    </tr>\n",
              "  </thead>\n",
              "  <tbody>\n",
              "    <tr>\n",
              "      <th>95</th>\n",
              "      <td>96</td>\n",
              "      <td>cb8E23e48d22Eae</td>\n",
              "      <td>Karl</td>\n",
              "      <td>Greer</td>\n",
              "      <td>Carey LLC</td>\n",
              "      <td>East Richard</td>\n",
              "      <td>Guyana</td>\n",
              "      <td>(188)169-1674x58692</td>\n",
              "      <td>001-841-293-3519x614</td>\n",
              "      <td>hhart@jensen.com</td>\n",
              "      <td>2022-01-30</td>\n",
              "      <td>http://hayes-perez.com/</td>\n",
              "    </tr>\n",
              "    <tr>\n",
              "      <th>96</th>\n",
              "      <td>97</td>\n",
              "      <td>CeD220bdAaCfaDf</td>\n",
              "      <td>Lynn</td>\n",
              "      <td>Atkinson</td>\n",
              "      <td>Ware, Burns and Oneal</td>\n",
              "      <td>New Bradview</td>\n",
              "      <td>Sri Lanka</td>\n",
              "      <td>+1-846-706-2218</td>\n",
              "      <td>605.413.3198</td>\n",
              "      <td>vkemp@ferrell.com</td>\n",
              "      <td>2021-07-10</td>\n",
              "      <td>https://novak-allison.com/</td>\n",
              "    </tr>\n",
              "    <tr>\n",
              "      <th>97</th>\n",
              "      <td>98</td>\n",
              "      <td>28CDbC0dFe4b1Db</td>\n",
              "      <td>Fred</td>\n",
              "      <td>Guerra</td>\n",
              "      <td>Schmitt-Jones</td>\n",
              "      <td>Ortegaland</td>\n",
              "      <td>Solomon Islands</td>\n",
              "      <td>+1-753-067-8419x7170</td>\n",
              "      <td>+1-632-666-7507x92121</td>\n",
              "      <td>swagner@kane.org</td>\n",
              "      <td>2021-09-18</td>\n",
              "      <td>https://www.ross.com/</td>\n",
              "    </tr>\n",
              "    <tr>\n",
              "      <th>98</th>\n",
              "      <td>99</td>\n",
              "      <td>c23d1D9EE8DEB0A</td>\n",
              "      <td>Yvonne</td>\n",
              "      <td>Farmer</td>\n",
              "      <td>Fitzgerald-Harrell</td>\n",
              "      <td>Lake Elijahview</td>\n",
              "      <td>Aruba</td>\n",
              "      <td>(530)311-9786</td>\n",
              "      <td>001-869-452-0943x12424</td>\n",
              "      <td>mccarthystephen@horn-green.biz</td>\n",
              "      <td>2021-08-11</td>\n",
              "      <td>http://watkins.info/</td>\n",
              "    </tr>\n",
              "    <tr>\n",
              "      <th>99</th>\n",
              "      <td>100</td>\n",
              "      <td>2354a0E336A91A1</td>\n",
              "      <td>Clarence</td>\n",
              "      <td>Haynes</td>\n",
              "      <td>Le, Nash and Cross</td>\n",
              "      <td>Judymouth</td>\n",
              "      <td>Honduras</td>\n",
              "      <td>(753)813-6941</td>\n",
              "      <td>783.639.1472</td>\n",
              "      <td>colleen91@faulkner.biz</td>\n",
              "      <td>2020-03-11</td>\n",
              "      <td>http://www.hatfield-saunders.net/</td>\n",
              "    </tr>\n",
              "  </tbody>\n",
              "</table>\n",
              "</div>\n",
              "    <div class=\"colab-df-buttons\">\n",
              "\n",
              "  <div class=\"colab-df-container\">\n",
              "    <button class=\"colab-df-convert\" onclick=\"convertToInteractive('df-54ff70be-8ad5-4356-be2a-387cded81fcd')\"\n",
              "            title=\"Convert this dataframe to an interactive table.\"\n",
              "            style=\"display:none;\">\n",
              "\n",
              "  <svg xmlns=\"http://www.w3.org/2000/svg\" height=\"24px\" viewBox=\"0 -960 960 960\">\n",
              "    <path d=\"M120-120v-720h720v720H120Zm60-500h600v-160H180v160Zm220 220h160v-160H400v160Zm0 220h160v-160H400v160ZM180-400h160v-160H180v160Zm440 0h160v-160H620v160ZM180-180h160v-160H180v160Zm440 0h160v-160H620v160Z\"/>\n",
              "  </svg>\n",
              "    </button>\n",
              "\n",
              "  <style>\n",
              "    .colab-df-container {\n",
              "      display:flex;\n",
              "      gap: 12px;\n",
              "    }\n",
              "\n",
              "    .colab-df-convert {\n",
              "      background-color: #E8F0FE;\n",
              "      border: none;\n",
              "      border-radius: 50%;\n",
              "      cursor: pointer;\n",
              "      display: none;\n",
              "      fill: #1967D2;\n",
              "      height: 32px;\n",
              "      padding: 0 0 0 0;\n",
              "      width: 32px;\n",
              "    }\n",
              "\n",
              "    .colab-df-convert:hover {\n",
              "      background-color: #E2EBFA;\n",
              "      box-shadow: 0px 1px 2px rgba(60, 64, 67, 0.3), 0px 1px 3px 1px rgba(60, 64, 67, 0.15);\n",
              "      fill: #174EA6;\n",
              "    }\n",
              "\n",
              "    .colab-df-buttons div {\n",
              "      margin-bottom: 4px;\n",
              "    }\n",
              "\n",
              "    [theme=dark] .colab-df-convert {\n",
              "      background-color: #3B4455;\n",
              "      fill: #D2E3FC;\n",
              "    }\n",
              "\n",
              "    [theme=dark] .colab-df-convert:hover {\n",
              "      background-color: #434B5C;\n",
              "      box-shadow: 0px 1px 3px 1px rgba(0, 0, 0, 0.15);\n",
              "      filter: drop-shadow(0px 1px 2px rgba(0, 0, 0, 0.3));\n",
              "      fill: #FFFFFF;\n",
              "    }\n",
              "  </style>\n",
              "\n",
              "    <script>\n",
              "      const buttonEl =\n",
              "        document.querySelector('#df-54ff70be-8ad5-4356-be2a-387cded81fcd button.colab-df-convert');\n",
              "      buttonEl.style.display =\n",
              "        google.colab.kernel.accessAllowed ? 'block' : 'none';\n",
              "\n",
              "      async function convertToInteractive(key) {\n",
              "        const element = document.querySelector('#df-54ff70be-8ad5-4356-be2a-387cded81fcd');\n",
              "        const dataTable =\n",
              "          await google.colab.kernel.invokeFunction('convertToInteractive',\n",
              "                                                    [key], {});\n",
              "        if (!dataTable) return;\n",
              "\n",
              "        const docLinkHtml = 'Like what you see? Visit the ' +\n",
              "          '<a target=\"_blank\" href=https://colab.research.google.com/notebooks/data_table.ipynb>data table notebook</a>'\n",
              "          + ' to learn more about interactive tables.';\n",
              "        element.innerHTML = '';\n",
              "        dataTable['output_type'] = 'display_data';\n",
              "        await google.colab.output.renderOutput(dataTable, element);\n",
              "        const docLink = document.createElement('div');\n",
              "        docLink.innerHTML = docLinkHtml;\n",
              "        element.appendChild(docLink);\n",
              "      }\n",
              "    </script>\n",
              "  </div>\n",
              "\n",
              "\n",
              "<div id=\"df-924e2667-f855-4f7c-9d50-2f5975cda733\">\n",
              "  <button class=\"colab-df-quickchart\" onclick=\"quickchart('df-924e2667-f855-4f7c-9d50-2f5975cda733')\"\n",
              "            title=\"Suggest charts\"\n",
              "            style=\"display:none;\">\n",
              "\n",
              "<svg xmlns=\"http://www.w3.org/2000/svg\" height=\"24px\"viewBox=\"0 0 24 24\"\n",
              "     width=\"24px\">\n",
              "    <g>\n",
              "        <path d=\"M19 3H5c-1.1 0-2 .9-2 2v14c0 1.1.9 2 2 2h14c1.1 0 2-.9 2-2V5c0-1.1-.9-2-2-2zM9 17H7v-7h2v7zm4 0h-2V7h2v10zm4 0h-2v-4h2v4z\"/>\n",
              "    </g>\n",
              "</svg>\n",
              "  </button>\n",
              "\n",
              "<style>\n",
              "  .colab-df-quickchart {\n",
              "      --bg-color: #E8F0FE;\n",
              "      --fill-color: #1967D2;\n",
              "      --hover-bg-color: #E2EBFA;\n",
              "      --hover-fill-color: #174EA6;\n",
              "      --disabled-fill-color: #AAA;\n",
              "      --disabled-bg-color: #DDD;\n",
              "  }\n",
              "\n",
              "  [theme=dark] .colab-df-quickchart {\n",
              "      --bg-color: #3B4455;\n",
              "      --fill-color: #D2E3FC;\n",
              "      --hover-bg-color: #434B5C;\n",
              "      --hover-fill-color: #FFFFFF;\n",
              "      --disabled-bg-color: #3B4455;\n",
              "      --disabled-fill-color: #666;\n",
              "  }\n",
              "\n",
              "  .colab-df-quickchart {\n",
              "    background-color: var(--bg-color);\n",
              "    border: none;\n",
              "    border-radius: 50%;\n",
              "    cursor: pointer;\n",
              "    display: none;\n",
              "    fill: var(--fill-color);\n",
              "    height: 32px;\n",
              "    padding: 0;\n",
              "    width: 32px;\n",
              "  }\n",
              "\n",
              "  .colab-df-quickchart:hover {\n",
              "    background-color: var(--hover-bg-color);\n",
              "    box-shadow: 0 1px 2px rgba(60, 64, 67, 0.3), 0 1px 3px 1px rgba(60, 64, 67, 0.15);\n",
              "    fill: var(--button-hover-fill-color);\n",
              "  }\n",
              "\n",
              "  .colab-df-quickchart-complete:disabled,\n",
              "  .colab-df-quickchart-complete:disabled:hover {\n",
              "    background-color: var(--disabled-bg-color);\n",
              "    fill: var(--disabled-fill-color);\n",
              "    box-shadow: none;\n",
              "  }\n",
              "\n",
              "  .colab-df-spinner {\n",
              "    border: 2px solid var(--fill-color);\n",
              "    border-color: transparent;\n",
              "    border-bottom-color: var(--fill-color);\n",
              "    animation:\n",
              "      spin 1s steps(1) infinite;\n",
              "  }\n",
              "\n",
              "  @keyframes spin {\n",
              "    0% {\n",
              "      border-color: transparent;\n",
              "      border-bottom-color: var(--fill-color);\n",
              "      border-left-color: var(--fill-color);\n",
              "    }\n",
              "    20% {\n",
              "      border-color: transparent;\n",
              "      border-left-color: var(--fill-color);\n",
              "      border-top-color: var(--fill-color);\n",
              "    }\n",
              "    30% {\n",
              "      border-color: transparent;\n",
              "      border-left-color: var(--fill-color);\n",
              "      border-top-color: var(--fill-color);\n",
              "      border-right-color: var(--fill-color);\n",
              "    }\n",
              "    40% {\n",
              "      border-color: transparent;\n",
              "      border-right-color: var(--fill-color);\n",
              "      border-top-color: var(--fill-color);\n",
              "    }\n",
              "    60% {\n",
              "      border-color: transparent;\n",
              "      border-right-color: var(--fill-color);\n",
              "    }\n",
              "    80% {\n",
              "      border-color: transparent;\n",
              "      border-right-color: var(--fill-color);\n",
              "      border-bottom-color: var(--fill-color);\n",
              "    }\n",
              "    90% {\n",
              "      border-color: transparent;\n",
              "      border-bottom-color: var(--fill-color);\n",
              "    }\n",
              "  }\n",
              "</style>\n",
              "\n",
              "  <script>\n",
              "    async function quickchart(key) {\n",
              "      const quickchartButtonEl =\n",
              "        document.querySelector('#' + key + ' button');\n",
              "      quickchartButtonEl.disabled = true;  // To prevent multiple clicks.\n",
              "      quickchartButtonEl.classList.add('colab-df-spinner');\n",
              "      try {\n",
              "        const charts = await google.colab.kernel.invokeFunction(\n",
              "            'suggestCharts', [key], {});\n",
              "      } catch (error) {\n",
              "        console.error('Error during call to suggestCharts:', error);\n",
              "      }\n",
              "      quickchartButtonEl.classList.remove('colab-df-spinner');\n",
              "      quickchartButtonEl.classList.add('colab-df-quickchart-complete');\n",
              "    }\n",
              "    (() => {\n",
              "      let quickchartButtonEl =\n",
              "        document.querySelector('#df-924e2667-f855-4f7c-9d50-2f5975cda733 button');\n",
              "      quickchartButtonEl.style.display =\n",
              "        google.colab.kernel.accessAllowed ? 'block' : 'none';\n",
              "    })();\n",
              "  </script>\n",
              "</div>\n",
              "\n",
              "    </div>\n",
              "  </div>\n"
            ]
          },
          "metadata": {},
          "execution_count": 56
        }
      ]
    },
    {
      "cell_type": "code",
      "source": [
        "excel_df = pd.read_excel(\"sample.xls\")\n",
        "excel_df.head()"
      ],
      "metadata": {
        "colab": {
          "base_uri": "https://localhost:8080/",
          "height": 330
        },
        "id": "wR4i0-0MwadO",
        "outputId": "4c272cd1-35f4-4c19-89cb-345cacdef087"
      },
      "execution_count": 57,
      "outputs": [
        {
          "output_type": "execute_result",
          "data": {
            "text/plain": [
              "      Segment  Country    Product Discount Band  Units Sold  \\\n",
              "0  Government   Canada  Carretera          None      1618.5   \n",
              "1  Government  Germany  Carretera          None      1321.0   \n",
              "2   Midmarket   France  Carretera          None      2178.0   \n",
              "3   Midmarket  Germany  Carretera          None       888.0   \n",
              "4   Midmarket   Mexico  Carretera          None      2470.0   \n",
              "\n",
              "   Manufacturing Price  Sale Price  Gross Sales  Discounts    Sales     COGS  \\\n",
              "0                    3          20      32370.0        0.0  32370.0  16185.0   \n",
              "1                    3          20      26420.0        0.0  26420.0  13210.0   \n",
              "2                    3          15      32670.0        0.0  32670.0  21780.0   \n",
              "3                    3          15      13320.0        0.0  13320.0   8880.0   \n",
              "4                    3          15      37050.0        0.0  37050.0  24700.0   \n",
              "\n",
              "    Profit       Date  Month Number Month Name  Year  \n",
              "0  16185.0 2014-01-01             1    January  2014  \n",
              "1  13210.0 2014-01-01             1    January  2014  \n",
              "2  10890.0 2014-06-01             6       June  2014  \n",
              "3   4440.0 2014-06-01             6       June  2014  \n",
              "4  12350.0 2014-06-01             6       June  2014  "
            ],
            "text/html": [
              "\n",
              "  <div id=\"df-f3ff3d34-e7ea-4261-8c6d-3a2f2f8dbe13\" class=\"colab-df-container\">\n",
              "    <div>\n",
              "<style scoped>\n",
              "    .dataframe tbody tr th:only-of-type {\n",
              "        vertical-align: middle;\n",
              "    }\n",
              "\n",
              "    .dataframe tbody tr th {\n",
              "        vertical-align: top;\n",
              "    }\n",
              "\n",
              "    .dataframe thead th {\n",
              "        text-align: right;\n",
              "    }\n",
              "</style>\n",
              "<table border=\"1\" class=\"dataframe\">\n",
              "  <thead>\n",
              "    <tr style=\"text-align: right;\">\n",
              "      <th></th>\n",
              "      <th>Segment</th>\n",
              "      <th>Country</th>\n",
              "      <th>Product</th>\n",
              "      <th>Discount Band</th>\n",
              "      <th>Units Sold</th>\n",
              "      <th>Manufacturing Price</th>\n",
              "      <th>Sale Price</th>\n",
              "      <th>Gross Sales</th>\n",
              "      <th>Discounts</th>\n",
              "      <th>Sales</th>\n",
              "      <th>COGS</th>\n",
              "      <th>Profit</th>\n",
              "      <th>Date</th>\n",
              "      <th>Month Number</th>\n",
              "      <th>Month Name</th>\n",
              "      <th>Year</th>\n",
              "    </tr>\n",
              "  </thead>\n",
              "  <tbody>\n",
              "    <tr>\n",
              "      <th>0</th>\n",
              "      <td>Government</td>\n",
              "      <td>Canada</td>\n",
              "      <td>Carretera</td>\n",
              "      <td>None</td>\n",
              "      <td>1618.5</td>\n",
              "      <td>3</td>\n",
              "      <td>20</td>\n",
              "      <td>32370.0</td>\n",
              "      <td>0.0</td>\n",
              "      <td>32370.0</td>\n",
              "      <td>16185.0</td>\n",
              "      <td>16185.0</td>\n",
              "      <td>2014-01-01</td>\n",
              "      <td>1</td>\n",
              "      <td>January</td>\n",
              "      <td>2014</td>\n",
              "    </tr>\n",
              "    <tr>\n",
              "      <th>1</th>\n",
              "      <td>Government</td>\n",
              "      <td>Germany</td>\n",
              "      <td>Carretera</td>\n",
              "      <td>None</td>\n",
              "      <td>1321.0</td>\n",
              "      <td>3</td>\n",
              "      <td>20</td>\n",
              "      <td>26420.0</td>\n",
              "      <td>0.0</td>\n",
              "      <td>26420.0</td>\n",
              "      <td>13210.0</td>\n",
              "      <td>13210.0</td>\n",
              "      <td>2014-01-01</td>\n",
              "      <td>1</td>\n",
              "      <td>January</td>\n",
              "      <td>2014</td>\n",
              "    </tr>\n",
              "    <tr>\n",
              "      <th>2</th>\n",
              "      <td>Midmarket</td>\n",
              "      <td>France</td>\n",
              "      <td>Carretera</td>\n",
              "      <td>None</td>\n",
              "      <td>2178.0</td>\n",
              "      <td>3</td>\n",
              "      <td>15</td>\n",
              "      <td>32670.0</td>\n",
              "      <td>0.0</td>\n",
              "      <td>32670.0</td>\n",
              "      <td>21780.0</td>\n",
              "      <td>10890.0</td>\n",
              "      <td>2014-06-01</td>\n",
              "      <td>6</td>\n",
              "      <td>June</td>\n",
              "      <td>2014</td>\n",
              "    </tr>\n",
              "    <tr>\n",
              "      <th>3</th>\n",
              "      <td>Midmarket</td>\n",
              "      <td>Germany</td>\n",
              "      <td>Carretera</td>\n",
              "      <td>None</td>\n",
              "      <td>888.0</td>\n",
              "      <td>3</td>\n",
              "      <td>15</td>\n",
              "      <td>13320.0</td>\n",
              "      <td>0.0</td>\n",
              "      <td>13320.0</td>\n",
              "      <td>8880.0</td>\n",
              "      <td>4440.0</td>\n",
              "      <td>2014-06-01</td>\n",
              "      <td>6</td>\n",
              "      <td>June</td>\n",
              "      <td>2014</td>\n",
              "    </tr>\n",
              "    <tr>\n",
              "      <th>4</th>\n",
              "      <td>Midmarket</td>\n",
              "      <td>Mexico</td>\n",
              "      <td>Carretera</td>\n",
              "      <td>None</td>\n",
              "      <td>2470.0</td>\n",
              "      <td>3</td>\n",
              "      <td>15</td>\n",
              "      <td>37050.0</td>\n",
              "      <td>0.0</td>\n",
              "      <td>37050.0</td>\n",
              "      <td>24700.0</td>\n",
              "      <td>12350.0</td>\n",
              "      <td>2014-06-01</td>\n",
              "      <td>6</td>\n",
              "      <td>June</td>\n",
              "      <td>2014</td>\n",
              "    </tr>\n",
              "  </tbody>\n",
              "</table>\n",
              "</div>\n",
              "    <div class=\"colab-df-buttons\">\n",
              "\n",
              "  <div class=\"colab-df-container\">\n",
              "    <button class=\"colab-df-convert\" onclick=\"convertToInteractive('df-f3ff3d34-e7ea-4261-8c6d-3a2f2f8dbe13')\"\n",
              "            title=\"Convert this dataframe to an interactive table.\"\n",
              "            style=\"display:none;\">\n",
              "\n",
              "  <svg xmlns=\"http://www.w3.org/2000/svg\" height=\"24px\" viewBox=\"0 -960 960 960\">\n",
              "    <path d=\"M120-120v-720h720v720H120Zm60-500h600v-160H180v160Zm220 220h160v-160H400v160Zm0 220h160v-160H400v160ZM180-400h160v-160H180v160Zm440 0h160v-160H620v160ZM180-180h160v-160H180v160Zm440 0h160v-160H620v160Z\"/>\n",
              "  </svg>\n",
              "    </button>\n",
              "\n",
              "  <style>\n",
              "    .colab-df-container {\n",
              "      display:flex;\n",
              "      gap: 12px;\n",
              "    }\n",
              "\n",
              "    .colab-df-convert {\n",
              "      background-color: #E8F0FE;\n",
              "      border: none;\n",
              "      border-radius: 50%;\n",
              "      cursor: pointer;\n",
              "      display: none;\n",
              "      fill: #1967D2;\n",
              "      height: 32px;\n",
              "      padding: 0 0 0 0;\n",
              "      width: 32px;\n",
              "    }\n",
              "\n",
              "    .colab-df-convert:hover {\n",
              "      background-color: #E2EBFA;\n",
              "      box-shadow: 0px 1px 2px rgba(60, 64, 67, 0.3), 0px 1px 3px 1px rgba(60, 64, 67, 0.15);\n",
              "      fill: #174EA6;\n",
              "    }\n",
              "\n",
              "    .colab-df-buttons div {\n",
              "      margin-bottom: 4px;\n",
              "    }\n",
              "\n",
              "    [theme=dark] .colab-df-convert {\n",
              "      background-color: #3B4455;\n",
              "      fill: #D2E3FC;\n",
              "    }\n",
              "\n",
              "    [theme=dark] .colab-df-convert:hover {\n",
              "      background-color: #434B5C;\n",
              "      box-shadow: 0px 1px 3px 1px rgba(0, 0, 0, 0.15);\n",
              "      filter: drop-shadow(0px 1px 2px rgba(0, 0, 0, 0.3));\n",
              "      fill: #FFFFFF;\n",
              "    }\n",
              "  </style>\n",
              "\n",
              "    <script>\n",
              "      const buttonEl =\n",
              "        document.querySelector('#df-f3ff3d34-e7ea-4261-8c6d-3a2f2f8dbe13 button.colab-df-convert');\n",
              "      buttonEl.style.display =\n",
              "        google.colab.kernel.accessAllowed ? 'block' : 'none';\n",
              "\n",
              "      async function convertToInteractive(key) {\n",
              "        const element = document.querySelector('#df-f3ff3d34-e7ea-4261-8c6d-3a2f2f8dbe13');\n",
              "        const dataTable =\n",
              "          await google.colab.kernel.invokeFunction('convertToInteractive',\n",
              "                                                    [key], {});\n",
              "        if (!dataTable) return;\n",
              "\n",
              "        const docLinkHtml = 'Like what you see? Visit the ' +\n",
              "          '<a target=\"_blank\" href=https://colab.research.google.com/notebooks/data_table.ipynb>data table notebook</a>'\n",
              "          + ' to learn more about interactive tables.';\n",
              "        element.innerHTML = '';\n",
              "        dataTable['output_type'] = 'display_data';\n",
              "        await google.colab.output.renderOutput(dataTable, element);\n",
              "        const docLink = document.createElement('div');\n",
              "        docLink.innerHTML = docLinkHtml;\n",
              "        element.appendChild(docLink);\n",
              "      }\n",
              "    </script>\n",
              "  </div>\n",
              "\n",
              "\n",
              "<div id=\"df-c6730e29-c328-4d5e-9905-ea89ddfbc67c\">\n",
              "  <button class=\"colab-df-quickchart\" onclick=\"quickchart('df-c6730e29-c328-4d5e-9905-ea89ddfbc67c')\"\n",
              "            title=\"Suggest charts\"\n",
              "            style=\"display:none;\">\n",
              "\n",
              "<svg xmlns=\"http://www.w3.org/2000/svg\" height=\"24px\"viewBox=\"0 0 24 24\"\n",
              "     width=\"24px\">\n",
              "    <g>\n",
              "        <path d=\"M19 3H5c-1.1 0-2 .9-2 2v14c0 1.1.9 2 2 2h14c1.1 0 2-.9 2-2V5c0-1.1-.9-2-2-2zM9 17H7v-7h2v7zm4 0h-2V7h2v10zm4 0h-2v-4h2v4z\"/>\n",
              "    </g>\n",
              "</svg>\n",
              "  </button>\n",
              "\n",
              "<style>\n",
              "  .colab-df-quickchart {\n",
              "      --bg-color: #E8F0FE;\n",
              "      --fill-color: #1967D2;\n",
              "      --hover-bg-color: #E2EBFA;\n",
              "      --hover-fill-color: #174EA6;\n",
              "      --disabled-fill-color: #AAA;\n",
              "      --disabled-bg-color: #DDD;\n",
              "  }\n",
              "\n",
              "  [theme=dark] .colab-df-quickchart {\n",
              "      --bg-color: #3B4455;\n",
              "      --fill-color: #D2E3FC;\n",
              "      --hover-bg-color: #434B5C;\n",
              "      --hover-fill-color: #FFFFFF;\n",
              "      --disabled-bg-color: #3B4455;\n",
              "      --disabled-fill-color: #666;\n",
              "  }\n",
              "\n",
              "  .colab-df-quickchart {\n",
              "    background-color: var(--bg-color);\n",
              "    border: none;\n",
              "    border-radius: 50%;\n",
              "    cursor: pointer;\n",
              "    display: none;\n",
              "    fill: var(--fill-color);\n",
              "    height: 32px;\n",
              "    padding: 0;\n",
              "    width: 32px;\n",
              "  }\n",
              "\n",
              "  .colab-df-quickchart:hover {\n",
              "    background-color: var(--hover-bg-color);\n",
              "    box-shadow: 0 1px 2px rgba(60, 64, 67, 0.3), 0 1px 3px 1px rgba(60, 64, 67, 0.15);\n",
              "    fill: var(--button-hover-fill-color);\n",
              "  }\n",
              "\n",
              "  .colab-df-quickchart-complete:disabled,\n",
              "  .colab-df-quickchart-complete:disabled:hover {\n",
              "    background-color: var(--disabled-bg-color);\n",
              "    fill: var(--disabled-fill-color);\n",
              "    box-shadow: none;\n",
              "  }\n",
              "\n",
              "  .colab-df-spinner {\n",
              "    border: 2px solid var(--fill-color);\n",
              "    border-color: transparent;\n",
              "    border-bottom-color: var(--fill-color);\n",
              "    animation:\n",
              "      spin 1s steps(1) infinite;\n",
              "  }\n",
              "\n",
              "  @keyframes spin {\n",
              "    0% {\n",
              "      border-color: transparent;\n",
              "      border-bottom-color: var(--fill-color);\n",
              "      border-left-color: var(--fill-color);\n",
              "    }\n",
              "    20% {\n",
              "      border-color: transparent;\n",
              "      border-left-color: var(--fill-color);\n",
              "      border-top-color: var(--fill-color);\n",
              "    }\n",
              "    30% {\n",
              "      border-color: transparent;\n",
              "      border-left-color: var(--fill-color);\n",
              "      border-top-color: var(--fill-color);\n",
              "      border-right-color: var(--fill-color);\n",
              "    }\n",
              "    40% {\n",
              "      border-color: transparent;\n",
              "      border-right-color: var(--fill-color);\n",
              "      border-top-color: var(--fill-color);\n",
              "    }\n",
              "    60% {\n",
              "      border-color: transparent;\n",
              "      border-right-color: var(--fill-color);\n",
              "    }\n",
              "    80% {\n",
              "      border-color: transparent;\n",
              "      border-right-color: var(--fill-color);\n",
              "      border-bottom-color: var(--fill-color);\n",
              "    }\n",
              "    90% {\n",
              "      border-color: transparent;\n",
              "      border-bottom-color: var(--fill-color);\n",
              "    }\n",
              "  }\n",
              "</style>\n",
              "\n",
              "  <script>\n",
              "    async function quickchart(key) {\n",
              "      const quickchartButtonEl =\n",
              "        document.querySelector('#' + key + ' button');\n",
              "      quickchartButtonEl.disabled = true;  // To prevent multiple clicks.\n",
              "      quickchartButtonEl.classList.add('colab-df-spinner');\n",
              "      try {\n",
              "        const charts = await google.colab.kernel.invokeFunction(\n",
              "            'suggestCharts', [key], {});\n",
              "      } catch (error) {\n",
              "        console.error('Error during call to suggestCharts:', error);\n",
              "      }\n",
              "      quickchartButtonEl.classList.remove('colab-df-spinner');\n",
              "      quickchartButtonEl.classList.add('colab-df-quickchart-complete');\n",
              "    }\n",
              "    (() => {\n",
              "      let quickchartButtonEl =\n",
              "        document.querySelector('#df-c6730e29-c328-4d5e-9905-ea89ddfbc67c button');\n",
              "      quickchartButtonEl.style.display =\n",
              "        google.colab.kernel.accessAllowed ? 'block' : 'none';\n",
              "    })();\n",
              "  </script>\n",
              "</div>\n",
              "\n",
              "    </div>\n",
              "  </div>\n"
            ]
          },
          "metadata": {},
          "execution_count": 57
        }
      ]
    },
    {
      "cell_type": "code",
      "source": [
        "excel_df[\"Country\"]"
      ],
      "metadata": {
        "colab": {
          "base_uri": "https://localhost:8080/"
        },
        "id": "PWtA8Y_fxP_5",
        "outputId": "23586059-bcd9-449a-95be-03e9bc2e21e4"
      },
      "execution_count": 58,
      "outputs": [
        {
          "output_type": "execute_result",
          "data": {
            "text/plain": [
              "0                        Canada\n",
              "1                       Germany\n",
              "2                        France\n",
              "3                       Germany\n",
              "4                        Mexico\n",
              "                 ...           \n",
              "695                      France\n",
              "696                      Mexico\n",
              "697                      Mexico\n",
              "698                      Canada\n",
              "699    United States of America\n",
              "Name: Country, Length: 700, dtype: object"
            ]
          },
          "metadata": {},
          "execution_count": 58
        }
      ]
    },
    {
      "cell_type": "code",
      "source": [
        "f = lambda x: x*2\n",
        "excel_df[\"Sale Price\"].apply(f)"
      ],
      "metadata": {
        "colab": {
          "base_uri": "https://localhost:8080/"
        },
        "id": "pP0mPmHFxaH9",
        "outputId": "fe03e4d1-3fab-417e-94eb-8d3b37ca398b"
      },
      "execution_count": 59,
      "outputs": [
        {
          "output_type": "execute_result",
          "data": {
            "text/plain": [
              "0       40\n",
              "1       40\n",
              "2       30\n",
              "3       30\n",
              "4       30\n",
              "      ... \n",
              "695    600\n",
              "696    600\n",
              "697     14\n",
              "698     14\n",
              "699     24\n",
              "Name: Sale Price, Length: 700, dtype: int64"
            ]
          },
          "metadata": {},
          "execution_count": 59
        }
      ]
    },
    {
      "cell_type": "markdown",
      "source": [
        "## Matplotlib"
      ],
      "metadata": {
        "id": "09ohX3styalm"
      }
    },
    {
      "cell_type": "code",
      "source": [
        "import numpy as np\n",
        "import matplotlib.pyplot as plt"
      ],
      "metadata": {
        "id": "MaBFwdLtyx8L"
      },
      "execution_count": 60,
      "outputs": []
    },
    {
      "cell_type": "code",
      "source": [
        "X = np.linspace(0, 10*np.pi, 1000)\n",
        "Y = np.sin(X)\n",
        "X,Y"
      ],
      "metadata": {
        "colab": {
          "base_uri": "https://localhost:8080/"
        },
        "id": "XJ84OgsH0Cz1",
        "outputId": "c3983d8a-5f67-49c9-e57e-ad92fed385a7"
      },
      "execution_count": 88,
      "outputs": [
        {
          "output_type": "execute_result",
          "data": {
            "text/plain": [
              "(array([ 0.        ,  0.03144737,  0.06289475,  0.09434212,  0.1257895 ,\n",
              "         0.15723687,  0.18868424,  0.22013162,  0.25157899,  0.28302637,\n",
              "         0.31447374,  0.34592111,  0.37736849,  0.40881586,  0.44026323,\n",
              "         0.47171061,  0.50315798,  0.53460536,  0.56605273,  0.5975001 ,\n",
              "         0.62894748,  0.66039485,  0.69184223,  0.7232896 ,  0.75473697,\n",
              "         0.78618435,  0.81763172,  0.8490791 ,  0.88052647,  0.91197384,\n",
              "         0.94342122,  0.97486859,  1.00631597,  1.03776334,  1.06921071,\n",
              "         1.10065809,  1.13210546,  1.16355283,  1.19500021,  1.22644758,\n",
              "         1.25789496,  1.28934233,  1.3207897 ,  1.35223708,  1.38368445,\n",
              "         1.41513183,  1.4465792 ,  1.47802657,  1.50947395,  1.54092132,\n",
              "         1.5723687 ,  1.60381607,  1.63526344,  1.66671082,  1.69815819,\n",
              "         1.72960557,  1.76105294,  1.79250031,  1.82394769,  1.85539506,\n",
              "         1.88684243,  1.91828981,  1.94973718,  1.98118456,  2.01263193,\n",
              "         2.0440793 ,  2.07552668,  2.10697405,  2.13842143,  2.1698688 ,\n",
              "         2.20131617,  2.23276355,  2.26421092,  2.2956583 ,  2.32710567,\n",
              "         2.35855304,  2.39000042,  2.42144779,  2.45289516,  2.48434254,\n",
              "         2.51578991,  2.54723729,  2.57868466,  2.61013203,  2.64157941,\n",
              "         2.67302678,  2.70447416,  2.73592153,  2.7673689 ,  2.79881628,\n",
              "         2.83026365,  2.86171103,  2.8931584 ,  2.92460577,  2.95605315,\n",
              "         2.98750052,  3.0189479 ,  3.05039527,  3.08184264,  3.11329002,\n",
              "         3.14473739,  3.17618476,  3.20763214,  3.23907951,  3.27052689,\n",
              "         3.30197426,  3.33342163,  3.36486901,  3.39631638,  3.42776376,\n",
              "         3.45921113,  3.4906585 ,  3.52210588,  3.55355325,  3.58500063,\n",
              "         3.616448  ,  3.64789537,  3.67934275,  3.71079012,  3.7422375 ,\n",
              "         3.77368487,  3.80513224,  3.83657962,  3.86802699,  3.89947436,\n",
              "         3.93092174,  3.96236911,  3.99381649,  4.02526386,  4.05671123,\n",
              "         4.08815861,  4.11960598,  4.15105336,  4.18250073,  4.2139481 ,\n",
              "         4.24539548,  4.27684285,  4.30829023,  4.3397376 ,  4.37118497,\n",
              "         4.40263235,  4.43407972,  4.4655271 ,  4.49697447,  4.52842184,\n",
              "         4.55986922,  4.59131659,  4.62276396,  4.65421134,  4.68565871,\n",
              "         4.71710609,  4.74855346,  4.78000083,  4.81144821,  4.84289558,\n",
              "         4.87434296,  4.90579033,  4.9372377 ,  4.96868508,  5.00013245,\n",
              "         5.03157983,  5.0630272 ,  5.09447457,  5.12592195,  5.15736932,\n",
              "         5.1888167 ,  5.22026407,  5.25171144,  5.28315882,  5.31460619,\n",
              "         5.34605356,  5.37750094,  5.40894831,  5.44039569,  5.47184306,\n",
              "         5.50329043,  5.53473781,  5.56618518,  5.59763256,  5.62907993,\n",
              "         5.6605273 ,  5.69197468,  5.72342205,  5.75486943,  5.7863168 ,\n",
              "         5.81776417,  5.84921155,  5.88065892,  5.9121063 ,  5.94355367,\n",
              "         5.97500104,  6.00644842,  6.03789579,  6.06934316,  6.10079054,\n",
              "         6.13223791,  6.16368529,  6.19513266,  6.22658003,  6.25802741,\n",
              "         6.28947478,  6.32092216,  6.35236953,  6.3838169 ,  6.41526428,\n",
              "         6.44671165,  6.47815903,  6.5096064 ,  6.54105377,  6.57250115,\n",
              "         6.60394852,  6.63539589,  6.66684327,  6.69829064,  6.72973802,\n",
              "         6.76118539,  6.79263276,  6.82408014,  6.85552751,  6.88697489,\n",
              "         6.91842226,  6.94986963,  6.98131701,  7.01276438,  7.04421176,\n",
              "         7.07565913,  7.1071065 ,  7.13855388,  7.17000125,  7.20144863,\n",
              "         7.232896  ,  7.26434337,  7.29579075,  7.32723812,  7.35868549,\n",
              "         7.39013287,  7.42158024,  7.45302762,  7.48447499,  7.51592236,\n",
              "         7.54736974,  7.57881711,  7.61026449,  7.64171186,  7.67315923,\n",
              "         7.70460661,  7.73605398,  7.76750136,  7.79894873,  7.8303961 ,\n",
              "         7.86184348,  7.89329085,  7.92473823,  7.9561856 ,  7.98763297,\n",
              "         8.01908035,  8.05052772,  8.08197509,  8.11342247,  8.14486984,\n",
              "         8.17631722,  8.20776459,  8.23921196,  8.27065934,  8.30210671,\n",
              "         8.33355409,  8.36500146,  8.39644883,  8.42789621,  8.45934358,\n",
              "         8.49079096,  8.52223833,  8.5536857 ,  8.58513308,  8.61658045,\n",
              "         8.64802783,  8.6794752 ,  8.71092257,  8.74236995,  8.77381732,\n",
              "         8.80526469,  8.83671207,  8.86815944,  8.89960682,  8.93105419,\n",
              "         8.96250156,  8.99394894,  9.02539631,  9.05684369,  9.08829106,\n",
              "         9.11973843,  9.15118581,  9.18263318,  9.21408056,  9.24552793,\n",
              "         9.2769753 ,  9.30842268,  9.33987005,  9.37131743,  9.4027648 ,\n",
              "         9.43421217,  9.46565955,  9.49710692,  9.52855429,  9.56000167,\n",
              "         9.59144904,  9.62289642,  9.65434379,  9.68579116,  9.71723854,\n",
              "         9.74868591,  9.78013329,  9.81158066,  9.84302803,  9.87447541,\n",
              "         9.90592278,  9.93737016,  9.96881753, 10.0002649 , 10.03171228,\n",
              "        10.06315965, 10.09460703, 10.1260544 , 10.15750177, 10.18894915,\n",
              "        10.22039652, 10.25184389, 10.28329127, 10.31473864, 10.34618602,\n",
              "        10.37763339, 10.40908076, 10.44052814, 10.47197551, 10.50342289,\n",
              "        10.53487026, 10.56631763, 10.59776501, 10.62921238, 10.66065976,\n",
              "        10.69210713, 10.7235545 , 10.75500188, 10.78644925, 10.81789662,\n",
              "        10.849344  , 10.88079137, 10.91223875, 10.94368612, 10.97513349,\n",
              "        11.00658087, 11.03802824, 11.06947562, 11.10092299, 11.13237036,\n",
              "        11.16381774, 11.19526511, 11.22671249, 11.25815986, 11.28960723,\n",
              "        11.32105461, 11.35250198, 11.38394936, 11.41539673, 11.4468441 ,\n",
              "        11.47829148, 11.50973885, 11.54118622, 11.5726336 , 11.60408097,\n",
              "        11.63552835, 11.66697572, 11.69842309, 11.72987047, 11.76131784,\n",
              "        11.79276522, 11.82421259, 11.85565996, 11.88710734, 11.91855471,\n",
              "        11.95000209, 11.98144946, 12.01289683, 12.04434421, 12.07579158,\n",
              "        12.10723896, 12.13868633, 12.1701337 , 12.20158108, 12.23302845,\n",
              "        12.26447582, 12.2959232 , 12.32737057, 12.35881795, 12.39026532,\n",
              "        12.42171269, 12.45316007, 12.48460744, 12.51605482, 12.54750219,\n",
              "        12.57894956, 12.61039694, 12.64184431, 12.67329169, 12.70473906,\n",
              "        12.73618643, 12.76763381, 12.79908118, 12.83052856, 12.86197593,\n",
              "        12.8934233 , 12.92487068, 12.95631805, 12.98776542, 13.0192128 ,\n",
              "        13.05066017, 13.08210755, 13.11355492, 13.14500229, 13.17644967,\n",
              "        13.20789704, 13.23934442, 13.27079179, 13.30223916, 13.33368654,\n",
              "        13.36513391, 13.39658129, 13.42802866, 13.45947603, 13.49092341,\n",
              "        13.52237078, 13.55381816, 13.58526553, 13.6167129 , 13.64816028,\n",
              "        13.67960765, 13.71105502, 13.7425024 , 13.77394977, 13.80539715,\n",
              "        13.83684452, 13.86829189, 13.89973927, 13.93118664, 13.96263402,\n",
              "        13.99408139, 14.02552876, 14.05697614, 14.08842351, 14.11987089,\n",
              "        14.15131826, 14.18276563, 14.21421301, 14.24566038, 14.27710776,\n",
              "        14.30855513, 14.3400025 , 14.37144988, 14.40289725, 14.43434462,\n",
              "        14.465792  , 14.49723937, 14.52868675, 14.56013412, 14.59158149,\n",
              "        14.62302887, 14.65447624, 14.68592362, 14.71737099, 14.74881836,\n",
              "        14.78026574, 14.81171311, 14.84316049, 14.87460786, 14.90605523,\n",
              "        14.93750261, 14.96894998, 15.00039735, 15.03184473, 15.0632921 ,\n",
              "        15.09473948, 15.12618685, 15.15763422, 15.1890816 , 15.22052897,\n",
              "        15.25197635, 15.28342372, 15.31487109, 15.34631847, 15.37776584,\n",
              "        15.40921322, 15.44066059, 15.47210796, 15.50355534, 15.53500271,\n",
              "        15.56645009, 15.59789746, 15.62934483, 15.66079221, 15.69223958,\n",
              "        15.72368695, 15.75513433, 15.7865817 , 15.81802908, 15.84947645,\n",
              "        15.88092382, 15.9123712 , 15.94381857, 15.97526595, 16.00671332,\n",
              "        16.03816069, 16.06960807, 16.10105544, 16.13250282, 16.16395019,\n",
              "        16.19539756, 16.22684494, 16.25829231, 16.28973969, 16.32118706,\n",
              "        16.35263443, 16.38408181, 16.41552918, 16.44697655, 16.47842393,\n",
              "        16.5098713 , 16.54131868, 16.57276605, 16.60421342, 16.6356608 ,\n",
              "        16.66710817, 16.69855555, 16.73000292, 16.76145029, 16.79289767,\n",
              "        16.82434504, 16.85579242, 16.88723979, 16.91868716, 16.95013454,\n",
              "        16.98158191, 17.01302929, 17.04447666, 17.07592403, 17.10737141,\n",
              "        17.13881878, 17.17026615, 17.20171353, 17.2331609 , 17.26460828,\n",
              "        17.29605565, 17.32750302, 17.3589504 , 17.39039777, 17.42184515,\n",
              "        17.45329252, 17.48473989, 17.51618727, 17.54763464, 17.57908202,\n",
              "        17.61052939, 17.64197676, 17.67342414, 17.70487151, 17.73631889,\n",
              "        17.76776626, 17.79921363, 17.83066101, 17.86210838, 17.89355575,\n",
              "        17.92500313, 17.9564505 , 17.98789788, 18.01934525, 18.05079262,\n",
              "        18.08224   , 18.11368737, 18.14513475, 18.17658212, 18.20802949,\n",
              "        18.23947687, 18.27092424, 18.30237162, 18.33381899, 18.36526636,\n",
              "        18.39671374, 18.42816111, 18.45960849, 18.49105586, 18.52250323,\n",
              "        18.55395061, 18.58539798, 18.61684535, 18.64829273, 18.6797401 ,\n",
              "        18.71118748, 18.74263485, 18.77408222, 18.8055296 , 18.83697697,\n",
              "        18.86842435, 18.89987172, 18.93131909, 18.96276647, 18.99421384,\n",
              "        19.02566122, 19.05710859, 19.08855596, 19.12000334, 19.15145071,\n",
              "        19.18289808, 19.21434546, 19.24579283, 19.27724021, 19.30868758,\n",
              "        19.34013495, 19.37158233, 19.4030297 , 19.43447708, 19.46592445,\n",
              "        19.49737182, 19.5288192 , 19.56026657, 19.59171395, 19.62316132,\n",
              "        19.65460869, 19.68605607, 19.71750344, 19.74895082, 19.78039819,\n",
              "        19.81184556, 19.84329294, 19.87474031, 19.90618768, 19.93763506,\n",
              "        19.96908243, 20.00052981, 20.03197718, 20.06342455, 20.09487193,\n",
              "        20.1263193 , 20.15776668, 20.18921405, 20.22066142, 20.2521088 ,\n",
              "        20.28355617, 20.31500355, 20.34645092, 20.37789829, 20.40934567,\n",
              "        20.44079304, 20.47224042, 20.50368779, 20.53513516, 20.56658254,\n",
              "        20.59802991, 20.62947728, 20.66092466, 20.69237203, 20.72381941,\n",
              "        20.75526678, 20.78671415, 20.81816153, 20.8496089 , 20.88105628,\n",
              "        20.91250365, 20.94395102, 20.9753984 , 21.00684577, 21.03829315,\n",
              "        21.06974052, 21.10118789, 21.13263527, 21.16408264, 21.19553002,\n",
              "        21.22697739, 21.25842476, 21.28987214, 21.32131951, 21.35276688,\n",
              "        21.38421426, 21.41566163, 21.44710901, 21.47855638, 21.51000375,\n",
              "        21.54145113, 21.5728985 , 21.60434588, 21.63579325, 21.66724062,\n",
              "        21.698688  , 21.73013537, 21.76158275, 21.79303012, 21.82447749,\n",
              "        21.85592487, 21.88737224, 21.91881962, 21.95026699, 21.98171436,\n",
              "        22.01316174, 22.04460911, 22.07605648, 22.10750386, 22.13895123,\n",
              "        22.17039861, 22.20184598, 22.23329335, 22.26474073, 22.2961881 ,\n",
              "        22.32763548, 22.35908285, 22.39053022, 22.4219776 , 22.45342497,\n",
              "        22.48487235, 22.51631972, 22.54776709, 22.57921447, 22.61066184,\n",
              "        22.64210922, 22.67355659, 22.70500396, 22.73645134, 22.76789871,\n",
              "        22.79934608, 22.83079346, 22.86224083, 22.89368821, 22.92513558,\n",
              "        22.95658295, 22.98803033, 23.0194777 , 23.05092508, 23.08237245,\n",
              "        23.11381982, 23.1452672 , 23.17671457, 23.20816195, 23.23960932,\n",
              "        23.27105669, 23.30250407, 23.33395144, 23.36539881, 23.39684619,\n",
              "        23.42829356, 23.45974094, 23.49118831, 23.52263568, 23.55408306,\n",
              "        23.58553043, 23.61697781, 23.64842518, 23.67987255, 23.71131993,\n",
              "        23.7427673 , 23.77421468, 23.80566205, 23.83710942, 23.8685568 ,\n",
              "        23.90000417, 23.93145155, 23.96289892, 23.99434629, 24.02579367,\n",
              "        24.05724104, 24.08868841, 24.12013579, 24.15158316, 24.18303054,\n",
              "        24.21447791, 24.24592528, 24.27737266, 24.30882003, 24.34026741,\n",
              "        24.37171478, 24.40316215, 24.43460953, 24.4660569 , 24.49750428,\n",
              "        24.52895165, 24.56039902, 24.5918464 , 24.62329377, 24.65474115,\n",
              "        24.68618852, 24.71763589, 24.74908327, 24.78053064, 24.81197801,\n",
              "        24.84342539, 24.87487276, 24.90632014, 24.93776751, 24.96921488,\n",
              "        25.00066226, 25.03210963, 25.06355701, 25.09500438, 25.12645175,\n",
              "        25.15789913, 25.1893465 , 25.22079388, 25.25224125, 25.28368862,\n",
              "        25.315136  , 25.34658337, 25.37803075, 25.40947812, 25.44092549,\n",
              "        25.47237287, 25.50382024, 25.53526761, 25.56671499, 25.59816236,\n",
              "        25.62960974, 25.66105711, 25.69250448, 25.72395186, 25.75539923,\n",
              "        25.78684661, 25.81829398, 25.84974135, 25.88118873, 25.9126361 ,\n",
              "        25.94408348, 25.97553085, 26.00697822, 26.0384256 , 26.06987297,\n",
              "        26.10132035, 26.13276772, 26.16421509, 26.19566247, 26.22710984,\n",
              "        26.25855721, 26.29000459, 26.32145196, 26.35289934, 26.38434671,\n",
              "        26.41579408, 26.44724146, 26.47868883, 26.51013621, 26.54158358,\n",
              "        26.57303095, 26.60447833, 26.6359257 , 26.66737308, 26.69882045,\n",
              "        26.73026782, 26.7617152 , 26.79316257, 26.82460995, 26.85605732,\n",
              "        26.88750469, 26.91895207, 26.95039944, 26.98184681, 27.01329419,\n",
              "        27.04474156, 27.07618894, 27.10763631, 27.13908368, 27.17053106,\n",
              "        27.20197843, 27.23342581, 27.26487318, 27.29632055, 27.32776793,\n",
              "        27.3592153 , 27.39066268, 27.42211005, 27.45355742, 27.4850048 ,\n",
              "        27.51645217, 27.54789954, 27.57934692, 27.61079429, 27.64224167,\n",
              "        27.67368904, 27.70513641, 27.73658379, 27.76803116, 27.79947854,\n",
              "        27.83092591, 27.86237328, 27.89382066, 27.92526803, 27.95671541,\n",
              "        27.98816278, 28.01961015, 28.05105753, 28.0825049 , 28.11395228,\n",
              "        28.14539965, 28.17684702, 28.2082944 , 28.23974177, 28.27118914,\n",
              "        28.30263652, 28.33408389, 28.36553127, 28.39697864, 28.42842601,\n",
              "        28.45987339, 28.49132076, 28.52276814, 28.55421551, 28.58566288,\n",
              "        28.61711026, 28.64855763, 28.68000501, 28.71145238, 28.74289975,\n",
              "        28.77434713, 28.8057945 , 28.83724188, 28.86868925, 28.90013662,\n",
              "        28.931584  , 28.96303137, 28.99447874, 29.02592612, 29.05737349,\n",
              "        29.08882087, 29.12026824, 29.15171561, 29.18316299, 29.21461036,\n",
              "        29.24605774, 29.27750511, 29.30895248, 29.34039986, 29.37184723,\n",
              "        29.40329461, 29.43474198, 29.46618935, 29.49763673, 29.5290841 ,\n",
              "        29.56053148, 29.59197885, 29.62342622, 29.6548736 , 29.68632097,\n",
              "        29.71776834, 29.74921572, 29.78066309, 29.81211047, 29.84355784,\n",
              "        29.87500521, 29.90645259, 29.93789996, 29.96934734, 30.00079471,\n",
              "        30.03224208, 30.06368946, 30.09513683, 30.12658421, 30.15803158,\n",
              "        30.18947895, 30.22092633, 30.2523737 , 30.28382108, 30.31526845,\n",
              "        30.34671582, 30.3781632 , 30.40961057, 30.44105794, 30.47250532,\n",
              "        30.50395269, 30.53540007, 30.56684744, 30.59829481, 30.62974219,\n",
              "        30.66118956, 30.69263694, 30.72408431, 30.75553168, 30.78697906,\n",
              "        30.81842643, 30.84987381, 30.88132118, 30.91276855, 30.94421593,\n",
              "        30.9756633 , 31.00711068, 31.03855805, 31.07000542, 31.1014528 ,\n",
              "        31.13290017, 31.16434754, 31.19579492, 31.22724229, 31.25868967,\n",
              "        31.29013704, 31.32158441, 31.35303179, 31.38447916, 31.41592654]),\n",
              " array([ 0.00000000e+00,  3.14421909e-02,  6.28532900e-02,  9.42022363e-02,\n",
              "         1.25458030e-01,  1.56589764e-01,  1.87566653e-01,  2.18358066e-01,\n",
              "         2.48933554e-01,  2.79262883e-01,  3.09316061e-01,  3.39063370e-01,\n",
              "         3.68475395e-01,  3.97523050e-01,  4.26177612e-01,  4.54410746e-01,\n",
              "         4.82194534e-01,  5.09501500e-01,  5.36304643e-01,  5.62577458e-01,\n",
              "         5.88293965e-01,  6.13428734e-01,  6.37956911e-01,  6.61854240e-01,\n",
              "         6.85097090e-01,  7.07662479e-01,  7.29528091e-01,  7.50672305e-01,\n",
              "         7.71074213e-01,  7.90713639e-01,  8.09571163e-01,  8.27628139e-01,\n",
              "         8.44866709e-01,  8.61269828e-01,  8.76821275e-01,  8.91505673e-01,\n",
              "         9.05308500e-01,  9.18216107e-01,  9.30215731e-01,  9.41295506e-01,\n",
              "         9.51444475e-01,  9.60652602e-01,  9.68910783e-01,  9.76210851e-01,\n",
              "         9.82545587e-01,  9.87908727e-01,  9.92294968e-01,  9.95699972e-01,\n",
              "         9.98120372e-01,  9.99553775e-01,  9.99998764e-01,  9.99454898e-01,\n",
              "         9.97922715e-01,  9.95403731e-01,  9.91900435e-01,  9.87416293e-01,\n",
              "         9.81955739e-01,  9.75524172e-01,  9.68127953e-01,  9.59774394e-01,\n",
              "         9.50471757e-01,  9.40229241e-01,  9.29056973e-01,  9.16966002e-01,\n",
              "         9.03968283e-01,  8.90076671e-01,  8.75304901e-01,  8.59667580e-01,\n",
              "         8.43180172e-01,  8.25858981e-01,  8.07721134e-01,  7.88784567e-01,\n",
              "         7.69068007e-01,  7.48590948e-01,  7.27373642e-01,  7.05437067e-01,\n",
              "         6.82802917e-01,  6.59493574e-01,  6.35532086e-01,  6.10942149e-01,\n",
              "         5.85748078e-01,  5.59974786e-01,  5.33647760e-01,  5.06793034e-01,\n",
              "         4.79437162e-01,  4.51607196e-01,  4.23330656e-01,  3.94635503e-01,\n",
              "         3.65550112e-01,  3.36103245e-01,  3.06324020e-01,  2.76241884e-01,\n",
              "         2.45886586e-01,  2.15288141e-01,  1.84476807e-01,  1.53483052e-01,\n",
              "         1.22337524e-01,  9.10710227e-02,  5.97144649e-02,  2.82988581e-02,\n",
              "        -3.14473221e-03, -3.45852128e-02, -6.59914936e-02, -9.73325184e-02,\n",
              "        -1.28577295e-01, -1.59694928e-01, -1.90654645e-01, -2.21425832e-01,\n",
              "        -2.51978061e-01, -2.82281120e-01, -3.12305044e-01, -3.42020143e-01,\n",
              "        -3.71397034e-01, -4.00406666e-01, -4.29020354e-01, -4.57209803e-01,\n",
              "        -4.84947137e-01, -5.12204928e-01, -5.38956222e-01, -5.65174567e-01,\n",
              "        -5.90834035e-01, -6.15909254e-01, -6.40375427e-01, -6.64208361e-01,\n",
              "        -6.87384489e-01, -7.09880892e-01, -7.31675326e-01, -7.52746238e-01,\n",
              "        -7.73072793e-01, -7.92634891e-01, -8.11413186e-01, -8.29389112e-01,\n",
              "        -8.46544890e-01, -8.62863558e-01, -8.78328979e-01, -8.92925858e-01,\n",
              "        -9.06639763e-01, -9.19457131e-01, -9.31365289e-01, -9.42352462e-01,\n",
              "        -9.52407783e-01, -9.61521310e-01, -9.69684032e-01, -9.76887875e-01,\n",
              "        -9.83125718e-01, -9.88391391e-01, -9.92679687e-01, -9.95986366e-01,\n",
              "        -9.98308158e-01, -9.99642768e-01, -9.99988874e-01, -9.99346136e-01,\n",
              "        -9.97715189e-01, -9.95097645e-01, -9.91496094e-01, -9.86914095e-01,\n",
              "        -9.81356181e-01, -9.74827847e-01, -9.67335548e-01, -9.58886695e-01,\n",
              "        -9.49489640e-01, -9.39153678e-01, -9.27889027e-01, -9.15706829e-01,\n",
              "        -9.02619128e-01, -8.88638867e-01, -8.73779870e-01, -8.58056831e-01,\n",
              "        -8.41485297e-01, -8.24081656e-01, -8.05863117e-01, -7.86847695e-01,\n",
              "        -7.67054195e-01, -7.46502188e-01, -7.25211999e-01, -7.03204679e-01,\n",
              "        -6.80501991e-01, -6.57126385e-01, -6.33100976e-01, -6.08449521e-01,\n",
              "        -5.83196397e-01, -5.57366576e-01, -5.30985600e-01, -5.04079556e-01,\n",
              "        -4.76675049e-01, -4.48799180e-01, -4.20479513e-01, -3.91744053e-01,\n",
              "        -3.62621214e-01, -3.33139795e-01, -3.03328948e-01, -2.73218154e-01,\n",
              "        -2.42837185e-01, -2.12216086e-01, -1.81385136e-01, -1.50374822e-01,\n",
              "        -1.19215809e-01, -8.79389084e-02, -5.65750492e-02, -2.51552454e-02,\n",
              "         6.28943332e-03,  3.77278927e-02,  6.91290446e-02,  1.00461838e-01,\n",
              "         1.31695289e-01,  1.62798512e-01,  1.93740751e-01,  2.24491409e-01,\n",
              "         2.55020076e-01,  2.85296566e-01,  3.15290939e-01,  3.44973534e-01,\n",
              "         3.74315000e-01,  4.03286322e-01,  4.31858853e-01,  4.60004337e-01,\n",
              "         4.87694944e-01,  5.14903290e-01,  5.41602472e-01,  5.67766086e-01,\n",
              "         5.93368262e-01,  6.18383682e-01,  6.42787610e-01,  6.66555913e-01,\n",
              "         6.89665089e-01,  7.12092285e-01,  7.33815325e-01,  7.54812728e-01,\n",
              "         7.75063729e-01,  7.94548304e-01,  8.13247185e-01,  8.31141882e-01,\n",
              "         8.48214700e-01,  8.64448755e-01,  8.79827996e-01,  8.94337213e-01,\n",
              "         9.07962060e-01,  9.20689063e-01,  9.32505637e-01,  9.43400098e-01,\n",
              "         9.53361672e-01,  9.62380509e-01,  9.70447691e-01,  9.77555239e-01,\n",
              "         9.83696126e-01,  9.88864280e-01,  9.93054589e-01,  9.96262911e-01,\n",
              "         9.98486072e-01,  9.99721874e-01,  9.99969096e-01,  9.99227492e-01,\n",
              "         9.97497797e-01,  9.94781719e-01,  9.91081947e-01,  9.86402137e-01,\n",
              "         9.80746917e-01,  9.74121880e-01,  9.66533578e-01,  9.57989512e-01,\n",
              "         9.48498134e-01,  9.38068827e-01,  9.26711905e-01,  9.14438599e-01,\n",
              "         9.01261046e-01,  8.87192274e-01,  8.72246198e-01,  8.56437596e-01,\n",
              "         8.39782100e-01,  8.22296182e-01,  8.03997130e-01,  7.84903042e-01,\n",
              "         7.65032797e-01,  7.44406046e-01,  7.23043184e-01,  7.00965337e-01,\n",
              "         6.78194336e-01,  6.54752698e-01,  6.30663605e-01,  6.05950876e-01,\n",
              "         5.80638949e-01,  5.54752854e-01,  5.28318189e-01,  5.01361093e-01,\n",
              "         4.73908223e-01,  4.45986726e-01,  4.17624212e-01,  3.88848729e-01,\n",
              "         3.59688730e-01,  3.30173050e-01,  3.00330878e-01,  2.70191721e-01,\n",
              "         2.39785383e-01,  2.09141933e-01,  1.78291671e-01,  1.47265105e-01,\n",
              "         1.16092914e-01,  8.48059245e-02,  5.34350740e-02,  2.20113839e-02,\n",
              "        -9.43407223e-03, -4.08701994e-02, -7.22659119e-02, -1.03590164e-01,\n",
              "        -1.34811980e-01, -1.65900487e-01, -1.96824941e-01, -2.27554765e-01,\n",
              "        -2.58059569e-01, -2.88309190e-01, -3.18273715e-01, -3.47923513e-01,\n",
              "        -3.77229264e-01, -4.06161991e-01, -4.34693081e-01, -4.62794323e-01,\n",
              "        -4.90437928e-01, -5.17596560e-01, -5.44243365e-01, -5.70351991e-01,\n",
              "        -5.95896621e-01, -6.20851995e-01, -6.45193436e-01, -6.68896874e-01,\n",
              "        -6.91938869e-01, -7.14296636e-01, -7.35948067e-01, -7.56871752e-01,\n",
              "        -7.77046999e-01, -7.96453860e-01, -8.15073141e-01, -8.32886434e-01,\n",
              "        -8.49876121e-01, -8.66025404e-01, -8.81318312e-01, -8.95739724e-01,\n",
              "        -9.09275378e-01, -9.21911890e-01, -9.33636764e-01, -9.44438405e-01,\n",
              "        -9.54306134e-01, -9.63230191e-01, -9.71201752e-01, -9.78212935e-01,\n",
              "        -9.84256806e-01, -9.89327390e-01, -9.93419671e-01, -9.96529603e-01,\n",
              "        -9.98654111e-01, -9.99791094e-01, -9.99939428e-01, -9.99098966e-01,\n",
              "        -9.97270539e-01, -9.94455956e-01, -9.90657999e-01, -9.85880423e-01,\n",
              "        -9.80127955e-01, -9.73406281e-01, -9.65722048e-01, -9.57082856e-01,\n",
              "        -9.47497247e-01, -9.36974699e-01, -9.25525619e-01, -9.13161327e-01,\n",
              "        -8.99894051e-01, -8.85736908e-01, -8.70703900e-01, -8.54809891e-01,\n",
              "        -8.38070599e-01, -8.20502575e-01, -8.02123193e-01, -7.82950626e-01,\n",
              "        -7.63003834e-01, -7.42302542e-01, -7.20867219e-01, -6.98719062e-01,\n",
              "        -6.75879973e-01, -6.52372537e-01, -6.28219997e-01, -6.03446239e-01,\n",
              "        -5.78075760e-01, -5.52133646e-01, -5.25645553e-01, -4.98637671e-01,\n",
              "        -4.71136709e-01, -4.43169861e-01, -4.14764781e-01, -3.85949559e-01,\n",
              "        -3.56752688e-01, -3.27203041e-01, -2.97329837e-01, -2.67162616e-01,\n",
              "        -2.36731210e-01, -2.06065711e-01, -1.75196443e-01, -1.44153931e-01,\n",
              "        -1.12968871e-01, -8.16721019e-02, -5.02945704e-02, -1.88673048e-02,\n",
              "         1.25786178e-02,  4.40121020e-02,  7.54020646e-02,  1.06717465e-01,\n",
              "         1.37927338e-01,  1.69000820e-01,  1.99907185e-01,  2.30615871e-01,\n",
              "         2.61096510e-01,  2.91318963e-01,  3.21253344e-01,  3.50870051e-01,\n",
              "         3.80139798e-01,  4.09033642e-01,  4.37523010e-01,  4.65579732e-01,\n",
              "         4.93176062e-01,  5.20284712e-01,  5.46878875e-01,  5.72932255e-01,\n",
              "         5.98419086e-01,  6.23314168e-01,  6.47592882e-01,  6.71231219e-01,\n",
              "         6.94205806e-01,  7.16493923e-01,  7.38073532e-01,  7.58923291e-01,\n",
              "         7.79022586e-01,  7.98351539e-01,  8.16891037e-01,  8.34622748e-01,\n",
              "         8.51529138e-01,  8.67593488e-01,  8.82799913e-01,  8.97133376e-01,\n",
              "         9.10579704e-01,  9.23125599e-01,  9.34758657e-01,  9.45467373e-01,\n",
              "         9.55241158e-01,  9.64070347e-01,  9.71946209e-01,  9.78860957e-01,\n",
              "         9.84807753e-01,  9.89780716e-01,  9.93774928e-01,  9.96786440e-01,\n",
              "         9.98812274e-01,  9.99850427e-01,  9.99899872e-01,  9.98960560e-01,\n",
              "         9.97033420e-01,  9.94120357e-01,  9.90224253e-01,  9.85348960e-01,\n",
              "         9.79499299e-01,  9.72681055e-01,  9.64900969e-01,  9.56166735e-01,\n",
              "         9.46486990e-01,  9.35871306e-01,  9.24330180e-01,  9.11875024e-01,\n",
              "         8.98518156e-01,  8.84272783e-01,  8.69152992e-01,  8.53173733e-01,\n",
              "         8.36350809e-01,  8.18700854e-01,  8.00241323e-01,  7.80990468e-01,\n",
              "         7.60967326e-01,  7.40191697e-01,  7.18684125e-01,  6.96465878e-01,\n",
              "         6.73558927e-01,  6.49985923e-01,  6.25770177e-01,  6.00935634e-01,\n",
              "         5.75506853e-01,  5.49508978e-01,  5.22967718e-01,  4.95909319e-01,\n",
              "         4.68360536e-01,  4.40348613e-01,  4.11901248e-01,  3.83046573e-01,\n",
              "         3.53813119e-01,  3.24229795e-01,  2.94325855e-01,  2.64130869e-01,\n",
              "         2.33674696e-01,  2.02987452e-01,  1.72099483e-01,  1.41041332e-01,\n",
              "         1.09843712e-01,  7.85374716e-02,  4.71535694e-02,  1.57230391e-02,\n",
              "        -1.57230391e-02, -4.71535694e-02, -7.85374716e-02, -1.09843712e-01,\n",
              "        -1.41041332e-01, -1.72099483e-01, -2.02987452e-01, -2.33674696e-01,\n",
              "        -2.64130869e-01, -2.94325855e-01, -3.24229795e-01, -3.53813119e-01,\n",
              "        -3.83046573e-01, -4.11901248e-01, -4.40348613e-01, -4.68360536e-01,\n",
              "        -4.95909319e-01, -5.22967718e-01, -5.49508978e-01, -5.75506853e-01,\n",
              "        -6.00935634e-01, -6.25770177e-01, -6.49985923e-01, -6.73558927e-01,\n",
              "        -6.96465878e-01, -7.18684125e-01, -7.40191697e-01, -7.60967326e-01,\n",
              "        -7.80990468e-01, -8.00241323e-01, -8.18700854e-01, -8.36350809e-01,\n",
              "        -8.53173733e-01, -8.69152992e-01, -8.84272783e-01, -8.98518156e-01,\n",
              "        -9.11875024e-01, -9.24330180e-01, -9.35871306e-01, -9.46486990e-01,\n",
              "        -9.56166735e-01, -9.64900969e-01, -9.72681055e-01, -9.79499299e-01,\n",
              "        -9.85348960e-01, -9.90224253e-01, -9.94120357e-01, -9.97033420e-01,\n",
              "        -9.98960560e-01, -9.99899872e-01, -9.99850427e-01, -9.98812274e-01,\n",
              "        -9.96786440e-01, -9.93774928e-01, -9.89780716e-01, -9.84807753e-01,\n",
              "        -9.78860957e-01, -9.71946209e-01, -9.64070347e-01, -9.55241158e-01,\n",
              "        -9.45467373e-01, -9.34758657e-01, -9.23125599e-01, -9.10579704e-01,\n",
              "        -8.97133376e-01, -8.82799913e-01, -8.67593488e-01, -8.51529138e-01,\n",
              "        -8.34622748e-01, -8.16891037e-01, -7.98351539e-01, -7.79022586e-01,\n",
              "        -7.58923291e-01, -7.38073532e-01, -7.16493923e-01, -6.94205806e-01,\n",
              "        -6.71231219e-01, -6.47592882e-01, -6.23314168e-01, -5.98419086e-01,\n",
              "        -5.72932255e-01, -5.46878875e-01, -5.20284712e-01, -4.93176062e-01,\n",
              "        -4.65579732e-01, -4.37523010e-01, -4.09033642e-01, -3.80139798e-01,\n",
              "        -3.50870051e-01, -3.21253344e-01, -2.91318963e-01, -2.61096510e-01,\n",
              "        -2.30615871e-01, -1.99907185e-01, -1.69000820e-01, -1.37927338e-01,\n",
              "        -1.06717465e-01, -7.54020646e-02, -4.40121020e-02, -1.25786178e-02,\n",
              "         1.88673048e-02,  5.02945704e-02,  8.16721019e-02,  1.12968871e-01,\n",
              "         1.44153931e-01,  1.75196443e-01,  2.06065711e-01,  2.36731210e-01,\n",
              "         2.67162616e-01,  2.97329837e-01,  3.27203041e-01,  3.56752688e-01,\n",
              "         3.85949559e-01,  4.14764781e-01,  4.43169861e-01,  4.71136709e-01,\n",
              "         4.98637671e-01,  5.25645553e-01,  5.52133646e-01,  5.78075760e-01,\n",
              "         6.03446239e-01,  6.28219997e-01,  6.52372537e-01,  6.75879973e-01,\n",
              "         6.98719062e-01,  7.20867219e-01,  7.42302542e-01,  7.63003834e-01,\n",
              "         7.82950626e-01,  8.02123193e-01,  8.20502575e-01,  8.38070599e-01,\n",
              "         8.54809891e-01,  8.70703900e-01,  8.85736908e-01,  8.99894051e-01,\n",
              "         9.13161327e-01,  9.25525619e-01,  9.36974699e-01,  9.47497247e-01,\n",
              "         9.57082856e-01,  9.65722048e-01,  9.73406281e-01,  9.80127955e-01,\n",
              "         9.85880423e-01,  9.90657999e-01,  9.94455956e-01,  9.97270539e-01,\n",
              "         9.99098966e-01,  9.99939428e-01,  9.99791094e-01,  9.98654111e-01,\n",
              "         9.96529603e-01,  9.93419671e-01,  9.89327390e-01,  9.84256806e-01,\n",
              "         9.78212935e-01,  9.71201752e-01,  9.63230191e-01,  9.54306134e-01,\n",
              "         9.44438405e-01,  9.33636764e-01,  9.21911890e-01,  9.09275378e-01,\n",
              "         8.95739724e-01,  8.81318312e-01,  8.66025404e-01,  8.49876121e-01,\n",
              "         8.32886434e-01,  8.15073141e-01,  7.96453860e-01,  7.77046999e-01,\n",
              "         7.56871752e-01,  7.35948067e-01,  7.14296636e-01,  6.91938869e-01,\n",
              "         6.68896874e-01,  6.45193436e-01,  6.20851995e-01,  5.95896621e-01,\n",
              "         5.70351991e-01,  5.44243365e-01,  5.17596560e-01,  4.90437928e-01,\n",
              "         4.62794323e-01,  4.34693081e-01,  4.06161991e-01,  3.77229264e-01,\n",
              "         3.47923513e-01,  3.18273715e-01,  2.88309190e-01,  2.58059569e-01,\n",
              "         2.27554765e-01,  1.96824941e-01,  1.65900487e-01,  1.34811980e-01,\n",
              "         1.03590164e-01,  7.22659119e-02,  4.08701994e-02,  9.43407223e-03,\n",
              "        -2.20113839e-02, -5.34350740e-02, -8.48059245e-02, -1.16092914e-01,\n",
              "        -1.47265105e-01, -1.78291671e-01, -2.09141933e-01, -2.39785383e-01,\n",
              "        -2.70191721e-01, -3.00330878e-01, -3.30173050e-01, -3.59688730e-01,\n",
              "        -3.88848729e-01, -4.17624212e-01, -4.45986726e-01, -4.73908223e-01,\n",
              "        -5.01361093e-01, -5.28318189e-01, -5.54752854e-01, -5.80638949e-01,\n",
              "        -6.05950876e-01, -6.30663605e-01, -6.54752698e-01, -6.78194336e-01,\n",
              "        -7.00965337e-01, -7.23043184e-01, -7.44406046e-01, -7.65032797e-01,\n",
              "        -7.84903042e-01, -8.03997130e-01, -8.22296182e-01, -8.39782100e-01,\n",
              "        -8.56437596e-01, -8.72246198e-01, -8.87192274e-01, -9.01261046e-01,\n",
              "        -9.14438599e-01, -9.26711905e-01, -9.38068827e-01, -9.48498134e-01,\n",
              "        -9.57989512e-01, -9.66533578e-01, -9.74121880e-01, -9.80746917e-01,\n",
              "        -9.86402137e-01, -9.91081947e-01, -9.94781719e-01, -9.97497797e-01,\n",
              "        -9.99227492e-01, -9.99969096e-01, -9.99721874e-01, -9.98486072e-01,\n",
              "        -9.96262911e-01, -9.93054589e-01, -9.88864280e-01, -9.83696126e-01,\n",
              "        -9.77555239e-01, -9.70447691e-01, -9.62380509e-01, -9.53361672e-01,\n",
              "        -9.43400098e-01, -9.32505637e-01, -9.20689063e-01, -9.07962060e-01,\n",
              "        -8.94337213e-01, -8.79827996e-01, -8.64448755e-01, -8.48214700e-01,\n",
              "        -8.31141882e-01, -8.13247185e-01, -7.94548304e-01, -7.75063729e-01,\n",
              "        -7.54812728e-01, -7.33815325e-01, -7.12092285e-01, -6.89665089e-01,\n",
              "        -6.66555913e-01, -6.42787610e-01, -6.18383682e-01, -5.93368262e-01,\n",
              "        -5.67766086e-01, -5.41602472e-01, -5.14903290e-01, -4.87694944e-01,\n",
              "        -4.60004337e-01, -4.31858853e-01, -4.03286322e-01, -3.74315000e-01,\n",
              "        -3.44973534e-01, -3.15290939e-01, -2.85296566e-01, -2.55020076e-01,\n",
              "        -2.24491409e-01, -1.93740751e-01, -1.62798512e-01, -1.31695289e-01,\n",
              "        -1.00461838e-01, -6.91290446e-02, -3.77278927e-02, -6.28943332e-03,\n",
              "         2.51552454e-02,  5.65750492e-02,  8.79389084e-02,  1.19215809e-01,\n",
              "         1.50374822e-01,  1.81385136e-01,  2.12216086e-01,  2.42837185e-01,\n",
              "         2.73218154e-01,  3.03328948e-01,  3.33139795e-01,  3.62621214e-01,\n",
              "         3.91744053e-01,  4.20479513e-01,  4.48799180e-01,  4.76675049e-01,\n",
              "         5.04079556e-01,  5.30985600e-01,  5.57366576e-01,  5.83196397e-01,\n",
              "         6.08449521e-01,  6.33100976e-01,  6.57126385e-01,  6.80501991e-01,\n",
              "         7.03204679e-01,  7.25211999e-01,  7.46502188e-01,  7.67054195e-01,\n",
              "         7.86847695e-01,  8.05863117e-01,  8.24081656e-01,  8.41485297e-01,\n",
              "         8.58056831e-01,  8.73779870e-01,  8.88638867e-01,  9.02619128e-01,\n",
              "         9.15706829e-01,  9.27889027e-01,  9.39153678e-01,  9.49489640e-01,\n",
              "         9.58886695e-01,  9.67335548e-01,  9.74827847e-01,  9.81356181e-01,\n",
              "         9.86914095e-01,  9.91496094e-01,  9.95097645e-01,  9.97715189e-01,\n",
              "         9.99346136e-01,  9.99988874e-01,  9.99642768e-01,  9.98308158e-01,\n",
              "         9.95986366e-01,  9.92679687e-01,  9.88391391e-01,  9.83125718e-01,\n",
              "         9.76887875e-01,  9.69684032e-01,  9.61521310e-01,  9.52407783e-01,\n",
              "         9.42352462e-01,  9.31365289e-01,  9.19457131e-01,  9.06639763e-01,\n",
              "         8.92925858e-01,  8.78328979e-01,  8.62863558e-01,  8.46544890e-01,\n",
              "         8.29389112e-01,  8.11413186e-01,  7.92634891e-01,  7.73072793e-01,\n",
              "         7.52746238e-01,  7.31675326e-01,  7.09880892e-01,  6.87384489e-01,\n",
              "         6.64208361e-01,  6.40375427e-01,  6.15909254e-01,  5.90834035e-01,\n",
              "         5.65174567e-01,  5.38956222e-01,  5.12204928e-01,  4.84947137e-01,\n",
              "         4.57209803e-01,  4.29020354e-01,  4.00406666e-01,  3.71397034e-01,\n",
              "         3.42020143e-01,  3.12305044e-01,  2.82281120e-01,  2.51978061e-01,\n",
              "         2.21425832e-01,  1.90654645e-01,  1.59694928e-01,  1.28577295e-01,\n",
              "         9.73325184e-02,  6.59914936e-02,  3.45852128e-02,  3.14473221e-03,\n",
              "        -2.82988581e-02, -5.97144649e-02, -9.10710227e-02, -1.22337524e-01,\n",
              "        -1.53483052e-01, -1.84476807e-01, -2.15288141e-01, -2.45886586e-01,\n",
              "        -2.76241884e-01, -3.06324020e-01, -3.36103245e-01, -3.65550112e-01,\n",
              "        -3.94635503e-01, -4.23330656e-01, -4.51607196e-01, -4.79437162e-01,\n",
              "        -5.06793034e-01, -5.33647760e-01, -5.59974786e-01, -5.85748078e-01,\n",
              "        -6.10942149e-01, -6.35532086e-01, -6.59493574e-01, -6.82802917e-01,\n",
              "        -7.05437067e-01, -7.27373642e-01, -7.48590948e-01, -7.69068007e-01,\n",
              "        -7.88784567e-01, -8.07721134e-01, -8.25858981e-01, -8.43180172e-01,\n",
              "        -8.59667580e-01, -8.75304901e-01, -8.90076671e-01, -9.03968283e-01,\n",
              "        -9.16966002e-01, -9.29056973e-01, -9.40229241e-01, -9.50471757e-01,\n",
              "        -9.59774394e-01, -9.68127953e-01, -9.75524172e-01, -9.81955739e-01,\n",
              "        -9.87416293e-01, -9.91900435e-01, -9.95403731e-01, -9.97922715e-01,\n",
              "        -9.99454898e-01, -9.99998764e-01, -9.99553775e-01, -9.98120372e-01,\n",
              "        -9.95699972e-01, -9.92294968e-01, -9.87908727e-01, -9.82545587e-01,\n",
              "        -9.76210851e-01, -9.68910783e-01, -9.60652602e-01, -9.51444475e-01,\n",
              "        -9.41295506e-01, -9.30215731e-01, -9.18216107e-01, -9.05308500e-01,\n",
              "        -8.91505673e-01, -8.76821275e-01, -8.61269828e-01, -8.44866709e-01,\n",
              "        -8.27628139e-01, -8.09571163e-01, -7.90713639e-01, -7.71074213e-01,\n",
              "        -7.50672305e-01, -7.29528091e-01, -7.07662479e-01, -6.85097090e-01,\n",
              "        -6.61854240e-01, -6.37956911e-01, -6.13428734e-01, -5.88293965e-01,\n",
              "        -5.62577458e-01, -5.36304643e-01, -5.09501500e-01, -4.82194534e-01,\n",
              "        -4.54410746e-01, -4.26177612e-01, -3.97523050e-01, -3.68475395e-01,\n",
              "        -3.39063370e-01, -3.09316061e-01, -2.79262883e-01, -2.48933554e-01,\n",
              "        -2.18358066e-01, -1.87566653e-01, -1.56589764e-01, -1.25458030e-01,\n",
              "        -9.42022363e-02, -6.28532900e-02, -3.14421909e-02, -1.22464680e-15]))"
            ]
          },
          "metadata": {},
          "execution_count": 88
        }
      ]
    },
    {
      "cell_type": "code",
      "source": [
        "fig, ax = plt.subplots()\n",
        "ax.plot(X, Y)\n",
        "fig.savefig('my-first-figure.png', dpi=300)\n",
        "plt.show()"
      ],
      "metadata": {
        "colab": {
          "base_uri": "https://localhost:8080/",
          "height": 430
        },
        "id": "u86be38_0NBu",
        "outputId": "fa63ed1b-abe7-4f12-bab4-e66982f5c9a0"
      },
      "execution_count": 90,
      "outputs": [
        {
          "output_type": "display_data",
          "data": {
            "text/plain": [
              "<Figure size 640x480 with 1 Axes>"
            ],
            "image/png": "[encoded data removed]"
          },
          "metadata": {}
        }
      ]
    },
    {
      "cell_type": "code",
      "source": [
        "X = np.random.uniform(0, 1, 100)\n",
        "Y = np.random.uniform(0, 1, 100)\n",
        "plt.scatter(X, Y)\n",
        "plt.show()"
      ],
      "metadata": {
        "colab": {
          "base_uri": "https://localhost:8080/",
          "height": 430
        },
        "id": "P3lyGDMI0pHo",
        "outputId": "ba948764-c72e-4ab3-c95f-63fbbe091df4"
      },
      "execution_count": 68,
      "outputs": [
        {
          "output_type": "display_data",
          "data": {
            "text/plain": [
              "<Figure size 640x480 with 1 Axes>"
            ],
            "image/png": "[encoded data removed]"
          },
          "metadata": {}
        }
      ]
    },
    {
      "cell_type": "code",
      "source": [
        "X = np.arange(10)\n",
        "Y = np.random.uniform(1, 10, 10)\n",
        "plt.bar(X, Y)\n",
        "plt.show()"
      ],
      "metadata": {
        "colab": {
          "base_uri": "https://localhost:8080/",
          "height": 430
        },
        "id": "bH5clg8B03P5",
        "outputId": "1f9d5e6e-c72e-476c-eb2c-463d925dbdd0"
      },
      "execution_count": 69,
      "outputs": [
        {
          "output_type": "display_data",
          "data": {
            "text/plain": [
              "<Figure size 640x480 with 1 Axes>"
            ],
            "image/png": "[encoded data removed]"
          },
          "metadata": {}
        }
      ]
    },
    {
      "cell_type": "code",
      "source": [
        "Z = np.random.uniform(0, 1, (8, 8))\n",
        "plt.contourf(Z)\n",
        "plt.show()"
      ],
      "metadata": {
        "colab": {
          "base_uri": "https://localhost:8080/",
          "height": 435
        },
        "id": "iPjOMEgF09aw",
        "outputId": "999cff5f-7ad3-4869-9d8b-245998516a5f"
      },
      "execution_count": 70,
      "outputs": [
        {
          "output_type": "display_data",
          "data": {
            "text/plain": [
              "<Figure size 640x480 with 1 Axes>"
            ],
            "image/png": "[encoded data removed]"
          },
          "metadata": {}
        }
      ]
    },
    {
      "cell_type": "code",
      "source": [
        "Z = np.random.uniform(0, 1, 4)\n",
        "plt.pie(Z)\n",
        "plt.show()\n"
      ],
      "metadata": {
        "colab": {
          "base_uri": "https://localhost:8080/",
          "height": 406
        },
        "id": "oHygOHFF1K7l",
        "outputId": "9e361925-2cbc-4b66-fcac-31fc73ff5ea2"
      },
      "execution_count": 72,
      "outputs": [
        {
          "output_type": "display_data",
          "data": {
            "text/plain": [
              "<Figure size 640x480 with 1 Axes>"
            ],
            "image/png": "[encoded data removed]"
          },
          "metadata": {}
        }
      ]
    },
    {
      "cell_type": "code",
      "source": [
        "Z = np.random.normal(0, 1, (100, 3))\n",
        "plt.boxplot(Z)\n",
        "plt.show()\n"
      ],
      "metadata": {
        "colab": {
          "base_uri": "https://localhost:8080/",
          "height": 430
        },
        "id": "ZDp9RsXu1tHp",
        "outputId": "bf141086-55c7-4d7f-b26d-1abd3c2a0a0c"
      },
      "execution_count": 74,
      "outputs": [
        {
          "output_type": "display_data",
          "data": {
            "text/plain": [
              "<Figure size 640x480 with 1 Axes>"
            ],
            "image/png": "[encoded data removed]"
          },
          "metadata": {}
        }
      ]
    },
    {
      "cell_type": "code",
      "source": [
        "X = np.linspace(0, 10, 100)\n",
        "Y = np.sin(X)\n",
        "plt.plot(X, Y, color='black',  linewidth=2, marker='o')\n",
        "plt.title(\"A random Graph\")\n",
        "plt.xlabel('X-axis')\n",
        "plt.ylabel('Y-axis')\n",
        "plt.show()"
      ],
      "metadata": {
        "colab": {
          "base_uri": "https://localhost:8080/",
          "height": 472
        },
        "id": "STPJ0GNN2CFo",
        "outputId": "835e2cd2-3edb-426f-d590-3797960aba81"
      },
      "execution_count": 87,
      "outputs": [
        {
          "output_type": "display_data",
          "data": {
            "text/plain": [
              "<Figure size 640x480 with 1 Axes>"
            ],
            "image/png": "[encoded data removed]"
          },
          "metadata": {}
        }
      ]
    },
    {
      "cell_type": "code",
      "source": [],
      "metadata": {
        "id": "26AbqZXv3K9C"
      },
      "execution_count": null,
      "outputs": []
    }
  ]
}